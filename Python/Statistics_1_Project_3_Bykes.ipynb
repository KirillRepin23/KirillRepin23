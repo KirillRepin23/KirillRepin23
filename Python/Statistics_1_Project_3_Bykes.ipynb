{
 "cells": [
  {
   "cell_type": "markdown",
   "id": "bb4df077",
   "metadata": {},
   "source": [
    "**Представьте, что вы работаете аналитиком в компании, которая занимается арендой велосипедов. Коллега из офиса в Лондоне прислал вам данные за два года: с 4 января 2015 по 3 января 2017. Вам предстоит изучить динамику числа аренд, наличие связи с погодными условиями и выходными, а также объяснить несколько аномалий на графике.**\n",
    "\n",
    " **Описание данных**\n",
    " - timestamp – дата и время (точность до часа)\n",
    " - cnt – количество аренд велосипедов за этот час\n",
    " - t1 – температура, в С\n",
    " - t2 – температура \"ощущается как\", в С \n",
    " - hum – влажность (%)\n",
    " - wind_speed – скорость ветра, км/ч\n",
    " - weather_code – погодные условия:\n",
    "   - 1 – ясно (SKC)\n",
    "   - 2 – преимущественно ясно / встречаются отдельные облака (SCT)\n",
    "   - 3 – облачно / значительные облака (BKN)\n",
    "   - 4 – пасмурно (OVC)\n",
    "   - 7 – небольшой дождь Rain/ light Rain shower/ Light rain \n",
    "   - 10 – дождь с грозой\n",
    "   - 26 – снегопад \n",
    "   - 94 – ледяной туман (да, такое бывает!)\n",
    " - isholiday – является ли день праздником (1 – праздник, 0 – нет)\n",
    " - isweekend –  является ли день выходным (1 – выходной, 0 – нет)\n",
    " - season – метеорологический сезон (0 – весна, 1 – лето, 2 – осень, 3 – зима)\n",
    "\n",
    "\n",
    " **Загрузите данные, проверьте число наблюдений и столбцов, наличие пропусков. Убедитесь, что типы данных были прочитаны правильно. При необходимости – приведите переменные к нужным типам.**\n",
    "\n",
    "**Есть ли в данных пропущенные значения?**"
   ]
  },
  {
   "cell_type": "code",
   "execution_count": 1,
   "id": "7c01362e",
   "metadata": {},
   "outputs": [],
   "source": [
    "#Загружаем необходимые библиотеки\n",
    "\n",
    "import pandas as pd\n",
    "import numpy as np\n",
    "%matplotlib inline\n",
    "import matplotlib.pyplot as plt\n",
    "import seaborn as sns\n",
    "import scipy as sp"
   ]
  },
  {
   "cell_type": "code",
   "execution_count": 2,
   "id": "6e7371e7",
   "metadata": {},
   "outputs": [],
   "source": [
    "# Считываем данные из .csv файла\n",
    "\n",
    "df = pd.read_csv('london.csv')"
   ]
  },
  {
   "cell_type": "code",
   "execution_count": 3,
   "id": "aa4f79f7",
   "metadata": {},
   "outputs": [
    {
     "data": {
      "text/html": [
       "<div>\n",
       "<style scoped>\n",
       "    .dataframe tbody tr th:only-of-type {\n",
       "        vertical-align: middle;\n",
       "    }\n",
       "\n",
       "    .dataframe tbody tr th {\n",
       "        vertical-align: top;\n",
       "    }\n",
       "\n",
       "    .dataframe thead th {\n",
       "        text-align: right;\n",
       "    }\n",
       "</style>\n",
       "<table border=\"1\" class=\"dataframe\">\n",
       "  <thead>\n",
       "    <tr style=\"text-align: right;\">\n",
       "      <th></th>\n",
       "      <th>timestamp</th>\n",
       "      <th>cnt</th>\n",
       "      <th>t1</th>\n",
       "      <th>t2</th>\n",
       "      <th>hum</th>\n",
       "      <th>wind_speed</th>\n",
       "      <th>weather_code</th>\n",
       "      <th>is_holiday</th>\n",
       "      <th>is_weekend</th>\n",
       "      <th>season</th>\n",
       "    </tr>\n",
       "  </thead>\n",
       "  <tbody>\n",
       "    <tr>\n",
       "      <th>0</th>\n",
       "      <td>2015-01-04 00:00:00</td>\n",
       "      <td>182</td>\n",
       "      <td>3.0</td>\n",
       "      <td>2.0</td>\n",
       "      <td>93.0</td>\n",
       "      <td>6.0</td>\n",
       "      <td>3.0</td>\n",
       "      <td>0.0</td>\n",
       "      <td>1.0</td>\n",
       "      <td>3.0</td>\n",
       "    </tr>\n",
       "    <tr>\n",
       "      <th>1</th>\n",
       "      <td>2015-01-04 01:00:00</td>\n",
       "      <td>138</td>\n",
       "      <td>3.0</td>\n",
       "      <td>2.5</td>\n",
       "      <td>93.0</td>\n",
       "      <td>5.0</td>\n",
       "      <td>1.0</td>\n",
       "      <td>0.0</td>\n",
       "      <td>1.0</td>\n",
       "      <td>3.0</td>\n",
       "    </tr>\n",
       "    <tr>\n",
       "      <th>2</th>\n",
       "      <td>2015-01-04 02:00:00</td>\n",
       "      <td>134</td>\n",
       "      <td>2.5</td>\n",
       "      <td>2.5</td>\n",
       "      <td>96.5</td>\n",
       "      <td>0.0</td>\n",
       "      <td>1.0</td>\n",
       "      <td>0.0</td>\n",
       "      <td>1.0</td>\n",
       "      <td>3.0</td>\n",
       "    </tr>\n",
       "    <tr>\n",
       "      <th>3</th>\n",
       "      <td>2015-01-04 03:00:00</td>\n",
       "      <td>72</td>\n",
       "      <td>2.0</td>\n",
       "      <td>2.0</td>\n",
       "      <td>100.0</td>\n",
       "      <td>0.0</td>\n",
       "      <td>1.0</td>\n",
       "      <td>0.0</td>\n",
       "      <td>1.0</td>\n",
       "      <td>3.0</td>\n",
       "    </tr>\n",
       "    <tr>\n",
       "      <th>4</th>\n",
       "      <td>2015-01-04 04:00:00</td>\n",
       "      <td>47</td>\n",
       "      <td>2.0</td>\n",
       "      <td>0.0</td>\n",
       "      <td>93.0</td>\n",
       "      <td>6.5</td>\n",
       "      <td>1.0</td>\n",
       "      <td>0.0</td>\n",
       "      <td>1.0</td>\n",
       "      <td>3.0</td>\n",
       "    </tr>\n",
       "  </tbody>\n",
       "</table>\n",
       "</div>"
      ],
      "text/plain": [
       "             timestamp  cnt   t1   t2    hum  wind_speed  weather_code  \\\n",
       "0  2015-01-04 00:00:00  182  3.0  2.0   93.0         6.0           3.0   \n",
       "1  2015-01-04 01:00:00  138  3.0  2.5   93.0         5.0           1.0   \n",
       "2  2015-01-04 02:00:00  134  2.5  2.5   96.5         0.0           1.0   \n",
       "3  2015-01-04 03:00:00   72  2.0  2.0  100.0         0.0           1.0   \n",
       "4  2015-01-04 04:00:00   47  2.0  0.0   93.0         6.5           1.0   \n",
       "\n",
       "   is_holiday  is_weekend  season  \n",
       "0         0.0         1.0     3.0  \n",
       "1         0.0         1.0     3.0  \n",
       "2         0.0         1.0     3.0  \n",
       "3         0.0         1.0     3.0  \n",
       "4         0.0         1.0     3.0  "
      ]
     },
     "execution_count": 3,
     "metadata": {},
     "output_type": "execute_result"
    }
   ],
   "source": [
    "# Проверяем информацию о ДФ\n",
    "\n",
    "df.head()"
   ]
  },
  {
   "cell_type": "code",
   "execution_count": 4,
   "id": "64ba09c5",
   "metadata": {},
   "outputs": [
    {
     "name": "stdout",
     "output_type": "stream",
     "text": [
      "<class 'pandas.core.frame.DataFrame'>\n",
      "RangeIndex: 17414 entries, 0 to 17413\n",
      "Data columns (total 10 columns):\n",
      " #   Column        Non-Null Count  Dtype  \n",
      "---  ------        --------------  -----  \n",
      " 0   timestamp     17414 non-null  object \n",
      " 1   cnt           17414 non-null  int64  \n",
      " 2   t1            17414 non-null  float64\n",
      " 3   t2            17414 non-null  float64\n",
      " 4   hum           17414 non-null  float64\n",
      " 5   wind_speed    17414 non-null  float64\n",
      " 6   weather_code  17414 non-null  float64\n",
      " 7   is_holiday    17414 non-null  float64\n",
      " 8   is_weekend    17414 non-null  float64\n",
      " 9   season        17414 non-null  float64\n",
      "dtypes: float64(8), int64(1), object(1)\n",
      "memory usage: 1.3+ MB\n"
     ]
    }
   ],
   "source": [
    "df.info()"
   ]
  },
  {
   "cell_type": "code",
   "execution_count": 5,
   "id": "3eb56d67",
   "metadata": {},
   "outputs": [
    {
     "data": {
      "text/html": [
       "<div>\n",
       "<style scoped>\n",
       "    .dataframe tbody tr th:only-of-type {\n",
       "        vertical-align: middle;\n",
       "    }\n",
       "\n",
       "    .dataframe tbody tr th {\n",
       "        vertical-align: top;\n",
       "    }\n",
       "\n",
       "    .dataframe thead th {\n",
       "        text-align: right;\n",
       "    }\n",
       "</style>\n",
       "<table border=\"1\" class=\"dataframe\">\n",
       "  <thead>\n",
       "    <tr style=\"text-align: right;\">\n",
       "      <th></th>\n",
       "      <th>cnt</th>\n",
       "      <th>t1</th>\n",
       "      <th>t2</th>\n",
       "      <th>hum</th>\n",
       "      <th>wind_speed</th>\n",
       "      <th>weather_code</th>\n",
       "      <th>is_holiday</th>\n",
       "      <th>is_weekend</th>\n",
       "      <th>season</th>\n",
       "    </tr>\n",
       "  </thead>\n",
       "  <tbody>\n",
       "    <tr>\n",
       "      <th>count</th>\n",
       "      <td>17414.000000</td>\n",
       "      <td>17414.000000</td>\n",
       "      <td>17414.000000</td>\n",
       "      <td>17414.000000</td>\n",
       "      <td>17414.000000</td>\n",
       "      <td>17414.000000</td>\n",
       "      <td>17414.000000</td>\n",
       "      <td>17414.000000</td>\n",
       "      <td>17414.000000</td>\n",
       "    </tr>\n",
       "    <tr>\n",
       "      <th>mean</th>\n",
       "      <td>1143.101642</td>\n",
       "      <td>12.468091</td>\n",
       "      <td>11.520836</td>\n",
       "      <td>72.324954</td>\n",
       "      <td>15.913063</td>\n",
       "      <td>2.722752</td>\n",
       "      <td>0.022051</td>\n",
       "      <td>0.285403</td>\n",
       "      <td>1.492075</td>\n",
       "    </tr>\n",
       "    <tr>\n",
       "      <th>std</th>\n",
       "      <td>1085.108068</td>\n",
       "      <td>5.571818</td>\n",
       "      <td>6.615145</td>\n",
       "      <td>14.313186</td>\n",
       "      <td>7.894570</td>\n",
       "      <td>2.341163</td>\n",
       "      <td>0.146854</td>\n",
       "      <td>0.451619</td>\n",
       "      <td>1.118911</td>\n",
       "    </tr>\n",
       "    <tr>\n",
       "      <th>min</th>\n",
       "      <td>0.000000</td>\n",
       "      <td>-1.500000</td>\n",
       "      <td>-6.000000</td>\n",
       "      <td>20.500000</td>\n",
       "      <td>0.000000</td>\n",
       "      <td>1.000000</td>\n",
       "      <td>0.000000</td>\n",
       "      <td>0.000000</td>\n",
       "      <td>0.000000</td>\n",
       "    </tr>\n",
       "    <tr>\n",
       "      <th>25%</th>\n",
       "      <td>257.000000</td>\n",
       "      <td>8.000000</td>\n",
       "      <td>6.000000</td>\n",
       "      <td>63.000000</td>\n",
       "      <td>10.000000</td>\n",
       "      <td>1.000000</td>\n",
       "      <td>0.000000</td>\n",
       "      <td>0.000000</td>\n",
       "      <td>0.000000</td>\n",
       "    </tr>\n",
       "    <tr>\n",
       "      <th>50%</th>\n",
       "      <td>844.000000</td>\n",
       "      <td>12.500000</td>\n",
       "      <td>12.500000</td>\n",
       "      <td>74.500000</td>\n",
       "      <td>15.000000</td>\n",
       "      <td>2.000000</td>\n",
       "      <td>0.000000</td>\n",
       "      <td>0.000000</td>\n",
       "      <td>1.000000</td>\n",
       "    </tr>\n",
       "    <tr>\n",
       "      <th>75%</th>\n",
       "      <td>1671.750000</td>\n",
       "      <td>16.000000</td>\n",
       "      <td>16.000000</td>\n",
       "      <td>83.000000</td>\n",
       "      <td>20.500000</td>\n",
       "      <td>3.000000</td>\n",
       "      <td>0.000000</td>\n",
       "      <td>1.000000</td>\n",
       "      <td>2.000000</td>\n",
       "    </tr>\n",
       "    <tr>\n",
       "      <th>max</th>\n",
       "      <td>7860.000000</td>\n",
       "      <td>34.000000</td>\n",
       "      <td>34.000000</td>\n",
       "      <td>100.000000</td>\n",
       "      <td>56.500000</td>\n",
       "      <td>26.000000</td>\n",
       "      <td>1.000000</td>\n",
       "      <td>1.000000</td>\n",
       "      <td>3.000000</td>\n",
       "    </tr>\n",
       "  </tbody>\n",
       "</table>\n",
       "</div>"
      ],
      "text/plain": [
       "                cnt            t1            t2           hum    wind_speed  \\\n",
       "count  17414.000000  17414.000000  17414.000000  17414.000000  17414.000000   \n",
       "mean    1143.101642     12.468091     11.520836     72.324954     15.913063   \n",
       "std     1085.108068      5.571818      6.615145     14.313186      7.894570   \n",
       "min        0.000000     -1.500000     -6.000000     20.500000      0.000000   \n",
       "25%      257.000000      8.000000      6.000000     63.000000     10.000000   \n",
       "50%      844.000000     12.500000     12.500000     74.500000     15.000000   \n",
       "75%     1671.750000     16.000000     16.000000     83.000000     20.500000   \n",
       "max     7860.000000     34.000000     34.000000    100.000000     56.500000   \n",
       "\n",
       "       weather_code    is_holiday    is_weekend        season  \n",
       "count  17414.000000  17414.000000  17414.000000  17414.000000  \n",
       "mean       2.722752      0.022051      0.285403      1.492075  \n",
       "std        2.341163      0.146854      0.451619      1.118911  \n",
       "min        1.000000      0.000000      0.000000      0.000000  \n",
       "25%        1.000000      0.000000      0.000000      0.000000  \n",
       "50%        2.000000      0.000000      0.000000      1.000000  \n",
       "75%        3.000000      0.000000      1.000000      2.000000  \n",
       "max       26.000000      1.000000      1.000000      3.000000  "
      ]
     },
     "execution_count": 5,
     "metadata": {},
     "output_type": "execute_result"
    }
   ],
   "source": [
    "df.describe()"
   ]
  },
  {
   "cell_type": "markdown",
   "id": "a4f5c8c7",
   "metadata": {},
   "source": [
    "**Для начала попробуем посмотреть на число поездок по датам и времени. Постройте график, где:\n",
    "\n",
    " - по оси x – дата (timestamp)\n",
    " - по оси y – число поездок (cnt)\n",
    "\n",
    "\n",
    " **Выберите верные утверждения:**\n",
    " - В выходные поездок точно меньше, чем в будние дни\n",
    " - Очень сложно что-то понять, нужно преобразовать данные, чтобы увидеть тренды **(+)**\n",
    " - Случались только аномальные скачки вверх, вниз ничего не падало"
   ]
  },
  {
   "cell_type": "code",
   "execution_count": 6,
   "id": "9f98ea3a",
   "metadata": {},
   "outputs": [],
   "source": [
    "# Изменяем формат колонки 'timestamp' на datetime для корректного оформления оси Х графиков\n",
    "\n",
    "df['timestamp'] = pd.to_datetime(df.timestamp)"
   ]
  },
  {
   "cell_type": "code",
   "execution_count": 7,
   "id": "0e28f640",
   "metadata": {},
   "outputs": [],
   "source": [
    "# Устанавливаем настройки графика\n",
    "\n",
    "sns.set(font_scale = 1.5,\n",
    "        rc         = {'figure.figsize':(20,7)})\n",
    "\n",
    "sns.set_style('darkgrid',\n",
    "             {'axes.facecolor': '0.9',\n",
    "              'grid.color': '0.5',\n",
    "              'figure.facecolor': '0.95'})"
   ]
  },
  {
   "cell_type": "code",
   "execution_count": 8,
   "id": "0b286ae9",
   "metadata": {},
   "outputs": [
    {
     "data": {
      "image/png": "[encoded data removed]",
      "text/plain": [
       "<Figure size 1440x504 with 1 Axes>"
      ]
     },
     "metadata": {},
     "output_type": "display_data"
    }
   ],
   "source": [
    "ax = sns.lineplot(x='timestamp', y = 'cnt', data = df)\n",
    "\n",
    "# Очень сложно что-то понять, нужно преобразовать данные, чтобы увидеть тренды"
   ]
  },
  {
   "cell_type": "markdown",
   "id": "0fdfc230",
   "metadata": {},
   "source": [
    "**Отлично! Предположим, что данные действительно нужно немного преобразовать. В этом нам поможет resample, с которым вы могли столкнуться в дополнительных темах pandas. Этот метод позволяет преобразовать данные и применить к какому-либо столбцу другой метод (напр. sum). Так можно рассчитать показатели, например, за весь день или месяц, имея данные с точностью до минут.** \n",
    "\n",
    "**Агрегируйте число поездок по дням и визуализируйте результат. Что вы можете сказать о полученном графике?**"
   ]
  },
  {
   "cell_type": "code",
   "execution_count": 9,
   "id": "f2396f93",
   "metadata": {},
   "outputs": [
    {
     "data": {
      "text/plain": [
       "<AxesSubplot:xlabel='timestamp'>"
      ]
     },
     "execution_count": 9,
     "metadata": {},
     "output_type": "execute_result"
    },
    {
     "data": {
      "image/png": "[encoded data removed]",
      "text/plain": [
       "<Figure size 1440x504 with 1 Axes>"
      ]
     },
     "metadata": {},
     "output_type": "display_data"
    }
   ],
   "source": [
    "df.set_index('timestamp')\\\n",
    "  .resample('d')\\\n",
    "  .cnt.sum()\\\n",
    "  .plot()"
   ]
  },
  {
   "cell_type": "markdown",
   "id": "3280bfcd",
   "metadata": {},
   "source": [
    "**Итак, вы обнаружили на графике некоторые скачки. Давайте проверим, что же могло произойти в тот день 🤔.**\n",
    "\n",
    "**Для этого разделим дальнейшие действия на несколько этапов:**\n",
    "\n",
    " - сначала посчитаем скользящее среднее, чтобы сгладить ряд**\n",
    " - далее – разницу между наблюдаемыми и сглаженными значениями\n",
    " - определим верхние и нижние границы 99% доверительного интервала \n",
    "   найдем причины аномалий!\n",
    "\n",
    "**На данном шаге возьмите агрегированные данные по дням с предыдущего шага и посчитайте скользящее среднее с окном 3. В качестве ответа укажите полученное число аренд за 2015-07-09, округлив значение до целого.**"
   ]
  },
  {
   "cell_type": "code",
   "execution_count": 10,
   "id": "f6f8e062",
   "metadata": {},
   "outputs": [],
   "source": [
    "df = df.set_index('timestamp')"
   ]
  },
  {
   "cell_type": "code",
   "execution_count": 11,
   "id": "62247aee",
   "metadata": {},
   "outputs": [
    {
     "data": {
      "text/plain": [
       "50705.0"
      ]
     },
     "execution_count": 11,
     "metadata": {},
     "output_type": "execute_result"
    }
   ],
   "source": [
    "df.resample('d')\\\n",
    "  .cnt\\\n",
    "  .sum()\\\n",
    "  .rolling(3)\\\n",
    "  .mean()['2015-07-09']"
   ]
  },
  {
   "cell_type": "markdown",
   "id": "f18a31eb",
   "metadata": {},
   "source": [
    "**Теперь посчитайте разницу между наблюдаемыми и подсчитанными значениями. Далее – примените функцию для подсчета стандартного отклонения. Например:**\n",
    "\n",
    "c = a - b\n",
    "\n",
    "std = np.std(c)\n",
    "\n",
    "**В качестве ответа введите полученное стандартное отклонение, округленное до 2 знаков после точки.**"
   ]
  },
  {
   "cell_type": "code",
   "execution_count": 12,
   "id": "82d5caa3",
   "metadata": {},
   "outputs": [],
   "source": [
    "# Агрегация cnt по дням без скользящего среднего\n",
    "\n",
    "a = df.resample('d')\\\n",
    "      .cnt\\\n",
    "      .sum()"
   ]
  },
  {
   "cell_type": "code",
   "execution_count": 13,
   "id": "10f308ae",
   "metadata": {},
   "outputs": [],
   "source": [
    "# Агрегация cnt по дням со скользящим средним\n",
    "\n",
    "b = df.resample('d')\\\n",
    "      .cnt\\\n",
    "      .sum()\\\n",
    "      .rolling(3)\\\n",
    "      .mean()"
   ]
  },
  {
   "cell_type": "code",
   "execution_count": 14,
   "id": "925e3dc5",
   "metadata": {},
   "outputs": [],
   "source": [
    "# Путем вычитания b из a находим разницу с\n",
    "\n",
    "c = a - b"
   ]
  },
  {
   "cell_type": "code",
   "execution_count": 15,
   "id": "c3ea6c15",
   "metadata": {},
   "outputs": [
    {
     "data": {
      "text/plain": [
       "4558.59"
      ]
     },
     "execution_count": 15,
     "metadata": {},
     "output_type": "execute_result"
    }
   ],
   "source": [
    "# Высчитываем стандартное отклонение значений с\n",
    "\n",
    "std = np.std(c).round(2)\n",
    "std"
   ]
  },
  {
   "cell_type": "markdown",
   "id": "5c053c06",
   "metadata": {},
   "source": [
    "**Теперь определим границы интервалов. Для этого нужно взять данные, полученные при расчете скользящего среднего, и создать следующие объекты:**\n",
    "\n",
    " - upper_bound – верхняя граница; к средним прибавляем 2.576∗std\n",
    " - lower_bound – нижняя граница; вычитаем 2.576∗std\n",
    "\n",
    "**Полученные значения запишите в новые столбцы датафрейма с агрегированными данными.**\n",
    "\n",
    "**Чему равно значение верхней границы для последнего наблюдения? Ответ укажите с точностью до 2 знаков после точки.**\n",
    "\n",
    "**Note: в качестве std нужно брать стандартное отклонение без округления.**\n",
    "\n",
    "**Note 2: вам может понадобиться убрать даты из индекса - иногда из-за этого колонки могут не присваиваться в датафрейм. Вам пригодится .reset_index().**"
   ]
  },
  {
   "cell_type": "code",
   "execution_count": 16,
   "id": "25c2810a",
   "metadata": {},
   "outputs": [],
   "source": [
    "# Переформатируем ДФ: групировка по дням и сумма по cnt, с обновлением индекса.\n",
    "\n",
    "df_grouped_by_d = df.resample('d')\\\n",
    "       .cnt\\\n",
    "       .sum()\\\n",
    "       .to_frame()\\\n",
    "       .reset_index()"
   ]
  },
  {
   "cell_type": "code",
   "execution_count": 17,
   "id": "3372429e",
   "metadata": {},
   "outputs": [],
   "source": [
    "# Создаем ДФ для ранее вычисленного скользящего среднего\n",
    "\n",
    "rolled_cnt = b.to_frame()\\\n",
    "              .reset_index()"
   ]
  },
  {
   "cell_type": "code",
   "execution_count": 18,
   "id": "0c895ce5",
   "metadata": {},
   "outputs": [],
   "source": [
    "# Добавляем колонку со скользящим средним в ДФ df_grouped_by_d\n",
    "\n",
    "df_grouped_by_d['rolled_cnt'] = rolled_cnt['cnt']"
   ]
  },
  {
   "cell_type": "code",
   "execution_count": 19,
   "id": "6b14245d",
   "metadata": {},
   "outputs": [
    {
     "data": {
      "text/html": [
       "<div>\n",
       "<style scoped>\n",
       "    .dataframe tbody tr th:only-of-type {\n",
       "        vertical-align: middle;\n",
       "    }\n",
       "\n",
       "    .dataframe tbody tr th {\n",
       "        vertical-align: top;\n",
       "    }\n",
       "\n",
       "    .dataframe thead th {\n",
       "        text-align: right;\n",
       "    }\n",
       "</style>\n",
       "<table border=\"1\" class=\"dataframe\">\n",
       "  <thead>\n",
       "    <tr style=\"text-align: right;\">\n",
       "      <th></th>\n",
       "      <th>timestamp</th>\n",
       "      <th>cnt</th>\n",
       "      <th>rolled_cnt</th>\n",
       "    </tr>\n",
       "  </thead>\n",
       "  <tbody>\n",
       "    <tr>\n",
       "      <th>0</th>\n",
       "      <td>2015-01-04</td>\n",
       "      <td>9234</td>\n",
       "      <td>NaN</td>\n",
       "    </tr>\n",
       "    <tr>\n",
       "      <th>1</th>\n",
       "      <td>2015-01-05</td>\n",
       "      <td>20372</td>\n",
       "      <td>NaN</td>\n",
       "    </tr>\n",
       "    <tr>\n",
       "      <th>2</th>\n",
       "      <td>2015-01-06</td>\n",
       "      <td>20613</td>\n",
       "      <td>16739.666667</td>\n",
       "    </tr>\n",
       "    <tr>\n",
       "      <th>3</th>\n",
       "      <td>2015-01-07</td>\n",
       "      <td>21064</td>\n",
       "      <td>20683.000000</td>\n",
       "    </tr>\n",
       "    <tr>\n",
       "      <th>4</th>\n",
       "      <td>2015-01-08</td>\n",
       "      <td>15601</td>\n",
       "      <td>19092.666667</td>\n",
       "    </tr>\n",
       "    <tr>\n",
       "      <th>...</th>\n",
       "      <td>...</td>\n",
       "      <td>...</td>\n",
       "      <td>...</td>\n",
       "    </tr>\n",
       "    <tr>\n",
       "      <th>726</th>\n",
       "      <td>2016-12-30</td>\n",
       "      <td>11566</td>\n",
       "      <td>12682.000000</td>\n",
       "    </tr>\n",
       "    <tr>\n",
       "      <th>727</th>\n",
       "      <td>2016-12-31</td>\n",
       "      <td>11424</td>\n",
       "      <td>12347.333333</td>\n",
       "    </tr>\n",
       "    <tr>\n",
       "      <th>728</th>\n",
       "      <td>2017-01-01</td>\n",
       "      <td>6421</td>\n",
       "      <td>9803.666667</td>\n",
       "    </tr>\n",
       "    <tr>\n",
       "      <th>729</th>\n",
       "      <td>2017-01-02</td>\n",
       "      <td>11823</td>\n",
       "      <td>9889.333333</td>\n",
       "    </tr>\n",
       "    <tr>\n",
       "      <th>730</th>\n",
       "      <td>2017-01-03</td>\n",
       "      <td>19436</td>\n",
       "      <td>12560.000000</td>\n",
       "    </tr>\n",
       "  </tbody>\n",
       "</table>\n",
       "<p>731 rows × 3 columns</p>\n",
       "</div>"
      ],
      "text/plain": [
       "     timestamp    cnt    rolled_cnt\n",
       "0   2015-01-04   9234           NaN\n",
       "1   2015-01-05  20372           NaN\n",
       "2   2015-01-06  20613  16739.666667\n",
       "3   2015-01-07  21064  20683.000000\n",
       "4   2015-01-08  15601  19092.666667\n",
       "..         ...    ...           ...\n",
       "726 2016-12-30  11566  12682.000000\n",
       "727 2016-12-31  11424  12347.333333\n",
       "728 2017-01-01   6421   9803.666667\n",
       "729 2017-01-02  11823   9889.333333\n",
       "730 2017-01-03  19436  12560.000000\n",
       "\n",
       "[731 rows x 3 columns]"
      ]
     },
     "execution_count": 19,
     "metadata": {},
     "output_type": "execute_result"
    }
   ],
   "source": [
    "df_grouped_by_d"
   ]
  },
  {
   "cell_type": "code",
   "execution_count": 20,
   "id": "d3aeb606",
   "metadata": {},
   "outputs": [],
   "source": [
    "# Считаем стандартное отклонение без округления\n",
    "\n",
    "std = np.std(c)"
   ]
  },
  {
   "cell_type": "code",
   "execution_count": 21,
   "id": "9fbf56ba",
   "metadata": {},
   "outputs": [],
   "source": [
    "# Создаем колонки upper_bound и lower_bound\n",
    "\n",
    "df_grouped_by_d['upper_bound'] = df_grouped_by_d['rolled_cnt'] + 2.576*std\n",
    "df_grouped_by_d['lower_bound'] = df_grouped_by_d['rolled_cnt'] - 2.576*std"
   ]
  },
  {
   "cell_type": "code",
   "execution_count": 22,
   "id": "104c70f4",
   "metadata": {},
   "outputs": [
    {
     "data": {
      "text/html": [
       "<div>\n",
       "<style scoped>\n",
       "    .dataframe tbody tr th:only-of-type {\n",
       "        vertical-align: middle;\n",
       "    }\n",
       "\n",
       "    .dataframe tbody tr th {\n",
       "        vertical-align: top;\n",
       "    }\n",
       "\n",
       "    .dataframe thead th {\n",
       "        text-align: right;\n",
       "    }\n",
       "</style>\n",
       "<table border=\"1\" class=\"dataframe\">\n",
       "  <thead>\n",
       "    <tr style=\"text-align: right;\">\n",
       "      <th></th>\n",
       "      <th>timestamp</th>\n",
       "      <th>cnt</th>\n",
       "      <th>rolled_cnt</th>\n",
       "      <th>upper_bound</th>\n",
       "      <th>lower_bound</th>\n",
       "    </tr>\n",
       "  </thead>\n",
       "  <tbody>\n",
       "    <tr>\n",
       "      <th>0</th>\n",
       "      <td>2015-01-04</td>\n",
       "      <td>9234</td>\n",
       "      <td>NaN</td>\n",
       "      <td>NaN</td>\n",
       "      <td>NaN</td>\n",
       "    </tr>\n",
       "    <tr>\n",
       "      <th>1</th>\n",
       "      <td>2015-01-05</td>\n",
       "      <td>20372</td>\n",
       "      <td>NaN</td>\n",
       "      <td>NaN</td>\n",
       "      <td>NaN</td>\n",
       "    </tr>\n",
       "    <tr>\n",
       "      <th>2</th>\n",
       "      <td>2015-01-06</td>\n",
       "      <td>20613</td>\n",
       "      <td>16739.666667</td>\n",
       "      <td>28482.585854</td>\n",
       "      <td>4996.747479</td>\n",
       "    </tr>\n",
       "    <tr>\n",
       "      <th>3</th>\n",
       "      <td>2015-01-07</td>\n",
       "      <td>21064</td>\n",
       "      <td>20683.000000</td>\n",
       "      <td>32425.919188</td>\n",
       "      <td>8940.080812</td>\n",
       "    </tr>\n",
       "    <tr>\n",
       "      <th>4</th>\n",
       "      <td>2015-01-08</td>\n",
       "      <td>15601</td>\n",
       "      <td>19092.666667</td>\n",
       "      <td>30835.585854</td>\n",
       "      <td>7349.747479</td>\n",
       "    </tr>\n",
       "    <tr>\n",
       "      <th>...</th>\n",
       "      <td>...</td>\n",
       "      <td>...</td>\n",
       "      <td>...</td>\n",
       "      <td>...</td>\n",
       "      <td>...</td>\n",
       "    </tr>\n",
       "    <tr>\n",
       "      <th>726</th>\n",
       "      <td>2016-12-30</td>\n",
       "      <td>11566</td>\n",
       "      <td>12682.000000</td>\n",
       "      <td>24424.919188</td>\n",
       "      <td>939.080812</td>\n",
       "    </tr>\n",
       "    <tr>\n",
       "      <th>727</th>\n",
       "      <td>2016-12-31</td>\n",
       "      <td>11424</td>\n",
       "      <td>12347.333333</td>\n",
       "      <td>24090.252521</td>\n",
       "      <td>604.414146</td>\n",
       "    </tr>\n",
       "    <tr>\n",
       "      <th>728</th>\n",
       "      <td>2017-01-01</td>\n",
       "      <td>6421</td>\n",
       "      <td>9803.666667</td>\n",
       "      <td>21546.585854</td>\n",
       "      <td>-1939.252521</td>\n",
       "    </tr>\n",
       "    <tr>\n",
       "      <th>729</th>\n",
       "      <td>2017-01-02</td>\n",
       "      <td>11823</td>\n",
       "      <td>9889.333333</td>\n",
       "      <td>21632.252521</td>\n",
       "      <td>-1853.585854</td>\n",
       "    </tr>\n",
       "    <tr>\n",
       "      <th>730</th>\n",
       "      <td>2017-01-03</td>\n",
       "      <td>19436</td>\n",
       "      <td>12560.000000</td>\n",
       "      <td>24302.919188</td>\n",
       "      <td>817.080812</td>\n",
       "    </tr>\n",
       "  </tbody>\n",
       "</table>\n",
       "<p>731 rows × 5 columns</p>\n",
       "</div>"
      ],
      "text/plain": [
       "     timestamp    cnt    rolled_cnt   upper_bound  lower_bound\n",
       "0   2015-01-04   9234           NaN           NaN          NaN\n",
       "1   2015-01-05  20372           NaN           NaN          NaN\n",
       "2   2015-01-06  20613  16739.666667  28482.585854  4996.747479\n",
       "3   2015-01-07  21064  20683.000000  32425.919188  8940.080812\n",
       "4   2015-01-08  15601  19092.666667  30835.585854  7349.747479\n",
       "..         ...    ...           ...           ...          ...\n",
       "726 2016-12-30  11566  12682.000000  24424.919188   939.080812\n",
       "727 2016-12-31  11424  12347.333333  24090.252521   604.414146\n",
       "728 2017-01-01   6421   9803.666667  21546.585854 -1939.252521\n",
       "729 2017-01-02  11823   9889.333333  21632.252521 -1853.585854\n",
       "730 2017-01-03  19436  12560.000000  24302.919188   817.080812\n",
       "\n",
       "[731 rows x 5 columns]"
      ]
     },
     "execution_count": 22,
     "metadata": {},
     "output_type": "execute_result"
    }
   ],
   "source": [
    "df_grouped_by_d"
   ]
  },
  {
   "cell_type": "code",
   "execution_count": 23,
   "id": "7ba53428",
   "metadata": {},
   "outputs": [
    {
     "data": {
      "text/plain": [
       "24302.92"
      ]
     },
     "execution_count": 23,
     "metadata": {},
     "output_type": "execute_result"
    }
   ],
   "source": [
    "df_grouped_by_d['upper_bound'][730].round(2)"
   ]
  },
  {
   "cell_type": "markdown",
   "id": "8bbddcef",
   "metadata": {},
   "source": [
    "**И наконец – изучим аномально высокие значения! Сначала выведите наблюдения, для которых наблюдаемые значения оказались больше верхней границы 99% доверительного интервала.**\n",
    "\n",
    "**В какой день значение числа аренд оказалось наибольшим? Укажите дату в формате 2020-12-31.**"
   ]
  },
  {
   "cell_type": "code",
   "execution_count": 24,
   "id": "e9e1207b",
   "metadata": {},
   "outputs": [],
   "source": [
    "df_grouped_by_d_1 = df_grouped_by_d.fillna(value = 0)"
   ]
  },
  {
   "cell_type": "code",
   "execution_count": 25,
   "id": "33acb1fa",
   "metadata": {},
   "outputs": [
    {
     "data": {
      "text/html": [
       "<div>\n",
       "<style scoped>\n",
       "    .dataframe tbody tr th:only-of-type {\n",
       "        vertical-align: middle;\n",
       "    }\n",
       "\n",
       "    .dataframe tbody tr th {\n",
       "        vertical-align: top;\n",
       "    }\n",
       "\n",
       "    .dataframe thead th {\n",
       "        text-align: right;\n",
       "    }\n",
       "</style>\n",
       "<table border=\"1\" class=\"dataframe\">\n",
       "  <thead>\n",
       "    <tr style=\"text-align: right;\">\n",
       "      <th></th>\n",
       "      <th>timestamp</th>\n",
       "      <th>cnt</th>\n",
       "      <th>rolled_cnt</th>\n",
       "      <th>upper_bound</th>\n",
       "      <th>lower_bound</th>\n",
       "    </tr>\n",
       "  </thead>\n",
       "  <tbody>\n",
       "    <tr>\n",
       "      <th>0</th>\n",
       "      <td>2015-01-04</td>\n",
       "      <td>9234</td>\n",
       "      <td>0.000000</td>\n",
       "      <td>0.000000</td>\n",
       "      <td>0.000000</td>\n",
       "    </tr>\n",
       "    <tr>\n",
       "      <th>1</th>\n",
       "      <td>2015-01-05</td>\n",
       "      <td>20372</td>\n",
       "      <td>0.000000</td>\n",
       "      <td>0.000000</td>\n",
       "      <td>0.000000</td>\n",
       "    </tr>\n",
       "    <tr>\n",
       "      <th>186</th>\n",
       "      <td>2015-07-09</td>\n",
       "      <td>72504</td>\n",
       "      <td>50705.000000</td>\n",
       "      <td>62447.919188</td>\n",
       "      <td>38962.080812</td>\n",
       "    </tr>\n",
       "    <tr>\n",
       "      <th>214</th>\n",
       "      <td>2015-08-06</td>\n",
       "      <td>63468</td>\n",
       "      <td>46627.333333</td>\n",
       "      <td>58370.252521</td>\n",
       "      <td>34884.414146</td>\n",
       "    </tr>\n",
       "    <tr>\n",
       "      <th>609</th>\n",
       "      <td>2016-09-04</td>\n",
       "      <td>27512</td>\n",
       "      <td>14259.000000</td>\n",
       "      <td>26001.919188</td>\n",
       "      <td>2516.080812</td>\n",
       "    </tr>\n",
       "    <tr>\n",
       "      <th>721</th>\n",
       "      <td>2016-12-25</td>\n",
       "      <td>36653</td>\n",
       "      <td>19650.666667</td>\n",
       "      <td>31393.585854</td>\n",
       "      <td>7907.747479</td>\n",
       "    </tr>\n",
       "  </tbody>\n",
       "</table>\n",
       "</div>"
      ],
      "text/plain": [
       "     timestamp    cnt    rolled_cnt   upper_bound   lower_bound\n",
       "0   2015-01-04   9234      0.000000      0.000000      0.000000\n",
       "1   2015-01-05  20372      0.000000      0.000000      0.000000\n",
       "186 2015-07-09  72504  50705.000000  62447.919188  38962.080812\n",
       "214 2015-08-06  63468  46627.333333  58370.252521  34884.414146\n",
       "609 2016-09-04  27512  14259.000000  26001.919188   2516.080812\n",
       "721 2016-12-25  36653  19650.666667  31393.585854   7907.747479"
      ]
     },
     "execution_count": 25,
     "metadata": {},
     "output_type": "execute_result"
    }
   ],
   "source": [
    "df_grouped_by_d_1.loc[df_grouped_by_d_1['upper_bound'] < df_grouped_by_d_1['cnt']]"
   ]
  },
  {
   "cell_type": "markdown",
   "id": "198b0d78",
   "metadata": {},
   "source": [
    "**Подумайте, в чем может быть причина столь высокого числа аренд в этот день. Для этого можете исследовать уже имеющиеся переменные в датасете, проверить наличие ошибок в данных (повторяющихся строк), а также использовать поиск Google.** \n",
    "\n",
    "**В качестве ответа выберите наиболее вероятную причину столь резкого скачка:**\n",
    "\n",
    " - Погода\n",
    " - Забастовки в метро **(+ из Google)**\n",
    " - Ошибка при сборе данных\n",
    " - Ветер\n",
    " - Выборы"
   ]
  },
  {
   "cell_type": "markdown",
   "id": "4479b100",
   "metadata": {},
   "source": [
    "**Проделайте аналогичную операцию для дней, когда число аренд оказалось ниже ожидаемого. В чем может быть причина падения числа аренд 2016-09-02?**"
   ]
  },
  {
   "cell_type": "code",
   "execution_count": 27,
   "id": "715f0e0e",
   "metadata": {},
   "outputs": [
    {
     "data": {
      "text/html": [
       "<div>\n",
       "<style scoped>\n",
       "    .dataframe tbody tr th:only-of-type {\n",
       "        vertical-align: middle;\n",
       "    }\n",
       "\n",
       "    .dataframe tbody tr th {\n",
       "        vertical-align: top;\n",
       "    }\n",
       "\n",
       "    .dataframe thead th {\n",
       "        text-align: right;\n",
       "    }\n",
       "</style>\n",
       "<table border=\"1\" class=\"dataframe\">\n",
       "  <thead>\n",
       "    <tr style=\"text-align: right;\">\n",
       "      <th></th>\n",
       "      <th>timestamp</th>\n",
       "      <th>cnt</th>\n",
       "    </tr>\n",
       "  </thead>\n",
       "  <tbody>\n",
       "    <tr>\n",
       "      <th>130</th>\n",
       "      <td>2015-05-14</td>\n",
       "      <td>15609</td>\n",
       "    </tr>\n",
       "    <tr>\n",
       "      <th>189</th>\n",
       "      <td>2015-07-12</td>\n",
       "      <td>23240</td>\n",
       "    </tr>\n",
       "    <tr>\n",
       "      <th>201</th>\n",
       "      <td>2015-07-24</td>\n",
       "      <td>16034</td>\n",
       "    </tr>\n",
       "    <tr>\n",
       "      <th>232</th>\n",
       "      <td>2015-08-24</td>\n",
       "      <td>17400</td>\n",
       "    </tr>\n",
       "    <tr>\n",
       "      <th>314</th>\n",
       "      <td>2015-11-14</td>\n",
       "      <td>8898</td>\n",
       "    </tr>\n",
       "    <tr>\n",
       "      <th>607</th>\n",
       "      <td>2016-09-02</td>\n",
       "      <td>0</td>\n",
       "    </tr>\n",
       "    <tr>\n",
       "      <th>615</th>\n",
       "      <td>2016-09-10</td>\n",
       "      <td>17080</td>\n",
       "    </tr>\n",
       "    <tr>\n",
       "      <th>621</th>\n",
       "      <td>2016-09-16</td>\n",
       "      <td>21967</td>\n",
       "    </tr>\n",
       "    <tr>\n",
       "      <th>678</th>\n",
       "      <td>2016-11-12</td>\n",
       "      <td>8990</td>\n",
       "    </tr>\n",
       "  </tbody>\n",
       "</table>\n",
       "</div>"
      ],
      "text/plain": [
       "     timestamp    cnt\n",
       "130 2015-05-14  15609\n",
       "189 2015-07-12  23240\n",
       "201 2015-07-24  16034\n",
       "232 2015-08-24  17400\n",
       "314 2015-11-14   8898\n",
       "607 2016-09-02      0\n",
       "615 2016-09-10  17080\n",
       "621 2016-09-16  21967\n",
       "678 2016-11-12   8990"
      ]
     },
     "execution_count": 27,
     "metadata": {},
     "output_type": "execute_result"
    }
   ],
   "source": [
    "df_grouped_by_d_1.loc[df_grouped_by_d_1['lower_bound'] > df_grouped_by_d_1['cnt'], ['timestamp','cnt']]"
   ]
  },
  {
   "cell_type": "markdown",
   "id": "14a29ad6",
   "metadata": {},
   "source": [
    "**Вывод:** для 2016-09-02 значение cnt составляет 0, при этом в соседние дни таких падений не наблюдается, это может свидетельствовать об ошибке при сборе данных "
   ]
  },
  {
   "cell_type": "code",
   "execution_count": null,
   "id": "b428e0ae",
   "metadata": {},
   "outputs": [],
   "source": []
  }
 ],
 "metadata": {
  "kernelspec": {
   "display_name": "Python 3 (ipykernel)",
   "language": "python",
   "name": "python3"
  },
  "language_info": {
   "codemirror_mode": {
    "name": "ipython",
    "version": 3
   },
   "file_extension": ".py",
   "mimetype": "text/x-python",
   "name": "python",
   "nbconvert_exporter": "python",
   "pygments_lexer": "ipython3",
   "version": "3.10.0"
  }
 },
 "nbformat": 4,
 "nbformat_minor": 5
}
