{
  "nbformat": 4,
  "nbformat_minor": 0,
  "metadata": {
    "colab": {
      "provenance": []
    },
    "kernelspec": {
      "name": "python3",
      "display_name": "Python 3"
    },
    "language_info": {
      "name": "python"
    }
  },
  "cells": [
    {
      "cell_type": "code",
      "source": [
        "import requests\n",
        "import time\n",
        "import pandas as pd\n",
        "import re\n",
        "from datetime import date, timedelta\n",
        "import json\n",
        "import io"
      ],
      "metadata": {
        "id": "aFqCjghZr05d"
      },
      "execution_count": null,
      "outputs": []
    },
    {
      "cell_type": "code",
      "source": [
        "!gdown 'https://drive.google.com/uc?id=1A******B8s-*********************************'"
      ],
      "metadata": {
        "colab": {
          "base_uri": "https://localhost:8080/"
        },
        "id": "zU8RZe5EjpnZ",
        "outputId": "300a7e14-93c3-4c22-d922-596d7d35d033"
      },
      "execution_count": null,
      "outputs": [
        {
          "output_type": "stream",
          "name": "stdout",
          "text": [
            "Downloading...\n",
            "From: https://drive.google.com/uc?id=1A-73oB8s-haqYVIYygiPVNrlSy7GjP4X\n",
            "To: /content/holodilnik-bq-376311-50cc6f8cfc32.json\n",
            "\r  0% 0.00/2.38k [00:00<?, ?B/s]\r100% 2.38k/2.38k [00:00<00:00, 3.60MB/s]\n"
          ]
        }
      ]
    },
    {
      "cell_type": "code",
      "source": [
        "from google.oauth2 import service_account\n",
        "\n",
        "credentials = service_account.Credentials.from_service_account_file('/content/holodilnik-bq-376311-50cc6f8cfc32.json')\n",
        "load_date = (date.today()-timedelta(days=1)).strftime('%Y-%m-%d')"
      ],
      "metadata": {
        "id": "1OwZldkzsHJI"
      },
      "execution_count": null,
      "outputs": []
    },
    {
      "cell_type": "code",
      "source": [
        "dict_ag = pd.DataFrame({'code_agency': ['a485', 'a617', 'a564', 'a339', 'a776', 'a999', 'a499', 'a224', 'a823', 'a662', 'a799', 'a391', 'a888', 'a111'], \n",
        "                        'agency_name': ['2leads', 'Borscht', 'Colead', 'GoMobile', 'Gradientt', 'In-house', 'Mediaserfer', 'Mobisharks', 'MobX', 'Rocket10', 'ThinkMobile', 'TopTraffic', 'Mobio', 'xapads']})\n",
        "dict_s = pd.DataFrame({'code_source': ['c201', 'c202', 'c203', 'c204', 'c210', 'c205', 'c206', 'c209', 'c207', 'c208', 'c211', 'c212', 'c217', 'c215', 'с216', 'с218', 'с219'], \n",
        "                        'source_name': ['Apple Search Ads', 'DV360', 'Facebook', 'Google Adwords', 'in-app', 'Mytarget', 'Tik Tok', 'Twitter', 'VK', 'Yandex.Direct', 'Appnext', 'beta vk', 'xapads', 'AdGate', 'Bigo Ads', 'untiy', 'mintegral']})\n",
        "dict_t = pd.DataFrame({'code_type': ['u1', 'u2'], 'type_name': ['UA', 'RET']})"
      ],
      "metadata": {
        "id": "YAgAY9ksx4M_"
      },
      "execution_count": null,
      "outputs": []
    },
    {
      "cell_type": "code",
      "source": [
        "fields = 'appmetrica_device_id,tracker_name,notifying_status,install_datetime,attempt_datetime,device_type,os_name,conversion_datetime,event_name,cost_model'\n",
        "application_id = '4089013'\n",
        "url= f'https://api.appmetrica.yandex.ru/logs/v1/export/postbacks.json?application_id={application_id}&date_since={load_date}&date_until={load_date}&fields={fields}'\n",
        "header = {'Authorization': 'OAuth y0_*********************************_6uv*****'}\n",
        "response = requests.get(url=url, headers=header)\n",
        "k=0\n",
        "while response.status_code != 200 and k<90:\n",
        "  response = requests.get(url=url, headers=header)\n",
        "  print(response.status_code)\n",
        "  time.sleep(5)\n",
        "  k+=1"
      ],
      "metadata": {
        "id": "N9ikuVm0r-mJ"
      },
      "execution_count": null,
      "outputs": []
    },
    {
      "cell_type": "code",
      "source": [
        "js_df = response.json()\n",
        "df = pd.DataFrame(js_df['data'])\n",
        "df_rec = df[df.tracker_name.str.contains('realweb', flags=re.IGNORECASE)]"
      ],
      "metadata": {
        "id": "YkSM4jB7r_Pg"
      },
      "execution_count": null,
      "outputs": []
    },
    {
      "cell_type": "code",
      "source": [
        "df_rec.groupby('event_name').agg({'appmetrica_device_id':'count'})"
      ],
      "metadata": {
        "colab": {
          "base_uri": "https://localhost:8080/",
          "height": 237
        },
        "id": "-mqXa4AbqIAI",
        "outputId": "3783ca68-6b7b-4d8b-c75c-e4552d89efe8"
      },
      "execution_count": null,
      "outputs": [
        {
          "output_type": "execute_result",
          "data": {
            "text/plain": [
              "                 appmetrica_device_id\n",
              "event_name                           \n",
              "                                 3998\n",
              "PurchaseSuccess                    55\n",
              "payment_by_card                    96\n",
              "payment_in_cash                    55\n",
              "purchase                          217"
            ],
            "text/html": [
              "\n",
              "  <div id=\"df-81f60131-bef0-4289-b712-d9fb901af330\">\n",
              "    <div class=\"colab-df-container\">\n",
              "      <div>\n",
              "<style scoped>\n",
              "    .dataframe tbody tr th:only-of-type {\n",
              "        vertical-align: middle;\n",
              "    }\n",
              "\n",
              "    .dataframe tbody tr th {\n",
              "        vertical-align: top;\n",
              "    }\n",
              "\n",
              "    .dataframe thead th {\n",
              "        text-align: right;\n",
              "    }\n",
              "</style>\n",
              "<table border=\"1\" class=\"dataframe\">\n",
              "  <thead>\n",
              "    <tr style=\"text-align: right;\">\n",
              "      <th></th>\n",
              "      <th>appmetrica_device_id</th>\n",
              "    </tr>\n",
              "    <tr>\n",
              "      <th>event_name</th>\n",
              "      <th></th>\n",
              "    </tr>\n",
              "  </thead>\n",
              "  <tbody>\n",
              "    <tr>\n",
              "      <th></th>\n",
              "      <td>3998</td>\n",
              "    </tr>\n",
              "    <tr>\n",
              "      <th>PurchaseSuccess</th>\n",
              "      <td>55</td>\n",
              "    </tr>\n",
              "    <tr>\n",
              "      <th>payment_by_card</th>\n",
              "      <td>96</td>\n",
              "    </tr>\n",
              "    <tr>\n",
              "      <th>payment_in_cash</th>\n",
              "      <td>55</td>\n",
              "    </tr>\n",
              "    <tr>\n",
              "      <th>purchase</th>\n",
              "      <td>217</td>\n",
              "    </tr>\n",
              "  </tbody>\n",
              "</table>\n",
              "</div>\n",
              "      <button class=\"colab-df-convert\" onclick=\"convertToInteractive('df-81f60131-bef0-4289-b712-d9fb901af330')\"\n",
              "              title=\"Convert this dataframe to an interactive table.\"\n",
              "              style=\"display:none;\">\n",
              "        \n",
              "  <svg xmlns=\"http://www.w3.org/2000/svg\" height=\"24px\"viewBox=\"0 0 24 24\"\n",
              "       width=\"24px\">\n",
              "    <path d=\"M0 0h24v24H0V0z\" fill=\"none\"/>\n",
              "    <path d=\"M18.56 5.44l.94 2.06.94-2.06 2.06-.94-2.06-.94-.94-2.06-.94 2.06-2.06.94zm-11 1L8.5 8.5l.94-2.06 2.06-.94-2.06-.94L8.5 2.5l-.94 2.06-2.06.94zm10 10l.94 2.06.94-2.06 2.06-.94-2.06-.94-.94-2.06-.94 2.06-2.06.94z\"/><path d=\"M17.41 7.96l-1.37-1.37c-.4-.4-.92-.59-1.43-.59-.52 0-1.04.2-1.43.59L10.3 9.45l-7.72 7.72c-.78.78-.78 2.05 0 2.83L4 21.41c.39.39.9.59 1.41.59.51 0 1.02-.2 1.41-.59l7.78-7.78 2.81-2.81c.8-.78.8-2.07 0-2.86zM5.41 20L4 18.59l7.72-7.72 1.47 1.35L5.41 20z\"/>\n",
              "  </svg>\n",
              "      </button>\n",
              "      \n",
              "  <style>\n",
              "    .colab-df-container {\n",
              "      display:flex;\n",
              "      flex-wrap:wrap;\n",
              "      gap: 12px;\n",
              "    }\n",
              "\n",
              "    .colab-df-convert {\n",
              "      background-color: #E8F0FE;\n",
              "      border: none;\n",
              "      border-radius: 50%;\n",
              "      cursor: pointer;\n",
              "      display: none;\n",
              "      fill: #1967D2;\n",
              "      height: 32px;\n",
              "      padding: 0 0 0 0;\n",
              "      width: 32px;\n",
              "    }\n",
              "\n",
              "    .colab-df-convert:hover {\n",
              "      background-color: #E2EBFA;\n",
              "      box-shadow: 0px 1px 2px rgba(60, 64, 67, 0.3), 0px 1px 3px 1px rgba(60, 64, 67, 0.15);\n",
              "      fill: #174EA6;\n",
              "    }\n",
              "\n",
              "    [theme=dark] .colab-df-convert {\n",
              "      background-color: #3B4455;\n",
              "      fill: #D2E3FC;\n",
              "    }\n",
              "\n",
              "    [theme=dark] .colab-df-convert:hover {\n",
              "      background-color: #434B5C;\n",
              "      box-shadow: 0px 1px 3px 1px rgba(0, 0, 0, 0.15);\n",
              "      filter: drop-shadow(0px 1px 2px rgba(0, 0, 0, 0.3));\n",
              "      fill: #FFFFFF;\n",
              "    }\n",
              "  </style>\n",
              "\n",
              "      <script>\n",
              "        const buttonEl =\n",
              "          document.querySelector('#df-81f60131-bef0-4289-b712-d9fb901af330 button.colab-df-convert');\n",
              "        buttonEl.style.display =\n",
              "          google.colab.kernel.accessAllowed ? 'block' : 'none';\n",
              "\n",
              "        async function convertToInteractive(key) {\n",
              "          const element = document.querySelector('#df-81f60131-bef0-4289-b712-d9fb901af330');\n",
              "          const dataTable =\n",
              "            await google.colab.kernel.invokeFunction('convertToInteractive',\n",
              "                                                     [key], {});\n",
              "          if (!dataTable) return;\n",
              "\n",
              "          const docLinkHtml = 'Like what you see? Visit the ' +\n",
              "            '<a target=\"_blank\" href=https://colab.research.google.com/notebooks/data_table.ipynb>data table notebook</a>'\n",
              "            + ' to learn more about interactive tables.';\n",
              "          element.innerHTML = '';\n",
              "          dataTable['output_type'] = 'display_data';\n",
              "          await google.colab.output.renderOutput(dataTable, element);\n",
              "          const docLink = document.createElement('div');\n",
              "          docLink.innerHTML = docLinkHtml;\n",
              "          element.appendChild(docLink);\n",
              "        }\n",
              "      </script>\n",
              "    </div>\n",
              "  </div>\n",
              "  "
            ]
          },
          "metadata": {},
          "execution_count": 8
        }
      ]
    },
    {
      "cell_type": "code",
      "source": [
        "# df_rec.to_gbq('grow-food-367913.Meta.appmetrica_postback', \n",
        "#           project_id='grow-food-367913',  \n",
        "#           if_exists='append',\n",
        "#           credentials=credentials)"
      ],
      "metadata": {
        "id": "7no_2HrPYymM"
      },
      "execution_count": null,
      "outputs": []
    },
    {
      "cell_type": "code",
      "source": [
        "sql = \"\"\"SELECT * FROM `grow-food-367913.Meta.appmetrica_postback`\"\"\"\n",
        "all_data = pd.read_gbq(sql, credentials=credentials, dialect='standard')\n",
        "all_data = all_data.drop_duplicates()"
      ],
      "metadata": {
        "id": "T0E57lTPsLZG"
      },
      "execution_count": null,
      "outputs": []
    },
    {
      "cell_type": "code",
      "source": [
        "# all_data.to_gbq('grow-food-367913.Meta.appmetrica_postback', \n",
        "#           project_id='grow-food-367913',  \n",
        "#           if_exists='replace',\n",
        "#           credentials=credentials)"
      ],
      "metadata": {
        "id": "nnp_6fJ25Ezc"
      },
      "execution_count": null,
      "outputs": []
    },
    {
      "cell_type": "code",
      "source": [
        "sql = \"\"\"SELECT * FROM `grow-food-367913.Meta.appmetrica_postback`\"\"\"\n",
        "df = pd.read_gbq(sql, credentials=credentials, dialect='standard')\n",
        "df.install_datetime = pd.to_datetime(df.install_datetime)\n",
        "df.attempt_datetime = pd.to_datetime(df.attempt_datetime)\n",
        "df.conversion_datetime = pd.to_datetime(df.conversion_datetime)\n",
        "# df = df.drop_duplicates()\n",
        "df['date'] = df.install_datetime.dt.date\n",
        "# .query('install_datetime >= \"2022-11-21\"') \\\n",
        "df_installs = df.groupby(['date', 'tracker_name', 'device_type', 'os_name'], as_index=False) \\\n",
        "        .agg({'appmetrica_device_id': 'nunique'}) \\\n",
        "        .rename(columns={'appmetrica_device_id': 'installs'})\n",
        "df_events = df.query('event_name == \"af_purchase_new\"') \\\n",
        "          .groupby(['date', 'tracker_name', 'device_type', 'os_name'], as_index=False) \\\n",
        "          .agg({'appmetrica_device_id': 'nunique'}) \\\n",
        "          .rename(columns={'appmetrica_device_id': 'event_count'})\n",
        "all_data = df_installs.merge(df_events, how='outer', on=['date', 'tracker_name', 'device_type', 'os_name']).fillna(0)\n",
        "all_data[['date', 'tracker_name', 'device_type', 'os_name']] = all_data[['date', 'tracker_name', 'device_type', 'os_name']].astype('str')\n",
        "all_data[['installs', 'event_count']] = all_data[['installs', 'event_count']].astype('float')"
      ],
      "metadata": {
        "id": "WUs3yjgO5Gp8"
      },
      "execution_count": null,
      "outputs": []
    },
    {
      "cell_type": "code",
      "source": [
        "all_data['code_agency'] = all_data.tracker_name.apply(lambda x: x.lower().split('_')[3] if (x.lower().split('_')[2] in ['and', 'ios']) else x.lower().split('_')[4])\n",
        "all_data['code_source'] = all_data.tracker_name.apply(lambda x: x.lower().split('_')[4] if (x.lower().split('_')[2] in ['and', 'ios']) else x.lower().split('_')[5])\n",
        "# all_data['os_name'] = all_data.tracker_name.apply(lambda x: 'android' if x.lower().split('_')[2] == 'and' else ('ios' if x.lower().split('_')[2] == 'ios' else x))\n",
        "merge_data = all_data.merge(dict_ag, how='left', on='code_agency') \\\n",
        "                          .merge(dict_s, how='left', on='code_source') \\\n",
        "                          .drop(columns=['code_agency', 'code_source'])\n",
        "merge_data.date = pd.to_datetime(merge_data.date.astype('str'))"
      ],
      "metadata": {
        "id": "mjhqUeGsDDkS"
      },
      "execution_count": null,
      "outputs": []
    },
    {
      "cell_type": "code",
      "source": [
        "from_date_fr = (date.today()-timedelta(days=2)).strftime('%Y-%m-%d')\n",
        "CHANNEL = 'h****dil***********************U'\n",
        "USER_KEY = '12*************'\n",
        "url = f'https://api.fraudscore.ai/{CHANNEL}/install/custom/groups?sort=offer_id_asc&group=offer_id&group=affiliate_id&group=os_family&group=score_str&group=date&field=offer_id&field=any_offer_name&field=affiliate_id&field=any_affiliate_name&field=os_family&field=score_str&field=score_avg'\n",
        "params = dict(key = USER_KEY)\n",
        "# params['group'] = ['date','offer_name']\n",
        "# params['field'] = ['any_affiliate_name']\n",
        "params['install_filter'] = json.dumps([\n",
        "\t\"AND\",\n",
        "\t[\"date_gt\", from_date_fr],\n",
        "\t[\"date_lt\", date.today().strftime('%Y-%m-%d')],\n",
        "    [\"score_str\", \"high\"]])\n",
        "\n",
        "# params['having'] = json.dumps(['AND',[\"score_high_ge\", \"1\"], [\"count_ge\", \"1\"]])\n",
        "# params['page_size'] = 1000000\n",
        "r = requests.get(url, params, stream = True)"
      ],
      "metadata": {
        "id": "2G_cTMNTpotL"
      },
      "execution_count": null,
      "outputs": []
    },
    {
      "cell_type": "code",
      "source": [
        "r.json()"
      ],
      "metadata": {
        "id": "H8akbXqX2Fgd"
      },
      "execution_count": null,
      "outputs": []
    },
    {
      "cell_type": "code",
      "source": [
        "date = []\n",
        "any_offer_name = []\n",
        "any_affiliate_name = []\n",
        "score_str = []\n",
        "custom_users = []\n",
        "i = 0\n",
        "for line in r.iter_lines():\n",
        "    i += 1\n",
        "    if i == 1 and 'purchase' not in str(line).replace(\"b'[\", \"\").replace(\"]'\", \"\").replace('\"', '').split(','):\n",
        "        break \n",
        "    elif  i == 1:\n",
        "        continue\n",
        "    data = json.loads(line)\n",
        "    date += [data['date']]\n",
        "    any_offer_name += [data['any_offer_name']]\n",
        "    any_affiliate_name += [data['any_affiliate_name']]\n",
        "    score_str += [data['score_str']]\n",
        "    custom_users += [data['custom_users'][1] if len(data['custom_users'])!=0 else \"0\"]\n",
        "d = {'date': date, 'any_offer_name': any_offer_name, 'any_affiliate_name': any_affiliate_name, 'score_str': score_str, 'custom_users': custom_users}\n",
        "df_fraud_score = pd.DataFrame(data=d)\n",
        "df_fr_sc = df_fraud_score.rename(columns={'any_offer_name': 'tracker_name', 'custom_users': 'fraud'}).query('any_affiliate_name == \"RealWeb\" and score_str == \"high\"')[['date', 'tracker_name', 'fraud']]\n",
        "df_fr_sc.fraud = df_fr_sc.fraud.astype('int')\n",
        "df_agg = df_fr_sc.query('fraud > 0')"
      ],
      "metadata": {
        "id": "1FzH3L2Ipo1g"
      },
      "execution_count": null,
      "outputs": []
    },
    {
      "cell_type": "code",
      "source": [
        "df_agg"
      ],
      "metadata": {
        "colab": {
          "base_uri": "https://localhost:8080/",
          "height": 81
        },
        "id": "F4GQ3qZVXs7K",
        "outputId": "3f777ead-e3a8-4efd-bd70-7573e6865115"
      },
      "execution_count": null,
      "outputs": [
        {
          "output_type": "execute_result",
          "data": {
            "text/plain": [
              "         date                              tracker_name  fraud\n",
              "1  2023-04-02  Realweb_inapp_Android_CPA_Adshustle_a224      1"
            ],
            "text/html": [
              "\n",
              "  <div id=\"df-c8956fc8-5181-4dcd-a013-b7dbd6ecf85f\">\n",
              "    <div class=\"colab-df-container\">\n",
              "      <div>\n",
              "<style scoped>\n",
              "    .dataframe tbody tr th:only-of-type {\n",
              "        vertical-align: middle;\n",
              "    }\n",
              "\n",
              "    .dataframe tbody tr th {\n",
              "        vertical-align: top;\n",
              "    }\n",
              "\n",
              "    .dataframe thead th {\n",
              "        text-align: right;\n",
              "    }\n",
              "</style>\n",
              "<table border=\"1\" class=\"dataframe\">\n",
              "  <thead>\n",
              "    <tr style=\"text-align: right;\">\n",
              "      <th></th>\n",
              "      <th>date</th>\n",
              "      <th>tracker_name</th>\n",
              "      <th>fraud</th>\n",
              "    </tr>\n",
              "  </thead>\n",
              "  <tbody>\n",
              "    <tr>\n",
              "      <th>1</th>\n",
              "      <td>2023-04-02</td>\n",
              "      <td>Realweb_inapp_Android_CPA_Adshustle_a224</td>\n",
              "      <td>1</td>\n",
              "    </tr>\n",
              "  </tbody>\n",
              "</table>\n",
              "</div>\n",
              "      <button class=\"colab-df-convert\" onclick=\"convertToInteractive('df-c8956fc8-5181-4dcd-a013-b7dbd6ecf85f')\"\n",
              "              title=\"Convert this dataframe to an interactive table.\"\n",
              "              style=\"display:none;\">\n",
              "        \n",
              "  <svg xmlns=\"http://www.w3.org/2000/svg\" height=\"24px\"viewBox=\"0 0 24 24\"\n",
              "       width=\"24px\">\n",
              "    <path d=\"M0 0h24v24H0V0z\" fill=\"none\"/>\n",
              "    <path d=\"M18.56 5.44l.94 2.06.94-2.06 2.06-.94-2.06-.94-.94-2.06-.94 2.06-2.06.94zm-11 1L8.5 8.5l.94-2.06 2.06-.94-2.06-.94L8.5 2.5l-.94 2.06-2.06.94zm10 10l.94 2.06.94-2.06 2.06-.94-2.06-.94-.94-2.06-.94 2.06-2.06.94z\"/><path d=\"M17.41 7.96l-1.37-1.37c-.4-.4-.92-.59-1.43-.59-.52 0-1.04.2-1.43.59L10.3 9.45l-7.72 7.72c-.78.78-.78 2.05 0 2.83L4 21.41c.39.39.9.59 1.41.59.51 0 1.02-.2 1.41-.59l7.78-7.78 2.81-2.81c.8-.78.8-2.07 0-2.86zM5.41 20L4 18.59l7.72-7.72 1.47 1.35L5.41 20z\"/>\n",
              "  </svg>\n",
              "      </button>\n",
              "      \n",
              "  <style>\n",
              "    .colab-df-container {\n",
              "      display:flex;\n",
              "      flex-wrap:wrap;\n",
              "      gap: 12px;\n",
              "    }\n",
              "\n",
              "    .colab-df-convert {\n",
              "      background-color: #E8F0FE;\n",
              "      border: none;\n",
              "      border-radius: 50%;\n",
              "      cursor: pointer;\n",
              "      display: none;\n",
              "      fill: #1967D2;\n",
              "      height: 32px;\n",
              "      padding: 0 0 0 0;\n",
              "      width: 32px;\n",
              "    }\n",
              "\n",
              "    .colab-df-convert:hover {\n",
              "      background-color: #E2EBFA;\n",
              "      box-shadow: 0px 1px 2px rgba(60, 64, 67, 0.3), 0px 1px 3px 1px rgba(60, 64, 67, 0.15);\n",
              "      fill: #174EA6;\n",
              "    }\n",
              "\n",
              "    [theme=dark] .colab-df-convert {\n",
              "      background-color: #3B4455;\n",
              "      fill: #D2E3FC;\n",
              "    }\n",
              "\n",
              "    [theme=dark] .colab-df-convert:hover {\n",
              "      background-color: #434B5C;\n",
              "      box-shadow: 0px 1px 3px 1px rgba(0, 0, 0, 0.15);\n",
              "      filter: drop-shadow(0px 1px 2px rgba(0, 0, 0, 0.3));\n",
              "      fill: #FFFFFF;\n",
              "    }\n",
              "  </style>\n",
              "\n",
              "      <script>\n",
              "        const buttonEl =\n",
              "          document.querySelector('#df-c8956fc8-5181-4dcd-a013-b7dbd6ecf85f button.colab-df-convert');\n",
              "        buttonEl.style.display =\n",
              "          google.colab.kernel.accessAllowed ? 'block' : 'none';\n",
              "\n",
              "        async function convertToInteractive(key) {\n",
              "          const element = document.querySelector('#df-c8956fc8-5181-4dcd-a013-b7dbd6ecf85f');\n",
              "          const dataTable =\n",
              "            await google.colab.kernel.invokeFunction('convertToInteractive',\n",
              "                                                     [key], {});\n",
              "          if (!dataTable) return;\n",
              "\n",
              "          const docLinkHtml = 'Like what you see? Visit the ' +\n",
              "            '<a target=\"_blank\" href=https://colab.research.google.com/notebooks/data_table.ipynb>data table notebook</a>'\n",
              "            + ' to learn more about interactive tables.';\n",
              "          element.innerHTML = '';\n",
              "          dataTable['output_type'] = 'display_data';\n",
              "          await google.colab.output.renderOutput(dataTable, element);\n",
              "          const docLink = document.createElement('div');\n",
              "          docLink.innerHTML = docLinkHtml;\n",
              "          element.appendChild(docLink);\n",
              "        }\n",
              "      </script>\n",
              "    </div>\n",
              "  </div>\n",
              "  "
            ]
          },
          "metadata": {},
          "execution_count": 24
        }
      ]
    },
    {
      "cell_type": "code",
      "source": [
        "# df_agg.to_gbq('grow-food-367913.Meta.data_fraud', \n",
        "#           project_id='grow-food-367913',  \n",
        "#           if_exists='append',\n",
        "#           credentials=credentials)"
      ],
      "metadata": {
        "id": "AUl_QohdwyFP"
      },
      "execution_count": null,
      "outputs": []
    },
    {
      "cell_type": "code",
      "source": [
        "sql_fraud = \"\"\"SELECT * FROM `grow-food-367913.Meta.data_fraud`\"\"\"\n",
        "all_data_fraud = pd.read_gbq(sql_fraud, credentials=credentials, dialect='standard')\n",
        "all_data_fraud = all_data_fraud.drop_duplicates()"
      ],
      "metadata": {
        "id": "EWKQsxnR5oFr"
      },
      "execution_count": null,
      "outputs": []
    },
    {
      "cell_type": "code",
      "source": [
        "# all_data_fraud.to_gbq('grow-food-367913.Meta.data_fraud', \n",
        "#           project_id='grow-food-367913',  \n",
        "#           if_exists='replace',\n",
        "#           credentials=credentials)"
      ],
      "metadata": {
        "id": "pWoZbOTF5oIr"
      },
      "execution_count": null,
      "outputs": []
    },
    {
      "cell_type": "code",
      "source": [
        "import json\n",
        "CHANNEL = '***************************'\n",
        "USER_KEY = '***************************'\n",
        "EVENT = 'install'\n",
        "url = f'https://get.fraudscore.ai/{CHANNEL}/{EVENT}/groups'\n",
        "params = dict(key = USER_KEY)\n",
        "params['group'] = ['date','offer_name']\n",
        "params['field'] = ['any_affiliate_name']\n",
        "params['install_filter'] = json.dumps([\n",
        "\t\"AND\",\n",
        "\t[\"date_gt\", \"2023-03-01\"],\n",
        "\t[\"date_lt\", \"2023-03-31\"]])\n",
        "params['having'] = json.dumps(['AND',[\"score_high_ge\", \"1\"], [\"count_ge\", \"1\"]])\n",
        "params['page_size'] = 1000000\n",
        "r = requests.get(url, params, stream = True)\n",
        "date = []\n",
        "offer_name = []\n",
        "any_affiliate_name = []\n",
        "count = []\n",
        "score_high = []\n",
        "for line in r.iter_lines():\n",
        "  data = json.loads(line)\n",
        "  date += [data['date']]\n",
        "  offer_name += [data['offer_name']]\n",
        "  any_affiliate_name += [data['any_affiliate_name']]\n",
        "  count += [data['count']]\n",
        "  score_high += [data['score_high']]  \n",
        "d = {'date': date, 'offer_name': offer_name, 'any_affiliate_name': any_affiliate_name, 'count': count, 'score_high': score_high}\n",
        "df_fraud_score = pd.DataFrame(data=d)\n",
        "df_fr_sc = df_fraud_score.rename(columns={'offer_name': 'tracker_name'}).query('(date>=\"2023-03-01\") and(date<=\"2023-03-31\")')[['date', 'tracker_name', 'count', 'score_high']]\n",
        "df_fr_sc.date = df_fr_sc.date.astype('str')\n",
        "df_fr_sc.tracker_name = df_fr_sc.tracker_name.astype('str')\n",
        "df_fr_sc['count'] = df_fr_sc['count'].astype('int')\n",
        "df_fr_sc.score_high = df_fr_sc.score_high.astype('int')"
      ],
      "metadata": {
        "id": "o_l6-BOp5oLT"
      },
      "execution_count": null,
      "outputs": []
    },
    {
      "cell_type": "code",
      "source": [
        "df_fr_sc"
      ],
      "metadata": {
        "colab": {
          "base_uri": "https://localhost:8080/",
          "height": 423
        },
        "id": "gAYt_EG3TA2I",
        "outputId": "5ee3d622-e948-4108-c1de-913113467cc3"
      },
      "execution_count": null,
      "outputs": [
        {
          "output_type": "execute_result",
          "data": {
            "text/plain": [
              "            date                              tracker_name  count  score_high\n",
              "12    2023-03-22       Realweb_inapp_Valuadle_Android_a799      1           1\n",
              "28    2023-03-29  Realweb_inapp_Android_CPA_Adshustle_a224    753          15\n",
              "30    2023-03-10         Realweb_inapp_Kvidu2_Android_a224      7           1\n",
              "35    2023-03-25      Realweb_inapp_Android_CPA_Kvidu_a224     12           3\n",
              "36    2023-03-22   Realweb_inapp_Android_CPA_Joinship_a224      9           1\n",
              "...          ...                                       ...    ...         ...\n",
              "2410  2023-03-10     Realweb_inapp_Touchpoint_Android_a799     30          17\n",
              "2414  2023-03-12        Realweb_inapp_Mustang_Android_a799     27           6\n",
              "2417  2023-03-06     Realweb_inapp_Touchpoint_Android_a799     34           9\n",
              "2420  2023-03-03    Realweb_inapp_Roockmobile_Android_a224     12           3\n",
              "2431  2023-03-02      Realweb_inapp_Hehemobi2_Android_a799      7           5\n",
              "\n",
              "[313 rows x 4 columns]"
            ],
            "text/html": [
              "\n",
              "  <div id=\"df-bea5aef0-48ed-4399-9877-cd7254652391\">\n",
              "    <div class=\"colab-df-container\">\n",
              "      <div>\n",
              "<style scoped>\n",
              "    .dataframe tbody tr th:only-of-type {\n",
              "        vertical-align: middle;\n",
              "    }\n",
              "\n",
              "    .dataframe tbody tr th {\n",
              "        vertical-align: top;\n",
              "    }\n",
              "\n",
              "    .dataframe thead th {\n",
              "        text-align: right;\n",
              "    }\n",
              "</style>\n",
              "<table border=\"1\" class=\"dataframe\">\n",
              "  <thead>\n",
              "    <tr style=\"text-align: right;\">\n",
              "      <th></th>\n",
              "      <th>date</th>\n",
              "      <th>tracker_name</th>\n",
              "      <th>count</th>\n",
              "      <th>score_high</th>\n",
              "    </tr>\n",
              "  </thead>\n",
              "  <tbody>\n",
              "    <tr>\n",
              "      <th>12</th>\n",
              "      <td>2023-03-22</td>\n",
              "      <td>Realweb_inapp_Valuadle_Android_a799</td>\n",
              "      <td>1</td>\n",
              "      <td>1</td>\n",
              "    </tr>\n",
              "    <tr>\n",
              "      <th>28</th>\n",
              "      <td>2023-03-29</td>\n",
              "      <td>Realweb_inapp_Android_CPA_Adshustle_a224</td>\n",
              "      <td>753</td>\n",
              "      <td>15</td>\n",
              "    </tr>\n",
              "    <tr>\n",
              "      <th>30</th>\n",
              "      <td>2023-03-10</td>\n",
              "      <td>Realweb_inapp_Kvidu2_Android_a224</td>\n",
              "      <td>7</td>\n",
              "      <td>1</td>\n",
              "    </tr>\n",
              "    <tr>\n",
              "      <th>35</th>\n",
              "      <td>2023-03-25</td>\n",
              "      <td>Realweb_inapp_Android_CPA_Kvidu_a224</td>\n",
              "      <td>12</td>\n",
              "      <td>3</td>\n",
              "    </tr>\n",
              "    <tr>\n",
              "      <th>36</th>\n",
              "      <td>2023-03-22</td>\n",
              "      <td>Realweb_inapp_Android_CPA_Joinship_a224</td>\n",
              "      <td>9</td>\n",
              "      <td>1</td>\n",
              "    </tr>\n",
              "    <tr>\n",
              "      <th>...</th>\n",
              "      <td>...</td>\n",
              "      <td>...</td>\n",
              "      <td>...</td>\n",
              "      <td>...</td>\n",
              "    </tr>\n",
              "    <tr>\n",
              "      <th>2410</th>\n",
              "      <td>2023-03-10</td>\n",
              "      <td>Realweb_inapp_Touchpoint_Android_a799</td>\n",
              "      <td>30</td>\n",
              "      <td>17</td>\n",
              "    </tr>\n",
              "    <tr>\n",
              "      <th>2414</th>\n",
              "      <td>2023-03-12</td>\n",
              "      <td>Realweb_inapp_Mustang_Android_a799</td>\n",
              "      <td>27</td>\n",
              "      <td>6</td>\n",
              "    </tr>\n",
              "    <tr>\n",
              "      <th>2417</th>\n",
              "      <td>2023-03-06</td>\n",
              "      <td>Realweb_inapp_Touchpoint_Android_a799</td>\n",
              "      <td>34</td>\n",
              "      <td>9</td>\n",
              "    </tr>\n",
              "    <tr>\n",
              "      <th>2420</th>\n",
              "      <td>2023-03-03</td>\n",
              "      <td>Realweb_inapp_Roockmobile_Android_a224</td>\n",
              "      <td>12</td>\n",
              "      <td>3</td>\n",
              "    </tr>\n",
              "    <tr>\n",
              "      <th>2431</th>\n",
              "      <td>2023-03-02</td>\n",
              "      <td>Realweb_inapp_Hehemobi2_Android_a799</td>\n",
              "      <td>7</td>\n",
              "      <td>5</td>\n",
              "    </tr>\n",
              "  </tbody>\n",
              "</table>\n",
              "<p>313 rows × 4 columns</p>\n",
              "</div>\n",
              "      <button class=\"colab-df-convert\" onclick=\"convertToInteractive('df-bea5aef0-48ed-4399-9877-cd7254652391')\"\n",
              "              title=\"Convert this dataframe to an interactive table.\"\n",
              "              style=\"display:none;\">\n",
              "        \n",
              "  <svg xmlns=\"http://www.w3.org/2000/svg\" height=\"24px\"viewBox=\"0 0 24 24\"\n",
              "       width=\"24px\">\n",
              "    <path d=\"M0 0h24v24H0V0z\" fill=\"none\"/>\n",
              "    <path d=\"M18.56 5.44l.94 2.06.94-2.06 2.06-.94-2.06-.94-.94-2.06-.94 2.06-2.06.94zm-11 1L8.5 8.5l.94-2.06 2.06-.94-2.06-.94L8.5 2.5l-.94 2.06-2.06.94zm10 10l.94 2.06.94-2.06 2.06-.94-2.06-.94-.94-2.06-.94 2.06-2.06.94z\"/><path d=\"M17.41 7.96l-1.37-1.37c-.4-.4-.92-.59-1.43-.59-.52 0-1.04.2-1.43.59L10.3 9.45l-7.72 7.72c-.78.78-.78 2.05 0 2.83L4 21.41c.39.39.9.59 1.41.59.51 0 1.02-.2 1.41-.59l7.78-7.78 2.81-2.81c.8-.78.8-2.07 0-2.86zM5.41 20L4 18.59l7.72-7.72 1.47 1.35L5.41 20z\"/>\n",
              "  </svg>\n",
              "      </button>\n",
              "      \n",
              "  <style>\n",
              "    .colab-df-container {\n",
              "      display:flex;\n",
              "      flex-wrap:wrap;\n",
              "      gap: 12px;\n",
              "    }\n",
              "\n",
              "    .colab-df-convert {\n",
              "      background-color: #E8F0FE;\n",
              "      border: none;\n",
              "      border-radius: 50%;\n",
              "      cursor: pointer;\n",
              "      display: none;\n",
              "      fill: #1967D2;\n",
              "      height: 32px;\n",
              "      padding: 0 0 0 0;\n",
              "      width: 32px;\n",
              "    }\n",
              "\n",
              "    .colab-df-convert:hover {\n",
              "      background-color: #E2EBFA;\n",
              "      box-shadow: 0px 1px 2px rgba(60, 64, 67, 0.3), 0px 1px 3px 1px rgba(60, 64, 67, 0.15);\n",
              "      fill: #174EA6;\n",
              "    }\n",
              "\n",
              "    [theme=dark] .colab-df-convert {\n",
              "      background-color: #3B4455;\n",
              "      fill: #D2E3FC;\n",
              "    }\n",
              "\n",
              "    [theme=dark] .colab-df-convert:hover {\n",
              "      background-color: #434B5C;\n",
              "      box-shadow: 0px 1px 3px 1px rgba(0, 0, 0, 0.15);\n",
              "      filter: drop-shadow(0px 1px 2px rgba(0, 0, 0, 0.3));\n",
              "      fill: #FFFFFF;\n",
              "    }\n",
              "  </style>\n",
              "\n",
              "      <script>\n",
              "        const buttonEl =\n",
              "          document.querySelector('#df-bea5aef0-48ed-4399-9877-cd7254652391 button.colab-df-convert');\n",
              "        buttonEl.style.display =\n",
              "          google.colab.kernel.accessAllowed ? 'block' : 'none';\n",
              "\n",
              "        async function convertToInteractive(key) {\n",
              "          const element = document.querySelector('#df-bea5aef0-48ed-4399-9877-cd7254652391');\n",
              "          const dataTable =\n",
              "            await google.colab.kernel.invokeFunction('convertToInteractive',\n",
              "                                                     [key], {});\n",
              "          if (!dataTable) return;\n",
              "\n",
              "          const docLinkHtml = 'Like what you see? Visit the ' +\n",
              "            '<a target=\"_blank\" href=https://colab.research.google.com/notebooks/data_table.ipynb>data table notebook</a>'\n",
              "            + ' to learn more about interactive tables.';\n",
              "          element.innerHTML = '';\n",
              "          dataTable['output_type'] = 'display_data';\n",
              "          await google.colab.output.renderOutput(dataTable, element);\n",
              "          const docLink = document.createElement('div');\n",
              "          docLink.innerHTML = docLinkHtml;\n",
              "          element.appendChild(docLink);\n",
              "        }\n",
              "      </script>\n",
              "    </div>\n",
              "  </div>\n",
              "  "
            ]
          },
          "metadata": {},
          "execution_count": 19
        }
      ]
    },
    {
      "cell_type": "code",
      "source": [
        "df_fr_sc['score_high'].sum()"
      ],
      "metadata": {
        "colab": {
          "base_uri": "https://localhost:8080/"
        },
        "id": "Svh7mqiWTLEF",
        "outputId": "12a1af03-ac45-40b4-b169-d4e0a2eb6130"
      },
      "execution_count": null,
      "outputs": [
        {
          "output_type": "execute_result",
          "data": {
            "text/plain": [
              "1542"
            ]
          },
          "metadata": {},
          "execution_count": 20
        }
      ]
    },
    {
      "cell_type": "code",
      "source": [
        "# df_fr_sc.to_gbq('grow-food-367913.Meta.data_fraud_install', \n",
        "#           project_id='grow-food-367913',  \n",
        "#           if_exists='replace',\n",
        "#           credentials=credentials)"
      ],
      "metadata": {
        "id": "7edxXEL-5oOC"
      },
      "execution_count": null,
      "outputs": []
    },
    {
      "cell_type": "code",
      "source": [
        "sql_fraud_install = \"\"\"SELECT * FROM `grow-food-367913.Meta.data_fraud_install`\"\"\"\n",
        "all_inst_fraud = pd.read_gbq(sql_fraud_install, credentials=credentials, dialect='standard')\n",
        "all_inst_fraud = all_inst_fraud.drop_duplicates()"
      ],
      "metadata": {
        "id": "WLBF906f5oQg"
      },
      "execution_count": null,
      "outputs": []
    },
    {
      "cell_type": "code",
      "source": [
        "from oauth2client.service_account import ServiceAccountCredentials\n",
        "import gspread\n",
        "from gspread_dataframe import set_with_dataframe\n",
        "\n",
        "scope = [\n",
        "    'https://www.googleapis.com/auth/spreadsheets',\n",
        "]\n",
        "\n",
        "GOOGLE_KEY_FILE = '/content/grow-food-367913-2a42be2fc3c2.json'\n",
        "\n",
        "credentials_spread = ServiceAccountCredentials.from_json_keyfile_name(GOOGLE_KEY_FILE, scope)\n",
        "gc = gspread.authorize(credentials_spread)\n",
        "\n",
        "workbook_key = '1_92jon59KaQE2eQps2PYgVYIIvcHnbM_lNfRCgNcdzo'\n",
        "workbook = gc.open_by_key(workbook_key)"
      ],
      "metadata": {
        "id": "k2eXVwd5s1lt"
      },
      "execution_count": null,
      "outputs": []
    },
    {
      "cell_type": "code",
      "source": [
        "sheet2 = workbook.worksheet('budget')\n",
        "values2 = sheet2.get_all_values()\n",
        "data2 = pd.DataFrame(values2[1:],columns=values2[0])"
      ],
      "metadata": {
        "id": "uClQ0nCjyjgB"
      },
      "execution_count": null,
      "outputs": []
    },
    {
      "cell_type": "code",
      "source": [
        "all_data_fraud.head()"
      ],
      "metadata": {
        "colab": {
          "base_uri": "https://localhost:8080/",
          "height": 206
        },
        "id": "GfZ76MttOzWr",
        "outputId": "679cde2b-7f19-4a1a-e5c3-f2bf47b9446a"
      },
      "execution_count": null,
      "outputs": [
        {
          "output_type": "execute_result",
          "data": {
            "text/plain": [
              "         date                                   tracker_name  fraud\n",
              "0  2023-02-07  Realweb_ Offersinfinite_AND_a799_c210_m405_u1     12\n",
              "1  2023-02-07         Realweb_iconpeak_AND_a799_c210_m405_u1      1\n",
              "2  2023-02-07          Realweb_metmobi_AND_a799_c210_m405_u1      1\n",
              "3  2023-02-06         Realweb_valuadle_AND_a799_c210_m405_u1      1\n",
              "4  2023-02-06  Realweb_ Offersinfinite_AND_a799_c210_m405_u1      1"
            ],
            "text/html": [
              "\n",
              "  <div id=\"df-840f59fb-713d-4ee5-8f9b-a2afe0202b8e\">\n",
              "    <div class=\"colab-df-container\">\n",
              "      <div>\n",
              "<style scoped>\n",
              "    .dataframe tbody tr th:only-of-type {\n",
              "        vertical-align: middle;\n",
              "    }\n",
              "\n",
              "    .dataframe tbody tr th {\n",
              "        vertical-align: top;\n",
              "    }\n",
              "\n",
              "    .dataframe thead th {\n",
              "        text-align: right;\n",
              "    }\n",
              "</style>\n",
              "<table border=\"1\" class=\"dataframe\">\n",
              "  <thead>\n",
              "    <tr style=\"text-align: right;\">\n",
              "      <th></th>\n",
              "      <th>date</th>\n",
              "      <th>tracker_name</th>\n",
              "      <th>fraud</th>\n",
              "    </tr>\n",
              "  </thead>\n",
              "  <tbody>\n",
              "    <tr>\n",
              "      <th>0</th>\n",
              "      <td>2023-02-07</td>\n",
              "      <td>Realweb_ Offersinfinite_AND_a799_c210_m405_u1</td>\n",
              "      <td>12</td>\n",
              "    </tr>\n",
              "    <tr>\n",
              "      <th>1</th>\n",
              "      <td>2023-02-07</td>\n",
              "      <td>Realweb_iconpeak_AND_a799_c210_m405_u1</td>\n",
              "      <td>1</td>\n",
              "    </tr>\n",
              "    <tr>\n",
              "      <th>2</th>\n",
              "      <td>2023-02-07</td>\n",
              "      <td>Realweb_metmobi_AND_a799_c210_m405_u1</td>\n",
              "      <td>1</td>\n",
              "    </tr>\n",
              "    <tr>\n",
              "      <th>3</th>\n",
              "      <td>2023-02-06</td>\n",
              "      <td>Realweb_valuadle_AND_a799_c210_m405_u1</td>\n",
              "      <td>1</td>\n",
              "    </tr>\n",
              "    <tr>\n",
              "      <th>4</th>\n",
              "      <td>2023-02-06</td>\n",
              "      <td>Realweb_ Offersinfinite_AND_a799_c210_m405_u1</td>\n",
              "      <td>1</td>\n",
              "    </tr>\n",
              "  </tbody>\n",
              "</table>\n",
              "</div>\n",
              "      <button class=\"colab-df-convert\" onclick=\"convertToInteractive('df-840f59fb-713d-4ee5-8f9b-a2afe0202b8e')\"\n",
              "              title=\"Convert this dataframe to an interactive table.\"\n",
              "              style=\"display:none;\">\n",
              "        \n",
              "  <svg xmlns=\"http://www.w3.org/2000/svg\" height=\"24px\"viewBox=\"0 0 24 24\"\n",
              "       width=\"24px\">\n",
              "    <path d=\"M0 0h24v24H0V0z\" fill=\"none\"/>\n",
              "    <path d=\"M18.56 5.44l.94 2.06.94-2.06 2.06-.94-2.06-.94-.94-2.06-.94 2.06-2.06.94zm-11 1L8.5 8.5l.94-2.06 2.06-.94-2.06-.94L8.5 2.5l-.94 2.06-2.06.94zm10 10l.94 2.06.94-2.06 2.06-.94-2.06-.94-.94-2.06-.94 2.06-2.06.94z\"/><path d=\"M17.41 7.96l-1.37-1.37c-.4-.4-.92-.59-1.43-.59-.52 0-1.04.2-1.43.59L10.3 9.45l-7.72 7.72c-.78.78-.78 2.05 0 2.83L4 21.41c.39.39.9.59 1.41.59.51 0 1.02-.2 1.41-.59l7.78-7.78 2.81-2.81c.8-.78.8-2.07 0-2.86zM5.41 20L4 18.59l7.72-7.72 1.47 1.35L5.41 20z\"/>\n",
              "  </svg>\n",
              "      </button>\n",
              "      \n",
              "  <style>\n",
              "    .colab-df-container {\n",
              "      display:flex;\n",
              "      flex-wrap:wrap;\n",
              "      gap: 12px;\n",
              "    }\n",
              "\n",
              "    .colab-df-convert {\n",
              "      background-color: #E8F0FE;\n",
              "      border: none;\n",
              "      border-radius: 50%;\n",
              "      cursor: pointer;\n",
              "      display: none;\n",
              "      fill: #1967D2;\n",
              "      height: 32px;\n",
              "      padding: 0 0 0 0;\n",
              "      width: 32px;\n",
              "    }\n",
              "\n",
              "    .colab-df-convert:hover {\n",
              "      background-color: #E2EBFA;\n",
              "      box-shadow: 0px 1px 2px rgba(60, 64, 67, 0.3), 0px 1px 3px 1px rgba(60, 64, 67, 0.15);\n",
              "      fill: #174EA6;\n",
              "    }\n",
              "\n",
              "    [theme=dark] .colab-df-convert {\n",
              "      background-color: #3B4455;\n",
              "      fill: #D2E3FC;\n",
              "    }\n",
              "\n",
              "    [theme=dark] .colab-df-convert:hover {\n",
              "      background-color: #434B5C;\n",
              "      box-shadow: 0px 1px 3px 1px rgba(0, 0, 0, 0.15);\n",
              "      filter: drop-shadow(0px 1px 2px rgba(0, 0, 0, 0.3));\n",
              "      fill: #FFFFFF;\n",
              "    }\n",
              "  </style>\n",
              "\n",
              "      <script>\n",
              "        const buttonEl =\n",
              "          document.querySelector('#df-840f59fb-713d-4ee5-8f9b-a2afe0202b8e button.colab-df-convert');\n",
              "        buttonEl.style.display =\n",
              "          google.colab.kernel.accessAllowed ? 'block' : 'none';\n",
              "\n",
              "        async function convertToInteractive(key) {\n",
              "          const element = document.querySelector('#df-840f59fb-713d-4ee5-8f9b-a2afe0202b8e');\n",
              "          const dataTable =\n",
              "            await google.colab.kernel.invokeFunction('convertToInteractive',\n",
              "                                                     [key], {});\n",
              "          if (!dataTable) return;\n",
              "\n",
              "          const docLinkHtml = 'Like what you see? Visit the ' +\n",
              "            '<a target=\"_blank\" href=https://colab.research.google.com/notebooks/data_table.ipynb>data table notebook</a>'\n",
              "            + ' to learn more about interactive tables.';\n",
              "          element.innerHTML = '';\n",
              "          dataTable['output_type'] = 'display_data';\n",
              "          await google.colab.output.renderOutput(dataTable, element);\n",
              "          const docLink = document.createElement('div');\n",
              "          docLink.innerHTML = docLinkHtml;\n",
              "          element.appendChild(docLink);\n",
              "        }\n",
              "      </script>\n",
              "    </div>\n",
              "  </div>\n",
              "  "
            ]
          },
          "metadata": {},
          "execution_count": 35
        }
      ]
    },
    {
      "cell_type": "code",
      "source": [
        "# data2.start_date = pd.to_datetime(data2.start_date, format = '%Y-%m-%d')\n",
        "# data2.end_date = pd.to_datetime(data2.end_date, format = '%Y-%m-%d')\n",
        "all_inst_fraud['date_agg'] = pd.to_datetime(all_inst_fraud.date.astype('str'))\n",
        "all_data_fraud['date_agg'] = pd.to_datetime(all_data_fraud.date.astype('str'))\n",
        "all_inst_fraud['code_agency'] = all_inst_fraud.tracker_name.apply(lambda x: x.lower().split('_')[3] if (x.lower().split('_')[2] in ['and', 'ios']) else x.lower().split('_')[4])\n",
        "all_inst_fraud['code_source'] = all_inst_fraud.tracker_name.apply(lambda x: x.lower().split('_')[4] if (x.lower().split('_')[2] in ['and', 'ios']) else x.lower().split('_')[5])\n",
        "all_data_fraud['code_agency'] = all_data_fraud.tracker_name.apply(lambda x: x.lower().split('_')[3] if (x.lower().split('_')[2] in ['and', 'ios']) else x.lower().split('_')[4])\n",
        "all_data_fraud['code_source'] = all_data_fraud.tracker_name.apply(lambda x: x.lower().split('_')[4] if (x.lower().split('_')[2] in ['and', 'ios']) else x.lower().split('_')[5])\n",
        "all_inst_fraud['os_name'] = all_inst_fraud.tracker_name.apply(lambda x: 'android' if x.lower().split('_')[2] == 'and' else ('ios' if x.lower().split('_')[2] == 'ios' else x))\n",
        "all_data_fraud['os_name'] = all_data_fraud.tracker_name.apply(lambda x: 'android' if x.lower().split('_')[2] == 'and' else ('ios' if x.lower().split('_')[2] == 'ios' else x))\n",
        "merge_data_inst = all_inst_fraud.merge(dict_ag, how='left', on='code_agency') \\\n",
        "                          .merge(dict_s, how='left', on='code_source') \\\n",
        "                          .drop(columns=['code_agency', 'code_source'])\n",
        "merge_data_fraud = all_data_fraud.merge(dict_ag, how='left', on='code_agency') \\\n",
        "                          .merge(dict_s, how='left', on='code_source') \\\n",
        "                          .drop(columns=['code_agency', 'code_source'])\n",
        "intsalls = []\n",
        "events = []\n",
        "fraud_ev = []\n",
        "fraud_inst = []\n",
        "for i in data2.itertuples():\n",
        "    start_date, end_date, partner, platform, source  = i.start_date, i.end_date, i.partner, i.platform, i.source\n",
        "    intsalls += [merge_data.query('date >= @start_date and date <= @end_date and os_name == @platform and agency_name == @partner and source_name == @source').installs.sum()]\n",
        "    events += [merge_data.query('date >= @start_date and date <= @end_date and os_name == @platform and agency_name == @partner and source_name == @source').event_count.sum()]\n",
        "    fraud_ev += [merge_data_fraud.query('date_agg >= @start_date and date_agg <= @end_date and os_name == @platform and agency_name == @partner and source_name == @source').fraud.sum()]\n",
        "    fraud_inst += [merge_data_inst.query('date_agg >= @start_date and date_agg <= @end_date and os_name == @platform and agency_name == @partner and source_name == @source').score_high.sum()]\n",
        "data2['intsalls'] = pd.Series(intsalls)\n",
        "data2['events'] = pd.Series(events)\n",
        "data2['fraud_ev'] = pd.Series(fraud_ev)\n",
        "data2['fraud_inst'] = pd.Series(fraud_inst)\n",
        "data2['real_intsalls'] = data2.intsalls - data2.fraud_inst\n",
        "data2['real_events'] = data2.events - data2.fraud_ev\n",
        "data2 = data2.drop(columns=['intsalls', 'events', 'fraud_ev', 'fraud_inst'])\n",
        "all_inst_fraud = all_inst_fraud.drop(columns=['date_agg', 'code_agency', 'code_source', 'os_name'])\n",
        "all_data_fraud = all_data_fraud.drop(columns=['date_agg', 'code_agency', 'code_source', 'os_name'])"
      ],
      "metadata": {
        "id": "sUqLfi9WEB_A"
      },
      "execution_count": null,
      "outputs": []
    },
    {
      "cell_type": "code",
      "source": [
        "# data1.plan_budget = data1.plan_budget.apply(lambda x: str(x).replace(',', '.').replace('\\xa0', '')).astype('float')\n",
        "# data1.plan_installs = data1.plan_installs.apply(lambda x: str(x).replace(',', '.').replace('\\xa0', '')).astype('float')\n",
        "# data1.event_af_purchase_new = data1.event_af_purchase_new.apply(lambda x: str(x).replace(',', '.').replace('\\xa0', '')).astype('float')\n",
        "data2.rate_for_us = data2.rate_for_us.apply(lambda x: str(x).replace(',', '.').replace('\\xa0', '')).astype('float')\n",
        "data2.rate_for_parthner = data2.rate_for_parthner.apply(lambda x: str(x).replace(',', '.').replace('\\xa0', '')).astype('float')\n",
        "data2.plan_af_purchase_new = data2.plan_af_purchase_new.apply(lambda x: str(x).replace(',', '.').replace('\\xa0', '')).astype('float')\n",
        "data2['real_budget'] = data2.real_events * data2.rate_for_us\n",
        "data2['marga'] = (data2.rate_for_us - data2.rate_for_parthner)*data2.real_events\n",
        "data2['plan_budget'] = data2.rate_for_us * data2.plan_af_purchase_new"
      ],
      "metadata": {
        "id": "8Y1BaKBkrW3B"
      },
      "execution_count": null,
      "outputs": []
    },
    {
      "cell_type": "code",
      "source": [
        "sheet3 = workbook.worksheet('real_budget')\n",
        "sheet3.clear()\n",
        "set_with_dataframe(worksheet=sheet3, dataframe=data2, include_index=False,\n",
        "include_column_header=True, resize=True)"
      ],
      "metadata": {
        "id": "pycxT6rRv7MA"
      },
      "execution_count": null,
      "outputs": []
    },
    {
      "cell_type": "code",
      "source": [
        "# df_data['os_name'] = df_data.tracker_name.apply(lambda x: 'android' if x.lower().split('_')[2] == 'and' else ('ios' if x.lower().split('_')[2] == 'ios' else x))\n",
        "data_for_report = all_data.groupby(['date', 'tracker_name', 'os_name'], as_index=False) \\\n",
        "          .agg({'installs': 'sum', 'event_count': 'sum'}) \\\n",
        "          .merge(all_data_fraud, how='left', on=['date', 'tracker_name']) \\\n",
        "          .merge(all_inst_fraud, how='left', on=['date', 'tracker_name']) \\\n",
        "          .rename(columns={'count': 'conv_count', 'score_high': 'fraud_inst'}).fillna(0)\n",
        "data_for_report.fraud = data_for_report.fraud.fillna(0).astype('int')\n",
        "data_for_report.installs = data_for_report.installs.astype('int')\n",
        "data_for_report.event_count = data_for_report.event_count.astype('int')\n",
        "data_for_report.date = pd.to_datetime(data_for_report.date)\n",
        "data_report = data_for_report.query('date >= \"2022-11-21\"')\n",
        "data_report.date = data_report.date.dt.date.astype('str')\n",
        "data_report"
      ],
      "metadata": {
        "id": "A4YcfpMm3YjK"
      },
      "execution_count": null,
      "outputs": []
    },
    {
      "cell_type": "code",
      "source": [
        "# data_report.to_gbq('grow-food-367913.Meta.data_for_report', \n",
        "#           project_id='grow-food-367913',  \n",
        "#           if_exists='replace',\n",
        "#           credentials=credentials)"
      ],
      "metadata": {
        "id": "tOwKcSid5_T2"
      },
      "execution_count": null,
      "outputs": []
    }
  ]
}