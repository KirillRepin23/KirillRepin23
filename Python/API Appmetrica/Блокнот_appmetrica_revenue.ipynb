{
  "nbformat": 4,
  "nbformat_minor": 0,
  "metadata": {
    "colab": {
      "provenance": []
    },
    "kernelspec": {
      "name": "python3",
      "display_name": "Python 3"
    },
    "language_info": {
      "name": "python"
    }
  },
  "cells": [
    {
      "cell_type": "code",
      "execution_count": null,
      "metadata": {
        "id": "zBK-KLnYEQsh"
      },
      "outputs": [],
      "source": [
        "import requests\n",
        "import time\n",
        "import pandas as pd\n",
        "import re\n",
        "from datetime import date, timedelta\n",
        "import json\n",
        "import io"
      ]
    },
    {
      "cell_type": "code",
      "source": [
        "!gdown 'https://drive.google.com/uc?id=***************************'"
      ],
      "metadata": {
        "id": "GmWOpq3WEV8-"
      },
      "execution_count": null,
      "outputs": []
    },
    {
      "cell_type": "code",
      "source": [
        "from google.oauth2 import service_account\n",
        "\n",
        "credentials = service_account.Credentials.from_service_account_file('/content/holodilnik-bq-376311-50cc6f8cfc32.json')"
      ],
      "metadata": {
        "id": "MKNAZlEyEXqx"
      },
      "execution_count": null,
      "outputs": []
    },
    {
      "cell_type": "code",
      "source": [
        "date_since = (date.today()-timedelta(days=182)).strftime('%Y-%m-%d %H:%M:%S')"
      ],
      "metadata": {
        "id": "xT6wSbZqEZSi"
      },
      "execution_count": null,
      "outputs": []
    },
    {
      "cell_type": "code",
      "source": [
        "date_until = date.today().strftime('%Y-%m-%d %H:%M:%S')"
      ],
      "metadata": {
        "id": "Yg5a-JfGEbEj"
      },
      "execution_count": null,
      "outputs": []
    },
    {
      "cell_type": "code",
      "source": [
        "fields = 'appmetrica_device_id,event_name,event_datetime,revenue_quantity,revenue_price,revenue_product_id,revenue_order_id,is_revenue_verified,device_manufacturer'\n",
        "application_id = '*******'\n",
        "url= f'https://api.appmetrica.yandex.ru/logs/v1/export/revenue_events.json?application_id={application_id}&date_since={date_since}&date_until={date_until}&fields={fields}'\n",
        "header = {'Authorization': 'OAuth *************************'}\n",
        "response1 = requests.get(url=url, headers=header)\n",
        "k=0\n",
        "while response1.status_code != 200 and k<90:\n",
        "  response1 = requests.get(url=url, headers=header)\n",
        "  print(response1.status_code)\n",
        "  time.sleep(5)\n",
        "  k+=1"
      ],
      "metadata": {
        "id": "Vq-KS25IEd_n"
      },
      "execution_count": null,
      "outputs": []
    },
    {
      "cell_type": "code",
      "source": [
        "js1_df = response1.json()"
      ],
      "metadata": {
        "id": "5wHWub1VO5dF"
      },
      "execution_count": null,
      "outputs": []
    },
    {
      "cell_type": "code",
      "source": [
        "df_purchases_rec = pd.DataFrame(js1_df['data'])"
      ],
      "metadata": {
        "id": "1bG97QYGO829"
      },
      "execution_count": null,
      "outputs": []
    },
    {
      "cell_type": "code",
      "source": [
        "df_purchases_rec.sort_values('revenue_price').head(50)"
      ],
      "metadata": {
        "id": "o9TjrSHWSo--"
      },
      "execution_count": null,
      "outputs": []
    },
    {
      "cell_type": "code",
      "source": [
        "df_purchases_rec['full_revenue'] = df_purchases_rec['revenue_quantity'].astype('float') * df_purchases_rec['revenue_price'].astype('float')"
      ],
      "metadata": {
        "id": "GMstUOLCtFYg"
      },
      "execution_count": null,
      "outputs": []
    },
    {
      "cell_type": "code",
      "source": [
        "df_purchases_rec.sort_values('full_revenue').head(50)"
      ],
      "metadata": {
        "id": "Ijd_mhdeScxu"
      },
      "execution_count": null,
      "outputs": []
    },
    {
      "cell_type": "code",
      "source": [
        "df_purchases_rec.to_gbq('holodilnik-bq-376311.appmetrica_dashboard.purchases', \n",
        "          project_id='holodilnik-bq-376311',  \n",
        "          if_exists='append',\n",
        "          credentials=credentials)"
      ],
      "metadata": {
        "colab": {
          "base_uri": "https://localhost:8080/"
        },
        "id": "l2aLvd24UcPl",
        "outputId": "e9e87b0f-e66a-48eb-d610-fd12bc056ffd"
      },
      "execution_count": null,
      "outputs": [
        {
          "output_type": "stream",
          "name": "stderr",
          "text": [
            "100%|██████████| 1/1 [00:00<00:00, 7121.06it/s]\n"
          ]
        }
      ]
    },
    {
      "cell_type": "code",
      "source": [
        "sql = \"\"\"SELECT * FROM `holodilnik-bq-376311.appmetrica_dashboard.purchases`\"\"\"\n",
        "all_data = pd.read_gbq(sql, credentials=credentials, dialect='standard')\n",
        "all_data = all_data.drop_duplicates()"
      ],
      "metadata": {
        "id": "BCbnPbieUcSg"
      },
      "execution_count": null,
      "outputs": []
    },
    {
      "cell_type": "code",
      "source": [
        "all_data.to_gbq('holodilnik-bq-376311.appmetrica_dashboard.purchases', \n",
        "           project_id='holodilnik-bq-376311',  \n",
        "           if_exists='replace',\n",
        "           credentials=credentials)"
      ],
      "metadata": {
        "colab": {
          "base_uri": "https://localhost:8080/"
        },
        "id": "-bdOzC8GUm5Z",
        "outputId": "dbb8a5ac-188c-4e94-82ed-30511916a99f"
      },
      "execution_count": null,
      "outputs": [
        {
          "output_type": "stream",
          "name": "stderr",
          "text": [
            "100%|██████████| 1/1 [00:00<00:00, 2824.45it/s]\n"
          ]
        }
      ]
    }
  ]
}