{
  "cells": [
    {
      "cell_type": "code",
      "execution_count": null,
      "metadata": {
        "id": "fQvH6noykQlk"
      },
      "outputs": [],
      "source": [
        "import requests\n",
        "import time\n",
        "import pandas as pd\n",
        "import re\n",
        "from datetime import date, timedelta\n",
        "import json\n",
        "import io"
      ]
    },
    {
      "cell_type": "code",
      "execution_count": null,
      "metadata": {
        "id": "uvEGnGXt_N50"
      },
      "outputs": [],
      "source": [
        "!gdown 'https://drive.google.com/uc?id=****************'"
      ]
    },
    {
      "cell_type": "code",
      "execution_count": null,
      "metadata": {
        "id": "l7Xh6rGs_QLz"
      },
      "outputs": [],
      "source": [
        "from google.oauth2 import service_account\n",
        "\n",
        "credentials = service_account.Credentials.from_service_account_file('/content/holodilnik-bq-376311-50cc6f8cfc32.json')"
      ]
    },
    {
      "cell_type": "code",
      "execution_count": null,
      "metadata": {
        "id": "XFuqMDGEllbL"
      },
      "outputs": [],
      "source": [
        "date_since = (date.today()-timedelta(days=182)).strftime('%Y-%m-%d %H:%M:%S')"
      ]
    },
    {
      "cell_type": "code",
      "execution_count": null,
      "metadata": {
        "id": "s4SpM_yix9rr"
      },
      "outputs": [],
      "source": [
        "date_until = date.today().strftime('%Y-%m-%d %H:%M:%S')"
      ]
    },
    {
      "cell_type": "code",
      "execution_count": null,
      "metadata": {
        "colab": {
          "base_uri": "https://localhost:8080/"
        },
        "id": "ClijcE59px_Y",
        "outputId": "09fb9b94-d3ec-4bbb-a592-2575b3ffcd53"
      },
      "outputs": [],
      "source": [
        "fields = 'appmetrica_device_id,tracker_name,install_datetime,device_type,os_name,publisher_id,publisher_name,is_reattribution,install_receive_datetime'\n",
        "application_id = '4*****3'\n",
        "url= f'https://api.appmetrica.yandex.ru/logs/v1/export/installations.json?application_id={application_id}&date_since={date_since}&date_until={date_until}&fields={fields}'\n",
        "header = {'Authorization': 'OAuth ********************************'}\n",
        "response1 = requests.get(url=url, headers=header)\n",
        "k=0\n",
        "while response1.status_code != 200 and k<90:\n",
        "  response1 = requests.get(url=url, headers=header)\n",
        "  print(response1.status_code)\n",
        "  time.sleep(5)\n",
        "  k+=1"
      ]
    },
    {
      "cell_type": "code",
      "execution_count": null,
      "metadata": {
        "id": "ieV3SjhS_r43"
      },
      "outputs": [],
      "source": [
        "js1_df = response1.json()\n",
        "df1 = pd.DataFrame(js1_df['data'])"
      ]
    },
    {
      "cell_type": "code",
      "execution_count": null,
      "metadata": {
        "id": "HkXfjXXWKLzy"
      },
      "outputs": [],
      "source": [
        "df_installs_rec = df1.query(\"is_reattribution=='false'\")"
      ]
    },
    {
      "cell_type": "code",
      "execution_count": null,
      "metadata": {
        "colab": {
          "base_uri": "https://localhost:8080/"
        },
        "id": "hJLdlgou_KjF",
        "outputId": "d882ece4-c3fa-484b-898d-fd773b03ea22"
      },
      "outputs": [
        {
          "name": "stderr",
          "output_type": "stream",
          "text": [
            "100%|██████████| 1/1 [00:00<00:00, 5777.28it/s]\n"
          ]
        }
      ],
      "source": [
        "df_installs_rec.to_gbq('holodilnik-bq-376311.appmetrica_dashboard.installs', \n",
        "          project_id='holodilnik-bq-376311',  \n",
        "          if_exists='append',\n",
        "          credentials=credentials)"
      ]
    },
    {
      "cell_type": "code",
      "execution_count": null,
      "metadata": {
        "id": "94GfyWHGAZa3"
      },
      "outputs": [],
      "source": [
        "sql = \"\"\"SELECT * FROM `holodilnik-bq-376311.appmetrica_dashboard.installs`\"\"\"\n",
        "all_data = pd.read_gbq(sql, credentials=credentials, dialect='standard')\n",
        "all_data = all_data.drop_duplicates()"
      ]
    },
    {
      "cell_type": "code",
      "execution_count": null,
      "metadata": {
        "colab": {
          "base_uri": "https://localhost:8080/"
        },
        "id": "P26a3KigAcOi",
        "outputId": "d9fab9a6-300a-4d61-9439-005ef3ca3671"
      },
      "outputs": [
        {
          "name": "stderr",
          "output_type": "stream",
          "text": [
            "100%|██████████| 1/1 [00:00<00:00, 854.76it/s]\n"
          ]
        }
      ],
      "source": [
        "all_data.to_gbq('holodilnik-bq-376311.appmetrica_dashboard.installs', \n",
        "           project_id='holodilnik-bq-376311',  \n",
        "           if_exists='replace',\n",
        "           credentials=credentials)"
      ]
    }
  ],
  "metadata": {
    "colab": {
      "provenance": []
    },
    "kernelspec": {
      "display_name": "Python 3",
      "name": "python3"
    },
    "language_info": {
      "name": "python"
    }
  },
  "nbformat": 4,
  "nbformat_minor": 0
}
