{
  "nbformat": 4,
  "nbformat_minor": 0,
  "metadata": {
    "colab": {
      "provenance": []
    },
    "kernelspec": {
      "name": "python3",
      "display_name": "Python 3"
    },
    "language_info": {
      "name": "python"
    }
  },
  "cells": [
    {
      "cell_type": "code",
      "execution_count": null,
      "metadata": {
        "id": "-deo4Z4QYScW"
      },
      "outputs": [],
      "source": [
        "import requests\n",
        "import time\n",
        "import pandas as pd\n",
        "import re\n",
        "from datetime import date, timedelta\n",
        "import json\n",
        "import io"
      ]
    },
    {
      "cell_type": "code",
      "source": [
        "!gdown 'https://drive.google.com/uc?id=***********************'"
      ],
      "metadata": {
        "id": "4REdPECq0WTD"
      },
      "execution_count": null,
      "outputs": []
    },
    {
      "cell_type": "code",
      "source": [
        "from google.oauth2 import service_account\n",
        "\n",
        "credentials = service_account.Credentials.from_service_account_file('/content/holodilnik-bq-376311-50cc6f8cfc32.json')"
      ],
      "metadata": {
        "id": "DJknxAR70bK3"
      },
      "execution_count": null,
      "outputs": []
    },
    {
      "cell_type": "code",
      "source": [
        "today = date.today().strftime('%Y-%m-%d')\n",
        "load_date = (date.today()-timedelta(days=2)).strftime('%Y-%m-%d')"
      ],
      "metadata": {
        "id": "o1hfvCLlyf4q"
      },
      "execution_count": null,
      "outputs": []
    },
    {
      "cell_type": "code",
      "source": [
        "CHANNEL = '*********-api-****zU'\n",
        "USER_KEY = '1277b56*****************0'\n",
        "EVENT = 'install'\n",
        "url = f'https://get.fraudscore.ai/{CHANNEL}/{EVENT}/groups'\n",
        "params = dict(key = USER_KEY)\n",
        "#params['group'] = ['date','offer_name']\n",
        "#params['field'] = ['datetime','any_offer_name','any_affiliate_name'] #,'id_2'\n",
        "params['field'] = ['datetime','affiliate_name', 'offer_name','id_2', 'score_str']\n",
        "params['sort'] = [\n",
        "\t'datetime_asc']\n",
        "params['filter'] = json.dumps([\n",
        "\t\"AND\",\n",
        "\t[\"date_gt\", load_date],\n",
        "\t[\"date_lt\", today]\n",
        "  ])\n",
        "params['page_size'] = 1000000\n",
        "r = requests.get(url, params, stream = True)\n"
      ],
      "metadata": {
        "id": "tjMQ2IqkYYgC"
      },
      "execution_count": null,
      "outputs": []
    },
    {
      "cell_type": "code",
      "source": [
        "datetime1 = []\n",
        "offer_name = []\n",
        "affiliate_name = []\n",
        "id_2 = []\n",
        "score_str = []\n",
        "\n",
        "for line in r.iter_lines():\n",
        " data = json.loads(line)\n",
        " datetime1 += [data['datetime']]\n",
        " offer_name += [data['offer_name']]\n",
        " affiliate_name += [data['affiliate_name']]\n",
        " id_2 += [data['id_2']]\n",
        " score_str += [data['score_str']]\n",
        "  \n",
        "  \n",
        "d = {'datetime1': datetime1, 'offer_name': offer_name, 'affiliate_name': affiliate_name, 'id_2': id_2, 'score': score_str}\n",
        "df_fraud_score = pd.DataFrame(data=d)"
      ],
      "metadata": {
        "id": "Ey62diT6GJ65"
      },
      "execution_count": null,
      "outputs": []
    },
    {
      "cell_type": "code",
      "source": [
        "df_fraud_score_high = df_fraud_score.query(\"score == 'high'\")"
      ],
      "metadata": {
        "id": "4UTSDhFvJXG_"
      },
      "execution_count": null,
      "outputs": []
    },
    {
      "cell_type": "code",
      "source": [
        "df_fraud_score_high.to_gbq('holodilnik-bq-376311.appmetrica_dashboard.high_fraudscore_appmetrica_device_id', \n",
        "          project_id='holodilnik-bq-376311',  \n",
        "          if_exists='append',\n",
        "          credentials=credentials)"
      ],
      "metadata": {
        "colab": {
          "base_uri": "https://localhost:8080/"
        },
        "id": "dbnxsKjf0SNL",
        "outputId": "f28c4145-456f-476c-f863-46994f3570b2"
      },
      "execution_count": null,
      "outputs": [
        {
          "output_type": "stream",
          "name": "stderr",
          "text": [
            "100%|██████████| 1/1 [00:00<00:00, 7612.17it/s]\n"
          ]
        }
      ]
    },
    {
      "cell_type": "code",
      "source": [
        "sql = \"\"\"SELECT * FROM `holodilnik-bq-376311.appmetrica_dashboard.high_fraudscore_appmetrica_device_id`\"\"\"\n",
        "all_data = pd.read_gbq(sql, credentials=credentials, dialect='standard')\n",
        "all_data = all_data.drop_duplicates()"
      ],
      "metadata": {
        "id": "8AObQoQFIoTX"
      },
      "execution_count": null,
      "outputs": []
    },
    {
      "cell_type": "code",
      "source": [
        "all_data.to_gbq('holodilnik-bq-376311.appmetrica_dashboard.high_fraudscore_appmetrica_device_id', \n",
        "           project_id='holodilnik-bq-376311',  \n",
        "           if_exists='replace',\n",
        "           credentials=credentials)"
      ],
      "metadata": {
        "colab": {
          "base_uri": "https://localhost:8080/"
        },
        "id": "QlyTNELfIrYY",
        "outputId": "2b7f0371-1165-4032-8ba5-b4b9e6758da0"
      },
      "execution_count": null,
      "outputs": [
        {
          "output_type": "stream",
          "name": "stderr",
          "text": [
            "100%|██████████| 1/1 [00:00<00:00, 5533.38it/s]\n"
          ]
        }
      ]
    }
  ]
}