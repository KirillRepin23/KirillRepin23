{
  "nbformat": 4,
  "nbformat_minor": 0,
  "metadata": {
    "colab": {
      "provenance": []
    },
    "kernelspec": {
      "name": "python3",
      "display_name": "Python 3"
    },
    "language_info": {
      "name": "python"
    }
  },
  "cells": [
    {
      "cell_type": "markdown",
      "source": [
        "#**Google Analytics (Universal Analytics) Reporting API**\n",
        "\n",
        "Этот скрипт запрашивает UA отчет у Google Analytics Reporting API и возвращает его в виде pandas dataframe.\n",
        "\n",
        "Последовательность действий:\n",
        "\n",
        "1. Создать проект в Google Cloud Platform в Google-аккаунте, который относится к вертикали клиента Риалвеб\n",
        "https://cloud.google.com/resource-manager/docs/creating-managing-projects\n",
        "\n",
        "\n",
        "\n",
        "2.  Активировать возможность использования Google Analytics Reporting API для этого проекта в Google Cloud Platform: кнопка \"+ENABLE APIS AND SERVICES\" в разделе APIs & Services, поиск и переход в Google Analytics Reporting API, кнопка \"Enable\" \n",
        "https://developers.google.com/analytics/devguides/reporting/core/v4\n",
        "\n",
        "\n",
        "3. Создать сервисный аккаунт, связанный с ранее созданным проектом (кнопка \"+CREATE CREDENTIALS\" в разделе \"CREDENTIALS\", выбрать поле \"Create service account), выглядит как адрес алектронной почты, например,   ga-api-client@aqueous-thought-372224.iam.gserviceaccount.com)\n",
        "\n",
        "4. Создать ключ API  для сервисного аккаунта в виде JSON-файла\n",
        "https://cloud.google.com/iam/docs/creating-managing-service-account-keys\n",
        "\n",
        "5. В панели управления \"Администратор\" кабинета Google Analytics в настройках аккаунта или ресурса дайте вашему сервисному аккаунту доступ \"Читатель\" (в случае если кабинет принадлежит клиенту Риалвеб, выдачу доступа \"Читатель\" для сервисного аккаунта необходимо запросить у клиента, предоставив ему имя сервисного аккаунта)\n",
        "\n",
        "6. Используя набор метрик (metrics) и измерений (dimensions), выполнить запрос в соответствии с кодом ниже. Список возможных метрик и измерений: https://ga-dev-tools.appspot.com/dimensions-metrics-explorer/\n",
        "\n",
        "Примечание: если сервисный аккаунт и проект клиента Риалвеб с активированным Google Analytics Reporting API уже были созданы в рамках Google Cloud Platform вертикали, то начинать следует с создания собственного ключа API (п.4)\n",
        "\n",
        "Гайды Google Developers:\n",
        "\n",
        "https://developers.google.com/analytics/devguides/reporting/data/v1/rest/v1beta/properties \n",
        "\n",
        "https://googleapis.dev/python/analyticsdata/latest/data_v1beta/beta_analytics_data.html"
      ],
      "metadata": {
        "id": "sxgjuSvY1azQ"
      }
    },
    {
      "cell_type": "markdown",
      "source": [
        "###**Инициализация библиотек и параметров подключения**"
      ],
      "metadata": {
        "id": "OMl7FKY-GMr-"
      }
    },
    {
      "cell_type": "code",
      "execution_count": null,
      "metadata": {
        "id": "XrTKdgP_z70r"
      },
      "outputs": [],
      "source": [
        "#Объявляем необходимые библиотеки\n",
        "\n",
        "import numpy as np\n",
        "import pandas as pd\n",
        "from google.oauth2 import service_account\n",
        "from apiclient.discovery import build"
      ]
    },
    {
      "cell_type": "code",
      "source": [
        "#Подключаем GDrive и указываем путь к папке с ключем API \n",
        "\n",
        "from google.colab import drive\n",
        "drive.mount('/content/drive')\n",
        "ga_keys = '/content/drive/MyDrive/Colab_Notebooks/glowing-box-371708-1be164ea4b4e.json'"
      ],
      "metadata": {
        "colab": {
          "base_uri": "https://localhost:8080/"
        },
        "id": "MkLaCKL841If",
        "outputId": "e4410f9c-dc73-49de-e97c-db4e792f3f75"
      },
      "execution_count": null,
      "outputs": [
        {
          "output_type": "stream",
          "name": "stdout",
          "text": [
            "Mounted at /content/drive\n"
          ]
        }
      ]
    },
    {
      "cell_type": "markdown",
      "source": [
        "ВАЖНО: не публикуйте и не передавайте третьим лицам ваш ключ API, в противном случае возможен несанкционированный доступ к данным, содержащимся в кабинете Google Analitycs, со стороны третьих лиц"
      ],
      "metadata": {
        "id": "L70axrdJr163"
      }
    },
    {
      "cell_type": "code",
      "source": [
        "#Указываем номер представления Google Analitycs, к которому хотим подключиться\n",
        "\n",
        "your_view_id = '269579389'\n"
      ],
      "metadata": {
        "id": "l2sOqLnN9jbg"
      },
      "execution_count": null,
      "outputs": []
    },
    {
      "cell_type": "markdown",
      "source": [
        "###**Блок объявления функций для получения отчета Google Analytics**"
      ],
      "metadata": {
        "id": "J8WzGy2_GaWy"
      }
    },
    {
      "cell_type": "code",
      "source": [
        "#Объявляем набор функций необходимых для получения отчета в формате pandas dataframe\n",
        "\n",
        "def format_summary(response):\n",
        "    try:\n",
        "        #create row index\n",
        "        try: \n",
        "            row_index_names = response['reports'][0]['columnHeader']['dimensions']\n",
        "            row_index = [ element['dimensions'] for element in response['reports'][0]['data']['rows'] ]\n",
        "            row_index_named = pd.MultiIndex.from_arrays(np.transpose(np.array(row_index)), \n",
        "                                                        names = np.array(row_index_names))\n",
        "        except:\n",
        "            row_index_named = None\n",
        "        \n",
        "        #extract column names\n",
        "        summary_column_names = [item['name'] for item in response['reports'][0]\n",
        "                                ['columnHeader']['metricHeader']['metricHeaderEntries']]\n",
        "    \n",
        "        #extract table values\n",
        "        summary_values = [element['metrics'][0]['values'] for element in response['reports'][0]['data']['rows']]\n",
        "    \n",
        "        #combine. I used type 'float' because default is object, and as far as I know, all values are numeric\n",
        "        df = pd.DataFrame(data = np.array(summary_values), \n",
        "                          index = row_index_named, \n",
        "                          columns = summary_column_names).astype('float')\n",
        "    \n",
        "    except:\n",
        "        df = pd.DataFrame()\n",
        "        \n",
        "    return df\n",
        "\n",
        "def format_pivot(response):\n",
        "    try:\n",
        "        #extract table values\n",
        "        pivot_values = [item['metrics'][0]['pivotValueRegions'][0]['values'] for item in response['reports'][0]\n",
        "                        ['data']['rows']]\n",
        "        \n",
        "        #create column index\n",
        "        top_header = [item['dimensionValues'] for item in response['reports'][0]\n",
        "                      ['columnHeader']['metricHeader']['pivotHeaders'][0]['pivotHeaderEntries']]\n",
        "        column_metrics = [item['metric']['name'] for item in response['reports'][0]\n",
        "                          ['columnHeader']['metricHeader']['pivotHeaders'][0]['pivotHeaderEntries']]\n",
        "        array = np.concatenate((np.array(top_header),\n",
        "                                np.array(column_metrics).reshape((len(column_metrics),1))), \n",
        "                               axis = 1)\n",
        "        column_index = pd.MultiIndex.from_arrays(np.transpose(array))\n",
        "        \n",
        "        #create row index\n",
        "        try:\n",
        "            row_index_names = response['reports'][0]['columnHeader']['dimensions']\n",
        "            row_index = [ element['dimensions'] for element in response['reports'][0]['data']['rows'] ]\n",
        "            row_index_named = pd.MultiIndex.from_arrays(np.transpose(np.array(row_index)), \n",
        "                                                        names = np.array(row_index_names))\n",
        "        except: \n",
        "            row_index_named = None\n",
        "        #combine into a dataframe\n",
        "        df = pd.DataFrame(data = np.array(pivot_values), \n",
        "                          index = row_index_named, \n",
        "                          columns = column_index).astype('float')\n",
        "    except:\n",
        "        df = pd.DataFrame()\n",
        "    return df\n",
        "\n",
        "def format_report(response):\n",
        "    summary = format_summary(response)\n",
        "    pivot = format_pivot(response)\n",
        "    if pivot.columns.nlevels == 2:\n",
        "        summary.columns = [['']*len(summary.columns), summary.columns]\n",
        "    \n",
        "    return(pd.concat([summary, pivot], axis = 1))\n",
        "\n",
        "def run_report(body, credentials_file):\n",
        "    #Create service credentials\n",
        "    credentials = service_account.Credentials.from_service_account_file(credentials_file, \n",
        "                                scopes = ['https://www.googleapis.com/auth/analytics.readonly'])\n",
        "    #Create a service object\n",
        "    service = build('analyticsreporting', 'v4', credentials=credentials)\n",
        "    \n",
        "    #Get GA data\n",
        "    response = service.reports().batchGet(body=body).execute()\n",
        "    \n",
        "    return(format_report(response))"
      ],
      "metadata": {
        "id": "a6EfPsT02AU2"
      },
      "execution_count": null,
      "outputs": []
    },
    {
      "cell_type": "markdown",
      "source": [
        "###**Получение отчета Google Analytics**"
      ],
      "metadata": {
        "id": "SkRrEb-yGBNC"
      }
    },
    {
      "cell_type": "markdown",
      "source": [
        "Отчет может содержать аггрегированную часть и (или) pivot-часть, для этого нужно выбрать один из предложенных ниже шаблонов формы отчета, в которой необходимо указать метрики (metrics), измерения (dimensions) и временные рамки.\n",
        "\n",
        "Метрики и измерения: https://ga-dev-tools.appspot.com/dimensions-metrics-explorer/"
      ],
      "metadata": {
        "id": "A4-gvdo32EYR"
      }
    },
    {
      "cell_type": "code",
      "source": [
        "#Шаблон для получения аггрегированного отчета по указанным метрикам и измерениям (наиболее часто используемый)\n",
        "\n",
        "summary_body = {'reportRequests': [{'viewId': your_view_id, \n",
        "                            'dateRanges': [{'startDate': '2022-06-01', 'endDate': '2022-08-01'}],\n",
        "                            'metrics': [{'expression': 'ga:sessions'}, \n",
        "                                        {'expression': 'ga:totalEvents'}, \n",
        "                                        {\"expression\": \"ga:avgSessionDuration\"}],\n",
        "                            'dimensions': [{'name': 'ga:country'}],\n",
        "                          }]}"
      ],
      "metadata": {
        "id": "LysNt6m02Klg"
      },
      "execution_count": null,
      "outputs": []
    },
    {
      "cell_type": "code",
      "source": [
        "#Шаблон для получения аггрегированного отчета совмещенного с pivot-отчетом по указанным метрикам и измерениям\n",
        "\n",
        "body = {'reportRequests': [{'viewId': your_view_id, \n",
        "                            'dateRanges': [{'startDate': '2022-06-01', 'endDate': '2022-08-01'}],\n",
        "                            'metrics': [{'expression': 'ga:users'}, \n",
        "                                        {\"expression\": \"ga:bounceRate\"}],\n",
        "                            'dimensions': [{'name': 'ga:dayMonth'}],\n",
        "                            \"pivots\": [{\"dimensions\": [{\"name\": \"ga:channelGrouping\"}],\n",
        "                                        \"metrics\": [{\"expression\": \"ga:users\"},\n",
        "                                                    {\"expression\": \"ga:bounceRate\"}]\n",
        "                                       }]\n",
        "                          }]}"
      ],
      "metadata": {
        "id": "whEAsnVA2IuW"
      },
      "execution_count": null,
      "outputs": []
    },
    {
      "cell_type": "code",
      "source": [
        "#Шаблон для получения pivot-отчета по указанным метрикам и измерениям (в том числе внешним измерениям)\n",
        "\n",
        "pivot_body = {'reportRequests': [{'viewId': your_view_id, \n",
        "                            'dateRanges': [{'startDate': '2022-06-01', 'endDate': '2022-08-01'}],\n",
        "                            'dimensions': [{'name':  \"ga:channelGrouping\"}],\n",
        "                            \"pivots\": [{\"dimensions\": [{\"name\": 'ga:yearMonth'}],\n",
        "                                        \"metrics\": [{\"expression\": \"ga:users\"},\n",
        "                                                    {\"expression\": \"ga:newUsers\"},\n",
        "                                                    {\"expression\": \"ga:timeOnPage\"}]\n",
        "                                       }]\n",
        "                          }]}"
      ],
      "metadata": {
        "id": "BVoAGSJH2MQW"
      },
      "execution_count": null,
      "outputs": []
    },
    {
      "cell_type": "code",
      "source": [
        "#Укороченный шаблон для получения отчета по указанным метрикам без группировок и в рамках последней недели\n",
        "\n",
        "short_body = {  \"reportRequests\":\n",
        "  [{\n",
        "      \"viewId\": your_view_id,\n",
        "      \"dateRanges\": [{\"startDate\": \"2022-06-01\", \"endDate\": \"2022-08-01\"}], # or 7daysAgo or yesterday\n",
        "      \"metrics\": [{\"expression\": \"ga:users\"}]\n",
        "    }]}"
      ],
      "metadata": {
        "id": "YriIDFGp2Oeb"
      },
      "execution_count": null,
      "outputs": []
    },
    {
      "cell_type": "code",
      "source": [
        "#Шаблон для получения укороченного pivot-отчета без внешних группировок\n",
        "\n",
        "untidy_body = {'reportRequests': [{'viewId': your_view_id, \n",
        "                            'dateRanges': [{'startDate': '2022-06-01', 'endDate': '2022-08-01'}],\n",
        "                            \"pivots\": [{\"dimensions\": [{\"name\": 'ga:yearMonth'}, {\"name\": \"ga:channelGrouping\"}],\n",
        "                                        \"metrics\": [{\"expression\": \"ga:users\"},\n",
        "                                                    {\"expression\": \"ga:timeOnPage\"}]\n",
        "                                       }]\n",
        "                          }]}"
      ],
      "metadata": {
        "id": "TirQ-yEr2Pwj"
      },
      "execution_count": null,
      "outputs": []
    },
    {
      "cell_type": "markdown",
      "source": [
        "Пример выведенного отчета (выбрали шаблон **summary_body**)"
      ],
      "metadata": {
        "id": "X1tq3Hkg2TuL"
      }
    },
    {
      "cell_type": "code",
      "source": [
        "ga_report = run_report(summary_body, ga_keys)\n",
        "ga_report "
      ],
      "metadata": {
        "colab": {
          "base_uri": "https://localhost:8080/",
          "height": 112
        },
        "id": "2Uwx-ufc2Uio",
        "outputId": "795a021b-ce90-4713-91d5-34d2673869cb"
      },
      "execution_count": null,
      "outputs": [
        {
          "output_type": "execute_result",
          "data": {
            "text/plain": [
              "            ga:sessions  ga:totalEvents  ga:avgSessionDuration\n",
              "ga:country                                                    \n",
              "Russia             32.0           118.0               1520.625"
            ],
            "text/html": [
              "\n",
              "  <div id=\"df-a0afb0bb-558e-49e0-a91c-2594dd9d40a3\">\n",
              "    <div class=\"colab-df-container\">\n",
              "      <div>\n",
              "<style scoped>\n",
              "    .dataframe tbody tr th:only-of-type {\n",
              "        vertical-align: middle;\n",
              "    }\n",
              "\n",
              "    .dataframe tbody tr th {\n",
              "        vertical-align: top;\n",
              "    }\n",
              "\n",
              "    .dataframe thead th {\n",
              "        text-align: right;\n",
              "    }\n",
              "</style>\n",
              "<table border=\"1\" class=\"dataframe\">\n",
              "  <thead>\n",
              "    <tr style=\"text-align: right;\">\n",
              "      <th></th>\n",
              "      <th>ga:sessions</th>\n",
              "      <th>ga:totalEvents</th>\n",
              "      <th>ga:avgSessionDuration</th>\n",
              "    </tr>\n",
              "    <tr>\n",
              "      <th>ga:country</th>\n",
              "      <th></th>\n",
              "      <th></th>\n",
              "      <th></th>\n",
              "    </tr>\n",
              "  </thead>\n",
              "  <tbody>\n",
              "    <tr>\n",
              "      <th>Russia</th>\n",
              "      <td>32.0</td>\n",
              "      <td>118.0</td>\n",
              "      <td>1520.625</td>\n",
              "    </tr>\n",
              "  </tbody>\n",
              "</table>\n",
              "</div>\n",
              "      <button class=\"colab-df-convert\" onclick=\"convertToInteractive('df-a0afb0bb-558e-49e0-a91c-2594dd9d40a3')\"\n",
              "              title=\"Convert this dataframe to an interactive table.\"\n",
              "              style=\"display:none;\">\n",
              "        \n",
              "  <svg xmlns=\"http://www.w3.org/2000/svg\" height=\"24px\"viewBox=\"0 0 24 24\"\n",
              "       width=\"24px\">\n",
              "    <path d=\"M0 0h24v24H0V0z\" fill=\"none\"/>\n",
              "    <path d=\"M18.56 5.44l.94 2.06.94-2.06 2.06-.94-2.06-.94-.94-2.06-.94 2.06-2.06.94zm-11 1L8.5 8.5l.94-2.06 2.06-.94-2.06-.94L8.5 2.5l-.94 2.06-2.06.94zm10 10l.94 2.06.94-2.06 2.06-.94-2.06-.94-.94-2.06-.94 2.06-2.06.94z\"/><path d=\"M17.41 7.96l-1.37-1.37c-.4-.4-.92-.59-1.43-.59-.52 0-1.04.2-1.43.59L10.3 9.45l-7.72 7.72c-.78.78-.78 2.05 0 2.83L4 21.41c.39.39.9.59 1.41.59.51 0 1.02-.2 1.41-.59l7.78-7.78 2.81-2.81c.8-.78.8-2.07 0-2.86zM5.41 20L4 18.59l7.72-7.72 1.47 1.35L5.41 20z\"/>\n",
              "  </svg>\n",
              "      </button>\n",
              "      \n",
              "  <style>\n",
              "    .colab-df-container {\n",
              "      display:flex;\n",
              "      flex-wrap:wrap;\n",
              "      gap: 12px;\n",
              "    }\n",
              "\n",
              "    .colab-df-convert {\n",
              "      background-color: #E8F0FE;\n",
              "      border: none;\n",
              "      border-radius: 50%;\n",
              "      cursor: pointer;\n",
              "      display: none;\n",
              "      fill: #1967D2;\n",
              "      height: 32px;\n",
              "      padding: 0 0 0 0;\n",
              "      width: 32px;\n",
              "    }\n",
              "\n",
              "    .colab-df-convert:hover {\n",
              "      background-color: #E2EBFA;\n",
              "      box-shadow: 0px 1px 2px rgba(60, 64, 67, 0.3), 0px 1px 3px 1px rgba(60, 64, 67, 0.15);\n",
              "      fill: #174EA6;\n",
              "    }\n",
              "\n",
              "    [theme=dark] .colab-df-convert {\n",
              "      background-color: #3B4455;\n",
              "      fill: #D2E3FC;\n",
              "    }\n",
              "\n",
              "    [theme=dark] .colab-df-convert:hover {\n",
              "      background-color: #434B5C;\n",
              "      box-shadow: 0px 1px 3px 1px rgba(0, 0, 0, 0.15);\n",
              "      filter: drop-shadow(0px 1px 2px rgba(0, 0, 0, 0.3));\n",
              "      fill: #FFFFFF;\n",
              "    }\n",
              "  </style>\n",
              "\n",
              "      <script>\n",
              "        const buttonEl =\n",
              "          document.querySelector('#df-a0afb0bb-558e-49e0-a91c-2594dd9d40a3 button.colab-df-convert');\n",
              "        buttonEl.style.display =\n",
              "          google.colab.kernel.accessAllowed ? 'block' : 'none';\n",
              "\n",
              "        async function convertToInteractive(key) {\n",
              "          const element = document.querySelector('#df-a0afb0bb-558e-49e0-a91c-2594dd9d40a3');\n",
              "          const dataTable =\n",
              "            await google.colab.kernel.invokeFunction('convertToInteractive',\n",
              "                                                     [key], {});\n",
              "          if (!dataTable) return;\n",
              "\n",
              "          const docLinkHtml = 'Like what you see? Visit the ' +\n",
              "            '<a target=\"_blank\" href=https://colab.research.google.com/notebooks/data_table.ipynb>data table notebook</a>'\n",
              "            + ' to learn more about interactive tables.';\n",
              "          element.innerHTML = '';\n",
              "          dataTable['output_type'] = 'display_data';\n",
              "          await google.colab.output.renderOutput(dataTable, element);\n",
              "          const docLink = document.createElement('div');\n",
              "          docLink.innerHTML = docLinkHtml;\n",
              "          element.appendChild(docLink);\n",
              "        }\n",
              "      </script>\n",
              "    </div>\n",
              "  </div>\n",
              "  "
            ]
          },
          "metadata": {},
          "execution_count": 14
        }
      ]
    },
    {
      "cell_type": "code",
      "source": [],
      "metadata": {
        "id": "7CcomKxQIHDm"
      },
      "execution_count": null,
      "outputs": []
    }
  ]
}