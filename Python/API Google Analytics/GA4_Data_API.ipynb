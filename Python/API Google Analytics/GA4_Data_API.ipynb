{
  "nbformat": 4,
  "nbformat_minor": 0,
  "metadata": {
    "colab": {
      "provenance": []
    },
    "kernelspec": {
      "name": "python3",
      "display_name": "Python 3"
    },
    "language_info": {
      "name": "python"
    }
  },
  "cells": [
    {
      "cell_type": "markdown",
      "source": [
        "#**Google Analytics (GA4) Data API**\n",
        "\n",
        "Этот скрипт запрашивает отчет GA4 у Google Analytics Data API и возвращает его в виде pandas dataframe.\n",
        "\n",
        "Последовательность действий:\n",
        "\n",
        "1. Создать проект в Google Cloud Platform в Google-аккаунте, который относится к вертикали клиента Риалвеб\n",
        "https://cloud.google.com/resource-manager/docs/creating-managing-projects\n",
        "\n",
        "\n",
        "\n",
        "2.  Активировать возможность использования Google Analytics Data API для этого проекта в Google Cloud Platform: кнопка \"+ENABLE APIS AND SERVICES\" в разделе APIs & Services, поиск и переход в Google Analytics Data API, кнопка \"Enable\" \n",
        "https://developers.google.com/analytics/devguides/reporting/core/v4\n",
        "\n",
        "3. Создать сервисный аккаунт, связанный с ранее созданным проектом (кнопка \"+CREATE CREDENTIALS\" в разделе \"CREDENTIALS\", выбрать поле \"Create service account), выглядит как адрес алектронной почты, например,   ga-api-client@aqueous-thought-372224.iam.gserviceaccount.com)\n",
        "\n",
        "4. Создать ключ API  для сервисного аккаунта в виде JSON-файла\n",
        "https://cloud.google.com/iam/docs/creating-managing-service-account-keys\n",
        "\n",
        "5. В панели управления \"Администратор\" кабинета Google Analytics в настройках аккаунта или ресурса дайте вашему сервисному аккаунту доступ \"Читатель\" (в случае если кабинет принадлежит клиенту Риалвеб, выдачу доступа \"Читатель\" для сервисного аккаунта необходимо запросить у клиента, предоставив ему имя сервисного аккаунта)\n",
        "\n",
        "6. Используя набор метрик (metrics) и измерений (dimensions), выполнить запрос в соответствии с кодом ниже. Список возможных метрик и измерений: https://developers.google.com/analytics/devguides/reporting/data/v1/api-schema\n",
        "\n",
        "Примечание: если сервисный аккаунт и проект клиента Риалвеб с активированным Google Analytics Data API уже были созданы в рамках Google Cloud Platform вертикали, то начинать следует с создания собственного ключа API (п.4)"
      ],
      "metadata": {
        "id": "89HbtSzvkn2F"
      }
    },
    {
      "cell_type": "markdown",
      "source": [
        "###**Инициализация библиотек и параметров подключения**"
      ],
      "metadata": {
        "id": "ufM5j04Nm_qY"
      }
    },
    {
      "cell_type": "code",
      "execution_count": null,
      "metadata": {
        "colab": {
          "base_uri": "https://localhost:8080/"
        },
        "id": "ue-ZnICN-wwx",
        "outputId": "2d310689-bf91-494d-c27c-53fa1ad654e5"
      },
      "outputs": [
        {
          "output_type": "stream",
          "name": "stdout",
          "text": [
            "Looking in indexes: https://pypi.org/simple, https://us-python.pkg.dev/colab-wheels/public/simple/\n",
            "Requirement already satisfied: google.analytics.data in /usr/local/lib/python3.8/dist-packages (0.16.1)\n",
            "Requirement already satisfied: protobuf!=3.20.0,!=3.20.1,!=4.21.0,!=4.21.1,!=4.21.2,!=4.21.3,!=4.21.4,!=4.21.5,<5.0.0dev,>=3.19.5 in /usr/local/lib/python3.8/dist-packages (from google.analytics.data) (3.19.6)\n",
            "Requirement already satisfied: google-api-core[grpc]!=2.0.*,!=2.1.*,!=2.10.*,!=2.2.*,!=2.3.*,!=2.4.*,!=2.5.*,!=2.6.*,!=2.7.*,!=2.8.*,!=2.9.*,<3.0.0dev,>=1.34.0 in /usr/local/lib/python3.8/dist-packages (from google.analytics.data) (2.11.0)\n",
            "Requirement already satisfied: proto-plus<2.0.0dev,>=1.22.0 in /usr/local/lib/python3.8/dist-packages (from google.analytics.data) (1.22.2)\n",
            "Requirement already satisfied: googleapis-common-protos<2.0dev,>=1.56.2 in /usr/local/lib/python3.8/dist-packages (from google-api-core[grpc]!=2.0.*,!=2.1.*,!=2.10.*,!=2.2.*,!=2.3.*,!=2.4.*,!=2.5.*,!=2.6.*,!=2.7.*,!=2.8.*,!=2.9.*,<3.0.0dev,>=1.34.0->google.analytics.data) (1.58.0)\n",
            "Requirement already satisfied: requests<3.0.0dev,>=2.18.0 in /usr/local/lib/python3.8/dist-packages (from google-api-core[grpc]!=2.0.*,!=2.1.*,!=2.10.*,!=2.2.*,!=2.3.*,!=2.4.*,!=2.5.*,!=2.6.*,!=2.7.*,!=2.8.*,!=2.9.*,<3.0.0dev,>=1.34.0->google.analytics.data) (2.25.1)\n",
            "Requirement already satisfied: google-auth<3.0dev,>=2.14.1 in /usr/local/lib/python3.8/dist-packages (from google-api-core[grpc]!=2.0.*,!=2.1.*,!=2.10.*,!=2.2.*,!=2.3.*,!=2.4.*,!=2.5.*,!=2.6.*,!=2.7.*,!=2.8.*,!=2.9.*,<3.0.0dev,>=1.34.0->google.analytics.data) (2.16.0)\n",
            "Requirement already satisfied: grpcio<2.0dev,>=1.33.2 in /usr/local/lib/python3.8/dist-packages (from google-api-core[grpc]!=2.0.*,!=2.1.*,!=2.10.*,!=2.2.*,!=2.3.*,!=2.4.*,!=2.5.*,!=2.6.*,!=2.7.*,!=2.8.*,!=2.9.*,<3.0.0dev,>=1.34.0->google.analytics.data) (1.51.1)\n",
            "Requirement already satisfied: grpcio-status<2.0dev,>=1.33.2 in /usr/local/lib/python3.8/dist-packages (from google-api-core[grpc]!=2.0.*,!=2.1.*,!=2.10.*,!=2.2.*,!=2.3.*,!=2.4.*,!=2.5.*,!=2.6.*,!=2.7.*,!=2.8.*,!=2.9.*,<3.0.0dev,>=1.34.0->google.analytics.data) (1.48.2)\n",
            "Requirement already satisfied: six>=1.9.0 in /usr/local/lib/python3.8/dist-packages (from google-auth<3.0dev,>=2.14.1->google-api-core[grpc]!=2.0.*,!=2.1.*,!=2.10.*,!=2.2.*,!=2.3.*,!=2.4.*,!=2.5.*,!=2.6.*,!=2.7.*,!=2.8.*,!=2.9.*,<3.0.0dev,>=1.34.0->google.analytics.data) (1.15.0)\n",
            "Requirement already satisfied: pyasn1-modules>=0.2.1 in /usr/local/lib/python3.8/dist-packages (from google-auth<3.0dev,>=2.14.1->google-api-core[grpc]!=2.0.*,!=2.1.*,!=2.10.*,!=2.2.*,!=2.3.*,!=2.4.*,!=2.5.*,!=2.6.*,!=2.7.*,!=2.8.*,!=2.9.*,<3.0.0dev,>=1.34.0->google.analytics.data) (0.2.8)\n",
            "Requirement already satisfied: rsa<5,>=3.1.4 in /usr/local/lib/python3.8/dist-packages (from google-auth<3.0dev,>=2.14.1->google-api-core[grpc]!=2.0.*,!=2.1.*,!=2.10.*,!=2.2.*,!=2.3.*,!=2.4.*,!=2.5.*,!=2.6.*,!=2.7.*,!=2.8.*,!=2.9.*,<3.0.0dev,>=1.34.0->google.analytics.data) (4.9)\n",
            "Requirement already satisfied: cachetools<6.0,>=2.0.0 in /usr/local/lib/python3.8/dist-packages (from google-auth<3.0dev,>=2.14.1->google-api-core[grpc]!=2.0.*,!=2.1.*,!=2.10.*,!=2.2.*,!=2.3.*,!=2.4.*,!=2.5.*,!=2.6.*,!=2.7.*,!=2.8.*,!=2.9.*,<3.0.0dev,>=1.34.0->google.analytics.data) (5.3.0)\n",
            "Requirement already satisfied: urllib3<1.27,>=1.21.1 in /usr/local/lib/python3.8/dist-packages (from requests<3.0.0dev,>=2.18.0->google-api-core[grpc]!=2.0.*,!=2.1.*,!=2.10.*,!=2.2.*,!=2.3.*,!=2.4.*,!=2.5.*,!=2.6.*,!=2.7.*,!=2.8.*,!=2.9.*,<3.0.0dev,>=1.34.0->google.analytics.data) (1.24.3)\n",
            "Requirement already satisfied: chardet<5,>=3.0.2 in /usr/local/lib/python3.8/dist-packages (from requests<3.0.0dev,>=2.18.0->google-api-core[grpc]!=2.0.*,!=2.1.*,!=2.10.*,!=2.2.*,!=2.3.*,!=2.4.*,!=2.5.*,!=2.6.*,!=2.7.*,!=2.8.*,!=2.9.*,<3.0.0dev,>=1.34.0->google.analytics.data) (4.0.0)\n",
            "Requirement already satisfied: certifi>=2017.4.17 in /usr/local/lib/python3.8/dist-packages (from requests<3.0.0dev,>=2.18.0->google-api-core[grpc]!=2.0.*,!=2.1.*,!=2.10.*,!=2.2.*,!=2.3.*,!=2.4.*,!=2.5.*,!=2.6.*,!=2.7.*,!=2.8.*,!=2.9.*,<3.0.0dev,>=1.34.0->google.analytics.data) (2022.12.7)\n",
            "Requirement already satisfied: idna<3,>=2.5 in /usr/local/lib/python3.8/dist-packages (from requests<3.0.0dev,>=2.18.0->google-api-core[grpc]!=2.0.*,!=2.1.*,!=2.10.*,!=2.2.*,!=2.3.*,!=2.4.*,!=2.5.*,!=2.6.*,!=2.7.*,!=2.8.*,!=2.9.*,<3.0.0dev,>=1.34.0->google.analytics.data) (2.10)\n",
            "Requirement already satisfied: pyasn1<0.5.0,>=0.4.6 in /usr/local/lib/python3.8/dist-packages (from pyasn1-modules>=0.2.1->google-auth<3.0dev,>=2.14.1->google-api-core[grpc]!=2.0.*,!=2.1.*,!=2.10.*,!=2.2.*,!=2.3.*,!=2.4.*,!=2.5.*,!=2.6.*,!=2.7.*,!=2.8.*,!=2.9.*,<3.0.0dev,>=1.34.0->google.analytics.data) (0.4.8)\n"
          ]
        }
      ],
      "source": [
        "import numpy as np\n",
        "import pandas as pd\n",
        "import os\n",
        "import datetime\n",
        "from typing import List\n",
        "!pip install google.analytics.data"
      ]
    },
    {
      "cell_type": "code",
      "source": [
        "from google.analytics.data_v1beta import BetaAnalyticsDataClient\n",
        "from google.analytics.data_v1beta.types import (Dimension, Metric, DateRange, Metric, OrderBy, \n",
        "                                               FilterExpression, MetricAggregation, CohortSpec, Pivot)\n",
        "from google.analytics.data_v1beta.types import RunReportRequest, RunRealtimeReportRequest,RunPivotReportRequest"
      ],
      "metadata": {
        "id": "yeg8m_Ng-_Bs"
      },
      "execution_count": null,
      "outputs": []
    },
    {
      "cell_type": "code",
      "source": [
        "#Подключаем GDrive и указываем путь к папке с ключем API\n",
        "\n",
        "from google.colab import drive\n",
        "drive.mount('/content/drive')\n",
        "os.environ[\"GOOGLE_APPLICATION_CREDENTIALS\"] = '/content/drive/MyDrive/Colab_Notebooks/zarplata_ru_api_ga.json'"
      ],
      "metadata": {
        "colab": {
          "base_uri": "https://localhost:8080/"
        },
        "id": "_dXlnVePVQjv",
        "outputId": "76392f15-91be-4b8b-b11b-0768ec0b9481"
      },
      "execution_count": null,
      "outputs": [
        {
          "output_type": "stream",
          "name": "stdout",
          "text": [
            "Mounted at /content/drive\n"
          ]
        }
      ]
    },
    {
      "cell_type": "markdown",
      "source": [
        "ВАЖНО: не публикуйте и не передавайте третьим лицам ваш ключ API, в противном случае возможен несанкционированный доступ к данным, содержащимся в кабинете Google Analitycs, со стороны третьих лиц"
      ],
      "metadata": {
        "id": "rv5HWaOdnluP"
      }
    },
    {
      "cell_type": "code",
      "source": [
        "# Указываем номер ресурса GA4 и инициализируем параметры подключения\n",
        "property_id = '347635549'\n",
        "\n",
        "client = BetaAnalyticsDataClient()"
      ],
      "metadata": {
        "id": "VN9g2bdV_A9f"
      },
      "execution_count": null,
      "outputs": []
    },
    {
      "cell_type": "markdown",
      "source": [
        "###**Блок по формированию Run report (стандартный отчет GA4 по метрикам и измерениям)**"
      ],
      "metadata": {
        "id": "zl2MIOLGoBVd"
      }
    },
    {
      "cell_type": "markdown",
      "source": [
        "Объявляем набор функций необходимых для получения отчета в формате pandas dataframe"
      ],
      "metadata": {
        "id": "I9Y9asw6omjp"
      }
    },
    {
      "cell_type": "code",
      "source": [
        "def format_report(request):\n",
        "    response = client.run_report(request)\n",
        "    \n",
        "    # Row index\n",
        "    row_index_names = [header.name for header in response.dimension_headers]\n",
        "    row_header = []\n",
        "    for i in range(len(row_index_names)):\n",
        "        row_header.append([row.dimension_values[i].value for row in response.rows])\n",
        "\n",
        "    row_index_named = pd.MultiIndex.from_arrays(np.array(row_header), names = np.array(row_index_names))\n",
        "    # Row flat data\n",
        "    metric_names = [header.name for header in response.metric_headers]\n",
        "    data_values = []\n",
        "    for i in range(len(metric_names)):\n",
        "        data_values.append([row.metric_values[i].value for row in response.rows])\n",
        "\n",
        "    output = pd.DataFrame(data = np.transpose(np.array(data_values, dtype = 'f')), \n",
        "                          index = row_index_named, columns = metric_names)\n",
        "    return output"
      ],
      "metadata": {
        "id": "AWapqK74_Bht"
      },
      "execution_count": null,
      "outputs": []
    },
    {
      "cell_type": "markdown",
      "source": [
        "Запрос отчета Run report"
      ],
      "metadata": {
        "id": "8Ky-hWnwog6j"
      }
    },
    {
      "cell_type": "code",
      "source": [
        "request = RunReportRequest(\n",
        "        property='properties/'+property_id,\n",
        "        dimensions=[Dimension(name=\"city\"),\n",
        "                    Dimension(name=\"country\"),\n",
        "                    Dimension(name=\"browser\")],\n",
        "        metrics=[#Metric(name=\"averageSessionDuration\"),\n",
        "                 #Metric(name=\"newUsers\"),\n",
        "                 #Metric(name=\"activeUsers\"),\n",
        "                 #Metric(name=\"sessions\"),\n",
        "                 Metric(name=\"eventCount\")],\n",
        "        date_ranges=[DateRange(start_date=\"2022-12-25\", end_date=\"today\")]\n",
        "    )\n",
        "request"
      ],
      "metadata": {
        "colab": {
          "base_uri": "https://localhost:8080/"
        },
        "id": "gx9jIUOl_DNU",
        "outputId": "85005950-b7ef-44b8-8a1e-a88ff55ea2a4"
      },
      "execution_count": null,
      "outputs": [
        {
          "output_type": "execute_result",
          "data": {
            "text/plain": [
              "property: \"properties/347635549\"\n",
              "dimensions {\n",
              "  name: \"city\"\n",
              "}\n",
              "dimensions {\n",
              "  name: \"country\"\n",
              "}\n",
              "dimensions {\n",
              "  name: \"browser\"\n",
              "}\n",
              "metrics {\n",
              "  name: \"eventCount\"\n",
              "}\n",
              "date_ranges {\n",
              "  start_date: \"2022-12-25\"\n",
              "  end_date: \"today\"\n",
              "}"
            ]
          },
          "metadata": {},
          "execution_count": 8
        }
      ]
    },
    {
      "cell_type": "code",
      "source": [
        "df = format_report(request)"
      ],
      "metadata": {
        "id": "Rv_KCI3j7Q2s"
      },
      "execution_count": null,
      "outputs": []
    },
    {
      "cell_type": "code",
      "source": [
        "df"
      ],
      "metadata": {
        "colab": {
          "base_uri": "https://localhost:8080/",
          "height": 331
        },
        "id": "oPrFcBvO7Q5i",
        "outputId": "924e0ac0-23cb-4369-e157-17becc0cb574"
      },
      "execution_count": null,
      "outputs": [
        {
          "output_type": "execute_result",
          "data": {
            "text/plain": [
              "                                     eventCount\n",
              "city             country    browser            \n",
              "Almaty           Kazakhstan Chrome        172.0\n",
              "Yerevan          Armenia    Chrome         75.0\n",
              "Almaty           Kazakhstan Safari         27.0\n",
              "Saint Petersburg Russia     Chrome         20.0\n",
              "Moscow           Russia     Chrome         17.0\n",
              "Yekaterinburg    Russia     Safari         17.0\n",
              "Riga             Latvia     Chrome         16.0\n",
              "Novosibirsk      Russia     Safari         15.0"
            ],
            "text/html": [
              "\n",
              "  <div id=\"df-b536e8eb-5506-49e3-9c82-a7586ac2eea7\">\n",
              "    <div class=\"colab-df-container\">\n",
              "      <div>\n",
              "<style scoped>\n",
              "    .dataframe tbody tr th:only-of-type {\n",
              "        vertical-align: middle;\n",
              "    }\n",
              "\n",
              "    .dataframe tbody tr th {\n",
              "        vertical-align: top;\n",
              "    }\n",
              "\n",
              "    .dataframe thead th {\n",
              "        text-align: right;\n",
              "    }\n",
              "</style>\n",
              "<table border=\"1\" class=\"dataframe\">\n",
              "  <thead>\n",
              "    <tr style=\"text-align: right;\">\n",
              "      <th></th>\n",
              "      <th></th>\n",
              "      <th></th>\n",
              "      <th>eventCount</th>\n",
              "    </tr>\n",
              "    <tr>\n",
              "      <th>city</th>\n",
              "      <th>country</th>\n",
              "      <th>browser</th>\n",
              "      <th></th>\n",
              "    </tr>\n",
              "  </thead>\n",
              "  <tbody>\n",
              "    <tr>\n",
              "      <th>Almaty</th>\n",
              "      <th>Kazakhstan</th>\n",
              "      <th>Chrome</th>\n",
              "      <td>172.0</td>\n",
              "    </tr>\n",
              "    <tr>\n",
              "      <th>Yerevan</th>\n",
              "      <th>Armenia</th>\n",
              "      <th>Chrome</th>\n",
              "      <td>75.0</td>\n",
              "    </tr>\n",
              "    <tr>\n",
              "      <th>Almaty</th>\n",
              "      <th>Kazakhstan</th>\n",
              "      <th>Safari</th>\n",
              "      <td>27.0</td>\n",
              "    </tr>\n",
              "    <tr>\n",
              "      <th>Saint Petersburg</th>\n",
              "      <th>Russia</th>\n",
              "      <th>Chrome</th>\n",
              "      <td>20.0</td>\n",
              "    </tr>\n",
              "    <tr>\n",
              "      <th>Moscow</th>\n",
              "      <th>Russia</th>\n",
              "      <th>Chrome</th>\n",
              "      <td>17.0</td>\n",
              "    </tr>\n",
              "    <tr>\n",
              "      <th>Yekaterinburg</th>\n",
              "      <th>Russia</th>\n",
              "      <th>Safari</th>\n",
              "      <td>17.0</td>\n",
              "    </tr>\n",
              "    <tr>\n",
              "      <th>Riga</th>\n",
              "      <th>Latvia</th>\n",
              "      <th>Chrome</th>\n",
              "      <td>16.0</td>\n",
              "    </tr>\n",
              "    <tr>\n",
              "      <th>Novosibirsk</th>\n",
              "      <th>Russia</th>\n",
              "      <th>Safari</th>\n",
              "      <td>15.0</td>\n",
              "    </tr>\n",
              "  </tbody>\n",
              "</table>\n",
              "</div>\n",
              "      <button class=\"colab-df-convert\" onclick=\"convertToInteractive('df-b536e8eb-5506-49e3-9c82-a7586ac2eea7')\"\n",
              "              title=\"Convert this dataframe to an interactive table.\"\n",
              "              style=\"display:none;\">\n",
              "        \n",
              "  <svg xmlns=\"http://www.w3.org/2000/svg\" height=\"24px\"viewBox=\"0 0 24 24\"\n",
              "       width=\"24px\">\n",
              "    <path d=\"M0 0h24v24H0V0z\" fill=\"none\"/>\n",
              "    <path d=\"M18.56 5.44l.94 2.06.94-2.06 2.06-.94-2.06-.94-.94-2.06-.94 2.06-2.06.94zm-11 1L8.5 8.5l.94-2.06 2.06-.94-2.06-.94L8.5 2.5l-.94 2.06-2.06.94zm10 10l.94 2.06.94-2.06 2.06-.94-2.06-.94-.94-2.06-.94 2.06-2.06.94z\"/><path d=\"M17.41 7.96l-1.37-1.37c-.4-.4-.92-.59-1.43-.59-.52 0-1.04.2-1.43.59L10.3 9.45l-7.72 7.72c-.78.78-.78 2.05 0 2.83L4 21.41c.39.39.9.59 1.41.59.51 0 1.02-.2 1.41-.59l7.78-7.78 2.81-2.81c.8-.78.8-2.07 0-2.86zM5.41 20L4 18.59l7.72-7.72 1.47 1.35L5.41 20z\"/>\n",
              "  </svg>\n",
              "      </button>\n",
              "      \n",
              "  <style>\n",
              "    .colab-df-container {\n",
              "      display:flex;\n",
              "      flex-wrap:wrap;\n",
              "      gap: 12px;\n",
              "    }\n",
              "\n",
              "    .colab-df-convert {\n",
              "      background-color: #E8F0FE;\n",
              "      border: none;\n",
              "      border-radius: 50%;\n",
              "      cursor: pointer;\n",
              "      display: none;\n",
              "      fill: #1967D2;\n",
              "      height: 32px;\n",
              "      padding: 0 0 0 0;\n",
              "      width: 32px;\n",
              "    }\n",
              "\n",
              "    .colab-df-convert:hover {\n",
              "      background-color: #E2EBFA;\n",
              "      box-shadow: 0px 1px 2px rgba(60, 64, 67, 0.3), 0px 1px 3px 1px rgba(60, 64, 67, 0.15);\n",
              "      fill: #174EA6;\n",
              "    }\n",
              "\n",
              "    [theme=dark] .colab-df-convert {\n",
              "      background-color: #3B4455;\n",
              "      fill: #D2E3FC;\n",
              "    }\n",
              "\n",
              "    [theme=dark] .colab-df-convert:hover {\n",
              "      background-color: #434B5C;\n",
              "      box-shadow: 0px 1px 3px 1px rgba(0, 0, 0, 0.15);\n",
              "      filter: drop-shadow(0px 1px 2px rgba(0, 0, 0, 0.3));\n",
              "      fill: #FFFFFF;\n",
              "    }\n",
              "  </style>\n",
              "\n",
              "      <script>\n",
              "        const buttonEl =\n",
              "          document.querySelector('#df-b536e8eb-5506-49e3-9c82-a7586ac2eea7 button.colab-df-convert');\n",
              "        buttonEl.style.display =\n",
              "          google.colab.kernel.accessAllowed ? 'block' : 'none';\n",
              "\n",
              "        async function convertToInteractive(key) {\n",
              "          const element = document.querySelector('#df-b536e8eb-5506-49e3-9c82-a7586ac2eea7');\n",
              "          const dataTable =\n",
              "            await google.colab.kernel.invokeFunction('convertToInteractive',\n",
              "                                                     [key], {});\n",
              "          if (!dataTable) return;\n",
              "\n",
              "          const docLinkHtml = 'Like what you see? Visit the ' +\n",
              "            '<a target=\"_blank\" href=https://colab.research.google.com/notebooks/data_table.ipynb>data table notebook</a>'\n",
              "            + ' to learn more about interactive tables.';\n",
              "          element.innerHTML = '';\n",
              "          dataTable['output_type'] = 'display_data';\n",
              "          await google.colab.output.renderOutput(dataTable, element);\n",
              "          const docLink = document.createElement('div');\n",
              "          docLink.innerHTML = docLinkHtml;\n",
              "          element.appendChild(docLink);\n",
              "        }\n",
              "      </script>\n",
              "    </div>\n",
              "  </div>\n",
              "  "
            ]
          },
          "metadata": {},
          "execution_count": 10
        }
      ]
    },
    {
      "cell_type": "markdown",
      "source": [
        "### **Блок по формированию Run Pivot report**"
      ],
      "metadata": {
        "id": "FGWydJ6iztE-"
      }
    },
    {
      "cell_type": "markdown",
      "source": [
        "Подробнее о Run Pivot report по ссылке: https://developers.google.com/analytics/devguides/reporting/data/v1/pivots\n",
        "\n",
        "Объявляем набор функций необходимых для получения отчета в формате pandas dataframe"
      ],
      "metadata": {
        "id": "4DeHqqC9zBWr"
      }
    },
    {
      "cell_type": "code",
      "source": [
        "def format_pivot_report(request):\n",
        "    response = client.run_pivot_report(request)\n",
        "    \n",
        "    # Row index\n",
        "    row_index_names = [header.name for header in response.dimension_headers]\n",
        "    row_header = []\n",
        "    for i in range(len(row_index_names)):\n",
        "        row_header.append([row.dimension_values[i].value for row in response.rows])\n",
        "\n",
        "    row_index_named = pd.MultiIndex.from_arrays(np.array(row_header), names = np.array(row_index_names))\n",
        "    # Row flat data\n",
        "    metric_names = [header.name for header in response.metric_headers]\n",
        "    data_values = []\n",
        "    for i in range(len(metric_names)):\n",
        "        data_values.append([row.metric_values[i].value for row in response.rows])\n",
        "\n",
        "    output = pd.DataFrame(data = np.transpose(np.array(data_values, dtype = 'f')), \n",
        "                          index = row_index_named, columns = metric_names)\n",
        "    return output"
      ],
      "metadata": {
        "id": "BXZqRBeGzsiX"
      },
      "execution_count": null,
      "outputs": []
    },
    {
      "cell_type": "markdown",
      "source": [
        "Формируем pivot_request, где указываем интересующие нас метрики, измерения, пивоты и диапазон дат отчета"
      ],
      "metadata": {
        "id": "2B6mzEK4-I4e"
      }
    },
    {
      "cell_type": "code",
      "source": [
        "pivot_request = RunPivotReportRequest(\n",
        "        property='properties/'+property_id,\n",
        "        dimensions=[Dimension(name=\"country\"),\n",
        "                    Dimension(name=\"city\"),\n",
        "                    Dimension(name=\"date\")],\n",
        "        metrics=[#Metric(name=\"averageSessionDuration\"),\n",
        "                 #Metric(name=\"newUsers\"),\n",
        "                 #Metric(name=\"activeUsers\"),\n",
        "                 Metric(name=\"sessions\"),\n",
        "                 Metric(name=\"eventCount\")],\n",
        "        date_ranges=[DateRange(start_date=\"2022-12-25\", end_date=\"today\")],\n",
        "        pivots = [Pivot(field_names =(\"city\",\"country\",\"date\"), limit = 10)]\n",
        "    )\n",
        "pivot_request"
      ],
      "metadata": {
        "id": "4ov3oczOiCR6"
      },
      "execution_count": null,
      "outputs": []
    },
    {
      "cell_type": "markdown",
      "source": [
        "Отправляем ранее сформированный запрос, получаем отчет GA4 и формируем из него pandas dataframe"
      ],
      "metadata": {
        "id": "2ZGO5w-t-aZi"
      }
    },
    {
      "cell_type": "code",
      "source": [
        "response = client.run_pivot_report(pivot_request)\n",
        "df = format_pivot_report(pivot_request)\n",
        "df"
      ],
      "metadata": {
        "id": "6v8H9_hn4IwJ"
      },
      "execution_count": null,
      "outputs": []
    },
    {
      "cell_type": "markdown",
      "source": [
        "###**Блок по формированию Run Realtime report**"
      ],
      "metadata": {
        "id": "8kaiY6UxpkZY"
      }
    },
    {
      "cell_type": "markdown",
      "source": [
        "Подробнее о Run Realtime report: https://support.google.com/analytics/answer/9271392?hl=en \n",
        "\n",
        "Объявляем необходимые классы и функции"
      ],
      "metadata": {
        "id": "M6tgusMh7QCF"
      }
    },
    {
      "cell_type": "code",
      "source": [
        "class GA4RealTimeReport:\n",
        "   \n",
        "    def __init__(self, property_id):\n",
        "        self.property_id = property_id\n",
        "        self.client = BetaAnalyticsDataClient()\n",
        "\n",
        "    def query_report(self, dimensions: List[str], metrics: List[Metric], row_limit:int=10000, quota_usage:bool=False):\n",
        "        \n",
        "        try:\n",
        "            dimension_list = [Dimension(name=dim) for dim in dimensions]\n",
        "            metrics_list = [Metric(name=m) for m in metrics]\n",
        "            \n",
        "            report_request = RunRealtimeReportRequest(\n",
        "                property=f'properties/{self.property_id}',\n",
        "                dimensions=dimension_list,\n",
        "                metrics=metrics_list,\n",
        "                limit=row_limit,\n",
        "                return_property_quota=quota_usage\n",
        "            )\n",
        "            response = self.client.run_realtime_report(report_request)\n",
        "     \n",
        "            output = {}\n",
        "            if 'property_quota' in response:\n",
        "                output['quota'] = response.property_quota\n",
        "\n",
        "            # construct the dataset\n",
        "            headers = [header.name for header in response.dimension_headers] + [header.name for header in response.metric_headers]\n",
        "            rows = []\n",
        "            for row in response.rows:\n",
        "                rows.append(\n",
        "                    [dimension_value.value for dimension_value in row.dimension_values] + \\\n",
        "                    [metric_value.value for metric_value in row.metric_values])            \n",
        "            output['headers'] = headers\n",
        "            output['rows'] = rows\n",
        "            return output\n",
        "        except Exception as e:\n",
        "            raise GA4Exception(e)"
      ],
      "metadata": {
        "id": "uaXzRscKpqWB"
      },
      "execution_count": null,
      "outputs": []
    },
    {
      "cell_type": "markdown",
      "source": [
        "Составляем список интересующих метрик и измерений отчета\n",
        "\n",
        "Полный список доступных метрик и измерений для Run Realtime report представлен по ссылке: https://developers.google.com/analytics/devguides/reporting/data/v1/realtime-api-schema "
      ],
      "metadata": {
        "id": "nAspcDGy_D43"
      }
    },
    {
      "cell_type": "code",
      "source": [
        "lst_dimensions = ['country','deviceCategory']\n",
        "lst_metrics = ['activeUsers']"
      ],
      "metadata": {
        "id": "ZoOWujBK8cyJ"
      },
      "execution_count": null,
      "outputs": []
    },
    {
      "cell_type": "markdown",
      "source": [
        "Отправляем запрос, получаем отчет GA4 и формируем из него pandas dataframe"
      ],
      "metadata": {
        "id": "6QB2N5r3AQIX"
      }
    },
    {
      "cell_type": "code",
      "source": [
        "ga4_realtime = GA4RealTimeReport(property_id)\n",
        "response = ga4_realtime.query_report(lst_dimensions, lst_metrics, 10, True)\n",
        "\n",
        "df = pd.DataFrame(data=response['rows'], columns = response['headers'])\n",
        "df"
      ],
      "metadata": {
        "id": "EtnrW4SJ8uHd"
      },
      "execution_count": null,
      "outputs": []
    }
  ]
}