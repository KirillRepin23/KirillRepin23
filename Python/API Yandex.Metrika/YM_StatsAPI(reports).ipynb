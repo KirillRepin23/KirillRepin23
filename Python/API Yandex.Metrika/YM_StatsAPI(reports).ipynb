{
  "cells": [
    {
      "cell_type": "markdown",
      "source": [
        "### **Скрипт-инструкция к API отчетов Яндекс.Метрики для выгрузки отчетов в среду Python**"
      ],
      "metadata": {
        "id": "1DR_1EAgsRai"
      }
    },
    {
      "cell_type": "markdown",
      "source": [
        "**Введение**\n",
        "\n",
        "Настоящая скрипт-инструкция по обращению к API отчетов Яндекс.Метрики позволяет без использования интерфейса Яндекс.Метрики получать информацию о статистике посещений сайта и другие данные в формате Pandas DataFrame для работы в среде Python.\n",
        "\n",
        "Справка Яндекс.Метрики о API Отчетов: https://yandex.ru/dev/metrika/doc/api2/api_v1/intro.html\n",
        "\n",
        "Для работы с API отчетов Яндекс.Метрики в настоящей скрипт-инструкции используется библиотека **tapi_yandex_metrika**, документацию о которой можно рассмотреть по ссылке: https://github.com/pavelmaksimov/tapi-yandex-metrika"
      ],
      "metadata": {
        "id": "7S3wNOEFVw5Y"
      }
    },
    {
      "cell_type": "markdown",
      "source": [
        "**Блок объявления и загрузки библиотек**"
      ],
      "metadata": {
        "id": "SFCTzIaPlKBs"
      }
    },
    {
      "cell_type": "code",
      "source": [
        "!pip install tapi_yandex_metrika\n",
        "import pandas as pd\n",
        "from tapi_yandex_metrika import YandexMetrikaStats\n",
        "import requests\n",
        "import numpy as np"
      ],
      "metadata": {
        "tags": [],
        "cell_id": "45ab859cd22843caba39e3c9979b6e64",
        "source_hash": "5168f117",
        "execution_start": 1668661224775,
        "execution_millis": 937,
        "deepnote_to_be_reexecuted": false,
        "deepnote_cell_type": "code",
        "colab": {
          "base_uri": "https://localhost:8080/"
        },
        "id": "aQD81KmBmcU4",
        "outputId": "58c1a569-9bfc-48f6-a171-f8270529123d"
      },
      "outputs": [
        {
          "output_type": "stream",
          "name": "stdout",
          "text": [
            "Looking in indexes: https://pypi.org/simple, https://us-python.pkg.dev/colab-wheels/public/simple/\n",
            "Collecting tapi_yandex_metrika\n",
            "  Downloading tapi-yandex-metrika-2022.4.8.tar.gz (10 kB)\n",
            "Requirement already satisfied: requests in /usr/local/lib/python3.7/dist-packages (from tapi_yandex_metrika) (2.23.0)\n",
            "Collecting orjson\n",
            "  Downloading orjson-3.8.2-cp37-cp37m-manylinux_2_17_x86_64.manylinux2014_x86_64.whl (278 kB)\n",
            "\u001b[K     |████████████████████████████████| 278 kB 5.0 MB/s \n",
            "\u001b[?25hCollecting tapi-wrapper2<1.0,>=0.1.2\n",
            "  Downloading tapi-wrapper2-0.1.3.tar.gz (8.6 kB)\n",
            "Requirement already satisfied: idna<3,>=2.5 in /usr/local/lib/python3.7/dist-packages (from requests->tapi_yandex_metrika) (2.10)\n",
            "Requirement already satisfied: urllib3!=1.25.0,!=1.25.1,<1.26,>=1.21.1 in /usr/local/lib/python3.7/dist-packages (from requests->tapi_yandex_metrika) (1.24.3)\n",
            "Requirement already satisfied: certifi>=2017.4.17 in /usr/local/lib/python3.7/dist-packages (from requests->tapi_yandex_metrika) (2022.9.24)\n",
            "Requirement already satisfied: chardet<4,>=3.0.2 in /usr/local/lib/python3.7/dist-packages (from requests->tapi_yandex_metrika) (3.0.4)\n",
            "Building wheels for collected packages: tapi-yandex-metrika, tapi-wrapper2\n",
            "  Building wheel for tapi-yandex-metrika (setup.py) ... \u001b[?25l\u001b[?25hdone\n",
            "  Created wheel for tapi-yandex-metrika: filename=tapi_yandex_metrika-2022.4.8-py3-none-any.whl size=10719 sha256=5d029c4c193b962385d854c51b9f662b653962b74942b0befa41b235f29fd11f\n",
            "  Stored in directory: /root/.cache/pip/wheels/7c/18/11/fc79b76c6cad2aee1cf6ae8d95d33c1297cedbb5d88d133e39\n",
            "  Building wheel for tapi-wrapper2 (setup.py) ... \u001b[?25l\u001b[?25hdone\n",
            "  Created wheel for tapi-wrapper2: filename=tapi_wrapper2-0.1.3-py3-none-any.whl size=8877 sha256=78429c0c91b7844ca507d17358063a2a35ff510cb83a321f7d09ebd0d4e2aa05\n",
            "  Stored in directory: /root/.cache/pip/wheels/c4/64/55/179c1030f1babdd0f8063a74524947dea8ea6ea9d0b446da50\n",
            "Successfully built tapi-yandex-metrika tapi-wrapper2\n",
            "Installing collected packages: tapi-wrapper2, orjson, tapi-yandex-metrika\n",
            "Successfully installed orjson-3.8.2 tapi-wrapper2-0.1.3 tapi-yandex-metrika-2022.4.8\n"
          ]
        }
      ],
      "execution_count": null
    },
    {
      "cell_type": "markdown",
      "source": [
        "**Блок объявления токена API и номера счетчика Яндекс.Метрики**\n",
        "_____________________________"
      ],
      "metadata": {
        "id": "Of5-NUd3lW3F"
      }
    },
    {
      "cell_type": "code",
      "source": [
        "ACCESS_TOKEN = 'y0_*********B*************__*********p0yJpsUQ4' # Введите токен API\n",
        "COUNTER_ID = '3*********' # Введите номер счетчика Яндекс.Метрики"
      ],
      "metadata": {
        "id": "c9pA25I4loSI"
      },
      "execution_count": null,
      "outputs": []
    },
    {
      "cell_type": "markdown",
      "source": [
        "Видео о том, как получить токен API (API_key) Яндекс Метрики: https://www.youtube.com/watch?v=_xCh8LHEJJA\n",
        "\n",
        "*ВАЖНО: публикация токена API в открытый доступ запрещена, в противном случае третьи лица могут получить полный доступ к счетчику Яндекс.Метрики, в том числе к его настройкам и содержащимся в нем данным*"
      ],
      "metadata": {
        "id": "fNKVXPTMmD4k"
      }
    },
    {
      "cell_type": "markdown",
      "source": [
        "**Блок объявления параметров запроса к API отчетов Яндекс.Метрики**\n",
        "_______________________________"
      ],
      "metadata": {
        "id": "Lmm6bR18mEAI"
      }
    },
    {
      "cell_type": "markdown",
      "source": [
        "**Группировка (dimension)** — это атрибут визита или хита, по которому можно сгруппировать данные.\n",
        "\n",
        "В запросах к API группировки задаются в параметре dimensions. Если необходимо указать несколько группировок, перечислите их через запятую.\n",
        "\n",
        " "
      ],
      "metadata": {
        "id": "vBq9RdCHoMzX"
      }
    },
    {
      "cell_type": "code",
      "source": [
        "dimensions = \"ym:s:date,ym:s:TrafficSource,ym:s:UTMCampaign,ym:s:regionCity\" # ,ym:s:UTMSource,ym:s:deviceCategory и т.д."
      ],
      "metadata": {
        "id": "BgAJyuBOmXnl"
      },
      "execution_count": null,
      "outputs": []
    },
    {
      "cell_type": "markdown",
      "source": [
        "Список возможных группировок приведен на странице https://yandex.ru/dev/metrika/doc/api2/api_v1/intro.html в разделе \"Группировки\"\n",
        "\n",
        "Также возможен отчет без группировок, в этом случае будет рассчитан суммарный результат.\n",
        "_______________________________"
      ],
      "metadata": {
        "id": "3jXJHaOCnmRX"
      }
    },
    {
      "cell_type": "markdown",
      "source": [
        "**Метрика (metric)** — числовая величина, которая рассчитывается на основе атрибута хита или визита.\n",
        "\n",
        "В запросах к API метрики задаются в параметре metrics. Если необходимо указать несколько метрик, перечислите их через запятую."
      ],
      "metadata": {
        "id": "AolJbVEloZIj"
      }
    },
    {
      "cell_type": "code",
      "source": [
        "metrics = \"ym:s:visits,ym:s:users,ym:s:pageDepth\" # ,ym:s:ecommercePurchases,ym:s:offlineCalls и т.д."
      ],
      "metadata": {
        "id": "NpeXmjqnnmbs"
      },
      "execution_count": null,
      "outputs": []
    },
    {
      "cell_type": "markdown",
      "source": [
        "Список возможных метрик приведен на странице https://yandex.ru/dev/metrika/doc/api2/api_v1/intro.html в разделе \"Метрики\"\n",
        "\n",
        "*Примечание: API отчетов поддерживает механизм задания параметров для группировок и метрик — параметризацию. Например, если необходимо получить количество целевых визитов, метрика ym:s:visits может быть параметризована следующим образом:* `ym:s:goal<goal_id>visits`\n",
        "\n",
        "*Подробнее о параметризации группировок и метрик здесь: https://yandex.ru/dev/metrika/doc/api2/api_v1/param.html*\n",
        "____________________________________"
      ],
      "metadata": {
        "id": "fZr76A9HnrUr"
      }
    },
    {
      "cell_type": "markdown",
      "source": [
        "**Шаблоны (presets)** - необязательный параметр запроса к API отчетов, который позволяет выбирать готовый набор Группировок и Метрик"
      ],
      "metadata": {
        "id": "n-TdoytPuZe7"
      }
    },
    {
      "cell_type": "code",
      "source": [
        "preset = \"traffic\" # conversion, hourly, age и т.д."
      ],
      "metadata": {
        "id": "GPwEiS6cuv8f"
      },
      "execution_count": null,
      "outputs": []
    },
    {
      "cell_type": "markdown",
      "source": [
        "В разделе \"Шаблоны\" по ссылке https://yandex.ru/dev/metrika/doc/api2/api_v1/presets/presets.html приведен полный список возможных шаблонов\n",
        "______________________________________________________________"
      ],
      "metadata": {
        "id": "cBP5WIGKtNPc"
      }
    },
    {
      "cell_type": "markdown",
      "source": [
        "**Фильтры (filters)** - другой необязательный параметр, который позволяет выделить из данных отчета нужный нам сегмент"
      ],
      "metadata": {
        "id": "bIo9eU46s1Po"
      }
    },
    {
      "cell_type": "code",
      "source": [
        "filters = \"ym:s:pageDepth>2\""
      ],
      "metadata": {
        "id": "e2F7V8OStDFA"
      },
      "execution_count": null,
      "outputs": []
    },
    {
      "cell_type": "markdown",
      "source": [
        "*Примечание: метрика, по которой фильтруются данные, должна быть указана в параметре metrics*\n",
        "\n",
        "Подробнее о порядке применения фильтров и возможных операторах фильтрации можно ознакомиться по ссылке:\n",
        "https://yandex.ru/dev/metrika/doc/api2/api_v1/segmentation.html\n",
        "_____________________________________________"
      ],
      "metadata": {
        "id": "QfuDrCFUwKGF"
      }
    },
    {
      "cell_type": "markdown",
      "source": [
        "Задаем временные границы, за которые необходимо получить данные "
      ],
      "metadata": {
        "id": "ZzSTrNq9qGdn"
      }
    },
    {
      "cell_type": "code",
      "source": [
        "start_date = '2022-10-01'\n",
        "end_date = '2022-10-02'"
      ],
      "metadata": {
        "id": "dTD2FkjrqWt8"
      },
      "execution_count": null,
      "outputs": []
    },
    {
      "cell_type": "markdown",
      "source": [
        "_____________________________________________\n",
        "Список других возможных параметров приведен на странице https://yandex.ru/dev/metrika/doc/api2/api_v1/intro.html в разделе \"Запросы к API\""
      ],
      "metadata": {
        "id": "MO5hP7O73vio"
      }
    },
    {
      "cell_type": "markdown",
      "source": [
        "**Блок выгрузки данных**\n",
        "_________________________________"
      ],
      "metadata": {
        "id": "EvNSN-uPq7T8"
      }
    },
    {
      "cell_type": "markdown",
      "source": [
        "Инициализация параметров подключения к счетчику Яндекс.Метрики"
      ],
      "metadata": {
        "id": "JYpFaH2DGWNK"
      }
    },
    {
      "cell_type": "code",
      "source": [
        "client = YandexMetrikaStats(access_token=ACCESS_TOKEN)\n",
        "\n",
        "params = dict(\n",
        "    ids = COUNTER_ID,\n",
        "    date1 = start_date,\n",
        "    date2 = end_date,\n",
        "    metrics = metrics,\n",
        "    dimensions = dimensions,\n",
        "    accuracy = 'full', # точность вычисления результата (позволяет управлять семплированием)\n",
        "    limit = 100000, # количество элементов на странице выдачи (максимально 100000 элементов)\n",
        "    filters = filters\n",
        "    #lang=\"ru\" # Язык отчета \n",
        "    #preset = preset  \n",
        "    #sort=\"ym:s:date\" # Сортировка по столбцу\n",
        "    # и т.д. (другие возможные параметры запроса)\n",
        ")"
      ],
      "metadata": {
        "tags": [],
        "cell_id": "525dd061b0344cc8ae2187cef91496eb",
        "source_hash": "dbf477ba",
        "execution_start": 1668661225720,
        "execution_millis": 182569,
        "deepnote_to_be_reexecuted": false,
        "deepnote_cell_type": "code",
        "id": "_lis8pWkmcU7"
      },
      "outputs": [],
      "execution_count": null
    },
    {
      "cell_type": "markdown",
      "source": [
        "Проверка инициализации параметров запроса"
      ],
      "metadata": {
        "id": "ke95Xx-qcVpe"
      }
    },
    {
      "cell_type": "code",
      "source": [
        "params"
      ],
      "metadata": {
        "id": "0E11lDl3--0m"
      },
      "execution_count": null,
      "outputs": []
    },
    {
      "cell_type": "markdown",
      "source": [
        "Выгрузка данных из Яндекс.Метрики в Pandas DataFrame"
      ],
      "metadata": {
        "id": "I-1N9iTsDIOW"
      }
    },
    {
      "cell_type": "code",
      "source": [
        "report = client.stats().get(params=params)\n",
        "\n",
        "df = pd.DataFrame()\n",
        "\n",
        "for page in report().pages(max_pages=100):\n",
        "    dict_report = page().to_dicts()\n",
        "    df1 = pd.DataFrame.from_dict(dict_report)\n",
        "    df = df.append(df1)"
      ],
      "metadata": {
        "id": "pHP36pIZDIrS"
      },
      "execution_count": null,
      "outputs": []
    },
    {
      "cell_type": "markdown",
      "source": [
        "Выводим получившийся Pandas DataFrame"
      ],
      "metadata": {
        "id": "_1xveHpWr3L6"
      }
    },
    {
      "cell_type": "code",
      "source": [
        "df"
      ],
      "metadata": {
        "colab": {
          "base_uri": "https://localhost:8080/",
          "height": 424
        },
        "id": "ZBK01_W1n9wD",
        "outputId": "f9d12aff-bd38-497a-f65b-2f8057e2e876"
      },
      "execution_count": null,
      "outputs": [
        {
          "output_type": "execute_result",
          "data": {
            "text/plain": [
              "       ym:s:date ym:s:trafficSource  \\\n",
              "0     2022-10-02   Internal traffic   \n",
              "1     2022-10-01   Internal traffic   \n",
              "2     2022-10-02   Internal traffic   \n",
              "3     2022-10-02     Direct traffic   \n",
              "4     2022-10-01   Internal traffic   \n",
              "...          ...                ...   \n",
              "6843  2022-10-02  Messenger traffic   \n",
              "6844  2022-10-02  Messenger traffic   \n",
              "6845  2022-10-02  Messenger traffic   \n",
              "6846  2022-10-02  Messenger traffic   \n",
              "6847  2022-10-02  Messenger traffic   \n",
              "\n",
              "                                       ym:s:UTMCampaign   ym:s:regionCity  \\\n",
              "0                                                  None            Moscow   \n",
              "1                                                  None            Moscow   \n",
              "2                                                  None              None   \n",
              "3                                                  None              None   \n",
              "4                                                  None              None   \n",
              "...                                                 ...               ...   \n",
              "6843                     allbe_free68_allclass_name--GR            Kaluga   \n",
              "6844                     allbe_free68_allclass_name--GR          Orenburg   \n",
              "6845  allbe_zk_allclass_28-09-2022_name--sms_test_20.09     Yekaterinburg   \n",
              "6846  allbe_zk_allclass_28-09-2022_name--telegram_ka...           Vologda   \n",
              "6847               allbe_zk_allclass_name--maximum_dpp1  Saint Petersburg   \n",
              "\n",
              "      ym:s:visits  ym:s:users  ym:s:pageDepth  \n",
              "0          2689.0      1894.0        2.098178  \n",
              "1          2562.0      1840.0        2.165496  \n",
              "2          2454.0      1758.0        2.219641  \n",
              "3          2370.0      1878.0        2.652743  \n",
              "4          2092.0      1534.0        2.320746  \n",
              "...           ...         ...             ...  \n",
              "6843          1.0         1.0        1.000000  \n",
              "6844          1.0         1.0        2.000000  \n",
              "6845          1.0         1.0       24.000000  \n",
              "6846          1.0         1.0        1.000000  \n",
              "6847          1.0         1.0        1.000000  \n",
              "\n",
              "[6848 rows x 7 columns]"
            ],
            "text/html": [
              "\n",
              "  <div id=\"df-f06f31fa-9cf4-4c16-9104-efbe62032bfd\">\n",
              "    <div class=\"colab-df-container\">\n",
              "      <div>\n",
              "<style scoped>\n",
              "    .dataframe tbody tr th:only-of-type {\n",
              "        vertical-align: middle;\n",
              "    }\n",
              "\n",
              "    .dataframe tbody tr th {\n",
              "        vertical-align: top;\n",
              "    }\n",
              "\n",
              "    .dataframe thead th {\n",
              "        text-align: right;\n",
              "    }\n",
              "</style>\n",
              "<table border=\"1\" class=\"dataframe\">\n",
              "  <thead>\n",
              "    <tr style=\"text-align: right;\">\n",
              "      <th></th>\n",
              "      <th>ym:s:date</th>\n",
              "      <th>ym:s:trafficSource</th>\n",
              "      <th>ym:s:UTMCampaign</th>\n",
              "      <th>ym:s:regionCity</th>\n",
              "      <th>ym:s:visits</th>\n",
              "      <th>ym:s:users</th>\n",
              "      <th>ym:s:pageDepth</th>\n",
              "    </tr>\n",
              "  </thead>\n",
              "  <tbody>\n",
              "    <tr>\n",
              "      <th>0</th>\n",
              "      <td>2022-10-02</td>\n",
              "      <td>Internal traffic</td>\n",
              "      <td>None</td>\n",
              "      <td>Moscow</td>\n",
              "      <td>2689.0</td>\n",
              "      <td>1894.0</td>\n",
              "      <td>2.098178</td>\n",
              "    </tr>\n",
              "    <tr>\n",
              "      <th>1</th>\n",
              "      <td>2022-10-01</td>\n",
              "      <td>Internal traffic</td>\n",
              "      <td>None</td>\n",
              "      <td>Moscow</td>\n",
              "      <td>2562.0</td>\n",
              "      <td>1840.0</td>\n",
              "      <td>2.165496</td>\n",
              "    </tr>\n",
              "    <tr>\n",
              "      <th>2</th>\n",
              "      <td>2022-10-02</td>\n",
              "      <td>Internal traffic</td>\n",
              "      <td>None</td>\n",
              "      <td>None</td>\n",
              "      <td>2454.0</td>\n",
              "      <td>1758.0</td>\n",
              "      <td>2.219641</td>\n",
              "    </tr>\n",
              "    <tr>\n",
              "      <th>3</th>\n",
              "      <td>2022-10-02</td>\n",
              "      <td>Direct traffic</td>\n",
              "      <td>None</td>\n",
              "      <td>None</td>\n",
              "      <td>2370.0</td>\n",
              "      <td>1878.0</td>\n",
              "      <td>2.652743</td>\n",
              "    </tr>\n",
              "    <tr>\n",
              "      <th>4</th>\n",
              "      <td>2022-10-01</td>\n",
              "      <td>Internal traffic</td>\n",
              "      <td>None</td>\n",
              "      <td>None</td>\n",
              "      <td>2092.0</td>\n",
              "      <td>1534.0</td>\n",
              "      <td>2.320746</td>\n",
              "    </tr>\n",
              "    <tr>\n",
              "      <th>...</th>\n",
              "      <td>...</td>\n",
              "      <td>...</td>\n",
              "      <td>...</td>\n",
              "      <td>...</td>\n",
              "      <td>...</td>\n",
              "      <td>...</td>\n",
              "      <td>...</td>\n",
              "    </tr>\n",
              "    <tr>\n",
              "      <th>6843</th>\n",
              "      <td>2022-10-02</td>\n",
              "      <td>Messenger traffic</td>\n",
              "      <td>allbe_free68_allclass_name--GR</td>\n",
              "      <td>Kaluga</td>\n",
              "      <td>1.0</td>\n",
              "      <td>1.0</td>\n",
              "      <td>1.000000</td>\n",
              "    </tr>\n",
              "    <tr>\n",
              "      <th>6844</th>\n",
              "      <td>2022-10-02</td>\n",
              "      <td>Messenger traffic</td>\n",
              "      <td>allbe_free68_allclass_name--GR</td>\n",
              "      <td>Orenburg</td>\n",
              "      <td>1.0</td>\n",
              "      <td>1.0</td>\n",
              "      <td>2.000000</td>\n",
              "    </tr>\n",
              "    <tr>\n",
              "      <th>6845</th>\n",
              "      <td>2022-10-02</td>\n",
              "      <td>Messenger traffic</td>\n",
              "      <td>allbe_zk_allclass_28-09-2022_name--sms_test_20.09</td>\n",
              "      <td>Yekaterinburg</td>\n",
              "      <td>1.0</td>\n",
              "      <td>1.0</td>\n",
              "      <td>24.000000</td>\n",
              "    </tr>\n",
              "    <tr>\n",
              "      <th>6846</th>\n",
              "      <td>2022-10-02</td>\n",
              "      <td>Messenger traffic</td>\n",
              "      <td>allbe_zk_allclass_28-09-2022_name--telegram_ka...</td>\n",
              "      <td>Vologda</td>\n",
              "      <td>1.0</td>\n",
              "      <td>1.0</td>\n",
              "      <td>1.000000</td>\n",
              "    </tr>\n",
              "    <tr>\n",
              "      <th>6847</th>\n",
              "      <td>2022-10-02</td>\n",
              "      <td>Messenger traffic</td>\n",
              "      <td>allbe_zk_allclass_name--maximum_dpp1</td>\n",
              "      <td>Saint Petersburg</td>\n",
              "      <td>1.0</td>\n",
              "      <td>1.0</td>\n",
              "      <td>1.000000</td>\n",
              "    </tr>\n",
              "  </tbody>\n",
              "</table>\n",
              "<p>6848 rows × 7 columns</p>\n",
              "</div>\n",
              "      <button class=\"colab-df-convert\" onclick=\"convertToInteractive('df-f06f31fa-9cf4-4c16-9104-efbe62032bfd')\"\n",
              "              title=\"Convert this dataframe to an interactive table.\"\n",
              "              style=\"display:none;\">\n",
              "        \n",
              "  <svg xmlns=\"http://www.w3.org/2000/svg\" height=\"24px\"viewBox=\"0 0 24 24\"\n",
              "       width=\"24px\">\n",
              "    <path d=\"M0 0h24v24H0V0z\" fill=\"none\"/>\n",
              "    <path d=\"M18.56 5.44l.94 2.06.94-2.06 2.06-.94-2.06-.94-.94-2.06-.94 2.06-2.06.94zm-11 1L8.5 8.5l.94-2.06 2.06-.94-2.06-.94L8.5 2.5l-.94 2.06-2.06.94zm10 10l.94 2.06.94-2.06 2.06-.94-2.06-.94-.94-2.06-.94 2.06-2.06.94z\"/><path d=\"M17.41 7.96l-1.37-1.37c-.4-.4-.92-.59-1.43-.59-.52 0-1.04.2-1.43.59L10.3 9.45l-7.72 7.72c-.78.78-.78 2.05 0 2.83L4 21.41c.39.39.9.59 1.41.59.51 0 1.02-.2 1.41-.59l7.78-7.78 2.81-2.81c.8-.78.8-2.07 0-2.86zM5.41 20L4 18.59l7.72-7.72 1.47 1.35L5.41 20z\"/>\n",
              "  </svg>\n",
              "      </button>\n",
              "      \n",
              "  <style>\n",
              "    .colab-df-container {\n",
              "      display:flex;\n",
              "      flex-wrap:wrap;\n",
              "      gap: 12px;\n",
              "    }\n",
              "\n",
              "    .colab-df-convert {\n",
              "      background-color: #E8F0FE;\n",
              "      border: none;\n",
              "      border-radius: 50%;\n",
              "      cursor: pointer;\n",
              "      display: none;\n",
              "      fill: #1967D2;\n",
              "      height: 32px;\n",
              "      padding: 0 0 0 0;\n",
              "      width: 32px;\n",
              "    }\n",
              "\n",
              "    .colab-df-convert:hover {\n",
              "      background-color: #E2EBFA;\n",
              "      box-shadow: 0px 1px 2px rgba(60, 64, 67, 0.3), 0px 1px 3px 1px rgba(60, 64, 67, 0.15);\n",
              "      fill: #174EA6;\n",
              "    }\n",
              "\n",
              "    [theme=dark] .colab-df-convert {\n",
              "      background-color: #3B4455;\n",
              "      fill: #D2E3FC;\n",
              "    }\n",
              "\n",
              "    [theme=dark] .colab-df-convert:hover {\n",
              "      background-color: #434B5C;\n",
              "      box-shadow: 0px 1px 3px 1px rgba(0, 0, 0, 0.15);\n",
              "      filter: drop-shadow(0px 1px 2px rgba(0, 0, 0, 0.3));\n",
              "      fill: #FFFFFF;\n",
              "    }\n",
              "  </style>\n",
              "\n",
              "      <script>\n",
              "        const buttonEl =\n",
              "          document.querySelector('#df-f06f31fa-9cf4-4c16-9104-efbe62032bfd button.colab-df-convert');\n",
              "        buttonEl.style.display =\n",
              "          google.colab.kernel.accessAllowed ? 'block' : 'none';\n",
              "\n",
              "        async function convertToInteractive(key) {\n",
              "          const element = document.querySelector('#df-f06f31fa-9cf4-4c16-9104-efbe62032bfd');\n",
              "          const dataTable =\n",
              "            await google.colab.kernel.invokeFunction('convertToInteractive',\n",
              "                                                     [key], {});\n",
              "          if (!dataTable) return;\n",
              "\n",
              "          const docLinkHtml = 'Like what you see? Visit the ' +\n",
              "            '<a target=\"_blank\" href=https://colab.research.google.com/notebooks/data_table.ipynb>data table notebook</a>'\n",
              "            + ' to learn more about interactive tables.';\n",
              "          element.innerHTML = '';\n",
              "          dataTable['output_type'] = 'display_data';\n",
              "          await google.colab.output.renderOutput(dataTable, element);\n",
              "          const docLink = document.createElement('div');\n",
              "          docLink.innerHTML = docLinkHtml;\n",
              "          element.appendChild(docLink);\n",
              "        }\n",
              "      </script>\n",
              "    </div>\n",
              "  </div>\n",
              "  "
            ]
          },
          "metadata": {},
          "execution_count": 10
        }
      ]
    }
  ],
  "nbformat": 4,
  "nbformat_minor": 0,
  "metadata": {
    "deepnote": {},
    "orig_nbformat": 2,
    "deepnote_notebook_id": "c7c3284201ef47f598a6a2d6aa829ecd",
    "deepnote_execution_queue": [],
    "deepnote_persisted_session": {
      "createdAt": "2022-11-17T05:32:49.150Z"
    },
    "colab": {
      "provenance": []
    },
    "language_info": {
      "name": "python"
    },
    "kernelspec": {
      "name": "python3",
      "display_name": "Python 3"
    },
    "gpuClass": "standard"
  }
}