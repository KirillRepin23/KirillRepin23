{
  "cells": [
    {
      "cell_type": "markdown",
      "source": [
        "### **Скрипт-инструкция к Logs API Яндекс.Метрики по выгрузке сырых данных в среду Python**"
      ],
      "metadata": {
        "id": "1DR_1EAgsRai"
      }
    },
    {
      "cell_type": "markdown",
      "source": [
        "**Введение**\n",
        "\n",
        "Настоящая скрипт-инструкция по обращению к Logs API Яндекс.Метрики позволяет получать неагрегированные данные, собранные определенным счетчиком Яндекс.Метрики, и преобразовывать их в формат Pandas DataFrame для работы в среде Python, где мы можем самостоятельно обрабатывать статистические данные и использовать их для решения уникальных аналитических задач.\n",
        "\n",
        "Справка Яндекс.Метрики о Logs API: https://yandex.ru/dev/metrika/doc/api2/logs/intro.html\n",
        "\n",
        "Для работы с Logs API Яндекс.Метрики в настоящей скрипт-инструкции используется библиотека **tapi_yandex_metrika**, документацию о которой можно рассмотреть по ссылке: https://github.com/pavelmaksimov/tapi-yandex-metrika"
      ],
      "metadata": {
        "id": "7S3wNOEFVw5Y"
      }
    },
    {
      "cell_type": "markdown",
      "source": [
        "**Блок объявления и загрузки библиотек**"
      ],
      "metadata": {
        "id": "SFCTzIaPlKBs"
      }
    },
    {
      "cell_type": "code",
      "source": [
        "!pip install tapi_yandex_metrika\n",
        "import pandas as pd\n",
        "from tapi_yandex_metrika import YandexMetrikaLogsapi\n",
        "import requests\n",
        "import numpy as np"
      ],
      "metadata": {
        "tags": [],
        "cell_id": "45ab859cd22843caba39e3c9979b6e64",
        "source_hash": "5168f117",
        "execution_start": 1668661224775,
        "execution_millis": 937,
        "deepnote_to_be_reexecuted": false,
        "deepnote_cell_type": "code",
        "colab": {
          "base_uri": "https://localhost:8080/"
        },
        "id": "aQD81KmBmcU4",
        "outputId": "bc460572-9ff5-4e4f-ec10-99df6a11b1e2"
      },
      "outputs": [
        {
          "output_type": "stream",
          "name": "stdout",
          "text": [
            "Looking in indexes: https://pypi.org/simple, https://us-python.pkg.dev/colab-wheels/public/simple/\n",
            "Requirement already satisfied: tapi_yandex_metrika in /usr/local/lib/python3.7/dist-packages (2022.4.8)\n",
            "Requirement already satisfied: tapi-wrapper2<1.0,>=0.1.2 in /usr/local/lib/python3.7/dist-packages (from tapi_yandex_metrika) (0.1.3)\n",
            "Requirement already satisfied: requests in /usr/local/lib/python3.7/dist-packages (from tapi_yandex_metrika) (2.23.0)\n",
            "Requirement already satisfied: orjson in /usr/local/lib/python3.7/dist-packages (from tapi_yandex_metrika) (3.8.1)\n",
            "Requirement already satisfied: idna<3,>=2.5 in /usr/local/lib/python3.7/dist-packages (from requests->tapi_yandex_metrika) (2.10)\n",
            "Requirement already satisfied: chardet<4,>=3.0.2 in /usr/local/lib/python3.7/dist-packages (from requests->tapi_yandex_metrika) (3.0.4)\n",
            "Requirement already satisfied: urllib3!=1.25.0,!=1.25.1,<1.26,>=1.21.1 in /usr/local/lib/python3.7/dist-packages (from requests->tapi_yandex_metrika) (1.24.3)\n",
            "Requirement already satisfied: certifi>=2017.4.17 in /usr/local/lib/python3.7/dist-packages (from requests->tapi_yandex_metrika) (2022.9.24)\n"
          ]
        }
      ],
      "execution_count": null
    },
    {
      "cell_type": "markdown",
      "source": [
        "**Блок объявления токена API и номера счетчика Яндекс.Метрики**\n",
        "_____________________________"
      ],
      "metadata": {
        "id": "Of5-NUd3lW3F"
      }
    },
    {
      "cell_type": "code",
      "source": [
        "ACCESS_TOKEN = 'y0_*******************************************Q4' # Введите токен API\n",
        "COUNTER_ID = '*******' # Введите номер счетчика Яндекс.Метрики"
      ],
      "metadata": {
        "id": "c9pA25I4loSI"
      },
      "execution_count": null,
      "outputs": []
    },
    {
      "cell_type": "markdown",
      "source": [
        "Видео о том, как получить токен API (API_key) Яндекс Метрики: https://www.youtube.com/watch?v=_xCh8LHEJJA\n",
        "\n",
        "*ВАЖНО: публикация токена API в открытый доступ запрещена, в противном случае третьи лица могут получить полный доступ к счетчику Яндекс.Метрики, в том числе к его настройкам и содержащимся в нем данным*"
      ],
      "metadata": {
        "id": "fNKVXPTMmD4k"
      }
    },
    {
      "cell_type": "markdown",
      "source": [
        "**Блок объявления параметров запроса к Logs API Яндекс.Метрики**\n",
        "_______________________________"
      ],
      "metadata": {
        "id": "Lmm6bR18mEAI"
      }
    },
    {
      "cell_type": "markdown",
      "source": [
        " - Задаем поля необходимого нам запроса в случае, если хотим смотреть логи визитов **(source : visits)**\n",
        "\n",
        "*Визит — последовательность действий (активность) одного посетителя на сайте (на одном счетчике)*\n",
        "\n",
        " "
      ],
      "metadata": {
        "id": "vBq9RdCHoMzX"
      }
    },
    {
      "cell_type": "code",
      "source": [
        "fields_visits = \"ym:s:date,ym:s:visitID,ym:s:counterID\" # ,ym:s:counterID,ym:s:isNewUser,ym:s:pageViews,ym:s:referer,ym:s:UTMSource и т.д."
      ],
      "metadata": {
        "id": "BgAJyuBOmXnl"
      },
      "execution_count": null,
      "outputs": []
    },
    {
      "cell_type": "markdown",
      "source": [
        "Список возможных полей для запроса в случае источника логов visits (визиты) приведен по ссылке: https://yandex.ru/dev/metrika/doc/api2/logs/fields/visits.html\n",
        "_______________________________"
      ],
      "metadata": {
        "id": "3jXJHaOCnmRX"
      }
    },
    {
      "cell_type": "markdown",
      "source": [
        "- Задаем поля необходимого нам запроса в случае, если хотим смотреть логи просмотров **(source : hits)**\n",
        "\n",
        "*Просмотр — загрузка страницы сайта при переходе посетителя на нее*"
      ],
      "metadata": {
        "id": "AolJbVEloZIj"
      }
    },
    {
      "cell_type": "code",
      "source": [
        "fields_hits = \"ym:pv:date,ym:pv:title,ym:pv:UTMCampaign,ym:pv:UTMSource\" # ,ym:pv:deviceCategory,ym:pv:lastTrafficSource и т.д."
      ],
      "metadata": {
        "id": "NpeXmjqnnmbs"
      },
      "execution_count": null,
      "outputs": []
    },
    {
      "cell_type": "markdown",
      "source": [
        "Список возможных полей для запроса в случае источника логов hits (просмотры) приведен по ссылке: https://yandex.ru/dev/metrika/doc/api2/logs/fields/hits.html\n",
        "____________________________________"
      ],
      "metadata": {
        "id": "fZr76A9HnrUr"
      }
    },
    {
      "cell_type": "markdown",
      "source": [
        "*Примечание: Logs API Метрики поддерживает механизм задания параметров полей — параметризацию. Возможность доступна для большинства полей (и fields_visits, и fields_hits). С помощью параметризации можно указать модель атрибуции. Также доступны значения, определяющие кросс-девайс атрибуцию. По умолчанию используется lastsign — последний значимый источник. Подробнее о параметризации полей здесь: https://yandex.ru/dev/metrika/doc/api2/logs/param.html*"
      ],
      "metadata": {
        "id": "uBH8lMX3LunJ"
      }
    },
    {
      "cell_type": "markdown",
      "source": [
        "Задаем временные границы, за которые необходимо получить данные "
      ],
      "metadata": {
        "id": "ZzSTrNq9qGdn"
      }
    },
    {
      "cell_type": "code",
      "source": [
        "start_date = '2022-10-01'\n",
        "end_date = '2022-10-02'"
      ],
      "metadata": {
        "id": "dTD2FkjrqWt8"
      },
      "execution_count": null,
      "outputs": []
    },
    {
      "cell_type": "markdown",
      "source": [
        "**Блок выгрузки данных**\n",
        "_________________________________"
      ],
      "metadata": {
        "id": "EvNSN-uPq7T8"
      }
    },
    {
      "cell_type": "markdown",
      "source": [
        "Инициализация параметров подключения к счетчику Яндекс.Метрики"
      ],
      "metadata": {
        "id": "JYpFaH2DGWNK"
      }
    },
    {
      "cell_type": "code",
      "source": [
        "client = YandexMetrikaLogsapi(\n",
        "    access_token=ACCESS_TOKEN,\n",
        "    default_url_params={'counterId': COUNTER_ID},\n",
        "    wait_report=True\n",
        ")\n",
        "params={\n",
        "    \"fields\": fields_visits, #ИЛИ fields_hits\n",
        "    \"source\": \"visits\", #ИЛИ \"hits\"\n",
        "    \"date1\": start_date,\n",
        "    \"date2\": end_date\n",
        "}"
      ],
      "metadata": {
        "tags": [],
        "cell_id": "525dd061b0344cc8ae2187cef91496eb",
        "source_hash": "dbf477ba",
        "execution_start": 1668661225720,
        "execution_millis": 182569,
        "deepnote_to_be_reexecuted": false,
        "deepnote_cell_type": "code",
        "id": "_lis8pWkmcU7"
      },
      "outputs": [],
      "execution_count": null
    },
    {
      "cell_type": "markdown",
      "source": [
        "Проверка инициализации параметров запроса"
      ],
      "metadata": {
        "id": "8sl8MoCbcgwb"
      }
    },
    {
      "cell_type": "code",
      "source": [
        "params"
      ],
      "metadata": {
        "id": "UZcG959ZchJz"
      },
      "execution_count": null,
      "outputs": []
    },
    {
      "cell_type": "markdown",
      "source": [
        "Проверка возможности выгрузки отчета с данными, т.к. существует  ограничение на максимальный размер отчета (до 10 Гб), ждем ответ **possible:True**"
      ],
      "metadata": {
        "id": "R91jp1flC1P-"
      }
    },
    {
      "cell_type": "code",
      "source": [
        "result = client.evaluate().get(params=params)\n",
        "print(result)"
      ],
      "metadata": {
        "colab": {
          "base_uri": "https://localhost:8080/"
        },
        "id": "ehnP1TbqCuay",
        "outputId": "2c1c20cd-cc02-4efd-baaa-499c76503991"
      },
      "execution_count": null,
      "outputs": [
        {
          "output_type": "stream",
          "name": "stdout",
          "text": [
            "<TapiClient object\n",
            "{   'log_request_evaluation': {   'expected_size': 2965053,\n",
            "                                  'log_request_sum_max_size': 10737418240,\n",
            "                                  'log_request_sum_size': 10726398462,\n",
            "                                  'max_possible_day_quantity': 7235,\n",
            "                                  'possible': True}}>\n"
          ]
        }
      ]
    },
    {
      "cell_type": "markdown",
      "source": [
        "Выгрузка данных из Яндекс.Метрики в Pandas DataFrame"
      ],
      "metadata": {
        "id": "I-1N9iTsDIOW"
      }
    },
    {
      "cell_type": "code",
      "source": [
        "info = client.create().post(params=params)\n",
        "request_id = info[\"log_request\"][\"request_id\"]\n",
        "\n",
        "report = client.download(requestId=request_id).get()\n",
        "\n",
        "raw = report().to_dicts()\n",
        "df = pd.DataFrame.from_dict(raw)"
      ],
      "metadata": {
        "id": "pHP36pIZDIrS"
      },
      "execution_count": null,
      "outputs": []
    },
    {
      "cell_type": "markdown",
      "source": [
        "Выводим получившийся Pandas DataFrame"
      ],
      "metadata": {
        "id": "_1xveHpWr3L6"
      }
    },
    {
      "cell_type": "code",
      "source": [
        "df"
      ],
      "metadata": {
        "colab": {
          "base_uri": "https://localhost:8080/",
          "height": 424
        },
        "id": "ZBK01_W1n9wD",
        "outputId": "76cb89ca-beb8-4469-a2bd-daa793a2e09f"
      },
      "execution_count": null,
      "outputs": [
        {
          "output_type": "execute_result",
          "data": {
            "text/plain": [
              "        ym:s:date         ym:s:visitID ym:s:counterID\n",
              "0      2022-10-01  5767097095466516512       37655510\n",
              "1      2022-10-01  5767124245926117703       37655510\n",
              "2      2022-10-02  5784460103729545319       37655510\n",
              "3      2022-10-01  5765106810708557951       37655510\n",
              "4      2022-10-02  5781989152076071189       37655510\n",
              "...           ...                  ...            ...\n",
              "66362  2022-10-01  5770121536926384420       37655510\n",
              "66363  2022-10-01  5764944333987119336       37655510\n",
              "66364  2022-10-01  5761231597532086305       37655510\n",
              "66365  2022-10-01  5766495183310946668       37655510\n",
              "66366  2022-10-02  5794688275456983119       37655510\n",
              "\n",
              "[66367 rows x 3 columns]"
            ],
            "text/html": [
              "\n",
              "  <div id=\"df-97a1edbf-76a5-4528-b334-91382b5f5c30\">\n",
              "    <div class=\"colab-df-container\">\n",
              "      <div>\n",
              "<style scoped>\n",
              "    .dataframe tbody tr th:only-of-type {\n",
              "        vertical-align: middle;\n",
              "    }\n",
              "\n",
              "    .dataframe tbody tr th {\n",
              "        vertical-align: top;\n",
              "    }\n",
              "\n",
              "    .dataframe thead th {\n",
              "        text-align: right;\n",
              "    }\n",
              "</style>\n",
              "<table border=\"1\" class=\"dataframe\">\n",
              "  <thead>\n",
              "    <tr style=\"text-align: right;\">\n",
              "      <th></th>\n",
              "      <th>ym:s:date</th>\n",
              "      <th>ym:s:visitID</th>\n",
              "      <th>ym:s:counterID</th>\n",
              "    </tr>\n",
              "  </thead>\n",
              "  <tbody>\n",
              "    <tr>\n",
              "      <th>0</th>\n",
              "      <td>2022-10-01</td>\n",
              "      <td>5767097095466516512</td>\n",
              "      <td>37655510</td>\n",
              "    </tr>\n",
              "    <tr>\n",
              "      <th>1</th>\n",
              "      <td>2022-10-01</td>\n",
              "      <td>5767124245926117703</td>\n",
              "      <td>37655510</td>\n",
              "    </tr>\n",
              "    <tr>\n",
              "      <th>2</th>\n",
              "      <td>2022-10-02</td>\n",
              "      <td>5784460103729545319</td>\n",
              "      <td>37655510</td>\n",
              "    </tr>\n",
              "    <tr>\n",
              "      <th>3</th>\n",
              "      <td>2022-10-01</td>\n",
              "      <td>5765106810708557951</td>\n",
              "      <td>37655510</td>\n",
              "    </tr>\n",
              "    <tr>\n",
              "      <th>4</th>\n",
              "      <td>2022-10-02</td>\n",
              "      <td>5781989152076071189</td>\n",
              "      <td>37655510</td>\n",
              "    </tr>\n",
              "    <tr>\n",
              "      <th>...</th>\n",
              "      <td>...</td>\n",
              "      <td>...</td>\n",
              "      <td>...</td>\n",
              "    </tr>\n",
              "    <tr>\n",
              "      <th>66362</th>\n",
              "      <td>2022-10-01</td>\n",
              "      <td>5770121536926384420</td>\n",
              "      <td>37655510</td>\n",
              "    </tr>\n",
              "    <tr>\n",
              "      <th>66363</th>\n",
              "      <td>2022-10-01</td>\n",
              "      <td>5764944333987119336</td>\n",
              "      <td>37655510</td>\n",
              "    </tr>\n",
              "    <tr>\n",
              "      <th>66364</th>\n",
              "      <td>2022-10-01</td>\n",
              "      <td>5761231597532086305</td>\n",
              "      <td>37655510</td>\n",
              "    </tr>\n",
              "    <tr>\n",
              "      <th>66365</th>\n",
              "      <td>2022-10-01</td>\n",
              "      <td>5766495183310946668</td>\n",
              "      <td>37655510</td>\n",
              "    </tr>\n",
              "    <tr>\n",
              "      <th>66366</th>\n",
              "      <td>2022-10-02</td>\n",
              "      <td>5794688275456983119</td>\n",
              "      <td>37655510</td>\n",
              "    </tr>\n",
              "  </tbody>\n",
              "</table>\n",
              "<p>66367 rows × 3 columns</p>\n",
              "</div>\n",
              "      <button class=\"colab-df-convert\" onclick=\"convertToInteractive('df-97a1edbf-76a5-4528-b334-91382b5f5c30')\"\n",
              "              title=\"Convert this dataframe to an interactive table.\"\n",
              "              style=\"display:none;\">\n",
              "        \n",
              "  <svg xmlns=\"http://www.w3.org/2000/svg\" height=\"24px\"viewBox=\"0 0 24 24\"\n",
              "       width=\"24px\">\n",
              "    <path d=\"M0 0h24v24H0V0z\" fill=\"none\"/>\n",
              "    <path d=\"M18.56 5.44l.94 2.06.94-2.06 2.06-.94-2.06-.94-.94-2.06-.94 2.06-2.06.94zm-11 1L8.5 8.5l.94-2.06 2.06-.94-2.06-.94L8.5 2.5l-.94 2.06-2.06.94zm10 10l.94 2.06.94-2.06 2.06-.94-2.06-.94-.94-2.06-.94 2.06-2.06.94z\"/><path d=\"M17.41 7.96l-1.37-1.37c-.4-.4-.92-.59-1.43-.59-.52 0-1.04.2-1.43.59L10.3 9.45l-7.72 7.72c-.78.78-.78 2.05 0 2.83L4 21.41c.39.39.9.59 1.41.59.51 0 1.02-.2 1.41-.59l7.78-7.78 2.81-2.81c.8-.78.8-2.07 0-2.86zM5.41 20L4 18.59l7.72-7.72 1.47 1.35L5.41 20z\"/>\n",
              "  </svg>\n",
              "      </button>\n",
              "      \n",
              "  <style>\n",
              "    .colab-df-container {\n",
              "      display:flex;\n",
              "      flex-wrap:wrap;\n",
              "      gap: 12px;\n",
              "    }\n",
              "\n",
              "    .colab-df-convert {\n",
              "      background-color: #E8F0FE;\n",
              "      border: none;\n",
              "      border-radius: 50%;\n",
              "      cursor: pointer;\n",
              "      display: none;\n",
              "      fill: #1967D2;\n",
              "      height: 32px;\n",
              "      padding: 0 0 0 0;\n",
              "      width: 32px;\n",
              "    }\n",
              "\n",
              "    .colab-df-convert:hover {\n",
              "      background-color: #E2EBFA;\n",
              "      box-shadow: 0px 1px 2px rgba(60, 64, 67, 0.3), 0px 1px 3px 1px rgba(60, 64, 67, 0.15);\n",
              "      fill: #174EA6;\n",
              "    }\n",
              "\n",
              "    [theme=dark] .colab-df-convert {\n",
              "      background-color: #3B4455;\n",
              "      fill: #D2E3FC;\n",
              "    }\n",
              "\n",
              "    [theme=dark] .colab-df-convert:hover {\n",
              "      background-color: #434B5C;\n",
              "      box-shadow: 0px 1px 3px 1px rgba(0, 0, 0, 0.15);\n",
              "      filter: drop-shadow(0px 1px 2px rgba(0, 0, 0, 0.3));\n",
              "      fill: #FFFFFF;\n",
              "    }\n",
              "  </style>\n",
              "\n",
              "      <script>\n",
              "        const buttonEl =\n",
              "          document.querySelector('#df-97a1edbf-76a5-4528-b334-91382b5f5c30 button.colab-df-convert');\n",
              "        buttonEl.style.display =\n",
              "          google.colab.kernel.accessAllowed ? 'block' : 'none';\n",
              "\n",
              "        async function convertToInteractive(key) {\n",
              "          const element = document.querySelector('#df-97a1edbf-76a5-4528-b334-91382b5f5c30');\n",
              "          const dataTable =\n",
              "            await google.colab.kernel.invokeFunction('convertToInteractive',\n",
              "                                                     [key], {});\n",
              "          if (!dataTable) return;\n",
              "\n",
              "          const docLinkHtml = 'Like what you see? Visit the ' +\n",
              "            '<a target=\"_blank\" href=https://colab.research.google.com/notebooks/data_table.ipynb>data table notebook</a>'\n",
              "            + ' to learn more about interactive tables.';\n",
              "          element.innerHTML = '';\n",
              "          dataTable['output_type'] = 'display_data';\n",
              "          await google.colab.output.renderOutput(dataTable, element);\n",
              "          const docLink = document.createElement('div');\n",
              "          docLink.innerHTML = docLinkHtml;\n",
              "          element.appendChild(docLink);\n",
              "        }\n",
              "      </script>\n",
              "    </div>\n",
              "  </div>\n",
              "  "
            ]
          },
          "metadata": {},
          "execution_count": 21
        }
      ]
    }
  ],
  "nbformat": 4,
  "nbformat_minor": 0,
  "metadata": {
    "deepnote": {},
    "orig_nbformat": 2,
    "deepnote_notebook_id": "c7c3284201ef47f598a6a2d6aa829ecd",
    "deepnote_execution_queue": [],
    "deepnote_persisted_session": {
      "createdAt": "2022-11-17T05:32:49.150Z"
    },
    "colab": {
      "provenance": []
    },
    "language_info": {
      "name": "python"
    },
    "kernelspec": {
      "name": "python3",
      "display_name": "Python 3"
    },
    "gpuClass": "standard"
  }
}