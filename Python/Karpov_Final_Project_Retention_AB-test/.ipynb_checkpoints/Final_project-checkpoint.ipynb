{
 "cells": [
  {
   "cell_type": "code",
   "execution_count": 55,
   "id": "d56d9e1e",
   "metadata": {},
   "outputs": [],
   "source": [
    "#импортируем библиотеки\n",
    "\n",
    "import numpy as np\n",
    "import pandas as pd\n",
    "from scipy.stats import norm, mannwhitneyu\n",
    "import matplotlib.pyplot as plt\n",
    "import seaborn as sns\n",
    "from datetime import datetime, timedelta\n",
    "import scipy as sp\n",
    "from scipy import stats"
   ]
  },
  {
   "cell_type": "code",
   "execution_count": 22,
   "id": "b5c259a0",
   "metadata": {},
   "outputs": [],
   "source": [
    "#Функция retention\n",
    "\n",
    "def retention(reg_data, auth_data, cohort_min_size):\n",
    "    \n",
    "    # Загрузим и обработаем таблицы с данными по регистрациям, добавим столбец с датой начала недели, для расчета retention по неделям\n",
    "    df_reg = pd.read_csv(reg_data, sep=';').drop_duplicates()\n",
    "    df_reg['reg_ts'] =df_reg['reg_ts'].apply(lambda x: datetime.fromtimestamp(x)\\\n",
    "                                                               .strftime('%Y-%m-%d'))\n",
    "    df_reg['reg_start_of_week'] = df_reg.reg_ts.apply(lambda x: datetime.strptime(x, '%Y-%m-%d') - timedelta(days=datetime.strptime(x, '%Y-%m-%d').weekday()))\n",
    "    \n",
    "    \n",
    "    # Загрузим и обработем таблицы с данными по авторизациям, добавим столбец с датой начала недели, для расчета retention по неделям\n",
    "    df_auth = pd.read_csv(auth_data, sep=';').drop_duplicates()\n",
    "    df_auth['auth_ts'] =df_auth['auth_ts'].apply(lambda x: datetime.fromtimestamp(x)\\\n",
    "                                                                   .strftime('%Y-%m-%d'))                                                                   \n",
    "    df_auth['auth_start_of_week'] = df_auth.auth_ts.apply(lambda x: datetime.strptime(x, '%Y-%m-%d') - timedelta(days=datetime.strptime(x, '%Y-%m-%d').weekday()))\n",
    "    \n",
    "    # Мерджим таблицы с датами регистрации и авторизации в одну\n",
    "    auth_reg = df_reg.merge(df_auth, how = 'left', on = 'uid')\\\n",
    "                     .rename(columns = {'reg_ts':'reg_time', 'auth_ts':'auth_time'})\\\n",
    "                     .sort_values(['uid','auth_time'])\n",
    "    \n",
    "    # Создаем ДФ с размером когорт\n",
    "    cohort_base = auth_reg.groupby('reg_time', as_index=False)\\\n",
    "                          .agg({'uid':'count'})\\\n",
    "                          .rename(columns={'uid':'cohort_base'})\n",
    "    \n",
    "    # Мерджим размеры когорт с ДФ, соедржащим начала недель регистрации и авторизации\n",
    "    all_data = auth_reg.merge(cohort_base, how = 'left', on='reg_time' )\n",
    "    \n",
    "    # Оставляем для анализа только те когорты, размер которых не меньше заданного нами значения\n",
    "    all_data_shaped = all_data.loc[all_data['cohort_base']>=cohort_min_size]\n",
    "    \n",
    "    # Найдем разницу в количестве недель между неделей авторизации и неделей установки\n",
    "    all_data_shaped['time_diff'] = ((all_data_shaped['auth_start_of_week'] - all_data_shaped['reg_start_of_week'])/7).dt.days\n",
    "    \n",
    "    # Найдем для каждой комбинации 'reg_time','time_diff','cohort_base' текущий размер когорты\n",
    "    cohort_size = all_data_shaped.groupby(['reg_time','time_diff','cohort_base'], as_index=False)\\\n",
    "                                 .agg(cohort_size=('uid','count'))\n",
    "    \n",
    "    # Присвоим нулевой неделе в качестве размера когорты базу когорты \n",
    "    cohort_size['cohort_size'] = np.where(cohort_size['time_diff']==0, cohort_size['cohort_base'], cohort_size['cohort_size'])\n",
    "    \n",
    "    # Находим значение retention когорт\n",
    "    cohort_size['retention'] = round(cohort_size['cohort_size']/cohort_size['cohort_base']*100 , 2)\n",
    "    \n",
    "    # Выводим retention когорт в удобном для воспрития виде\n",
    "    retention = cohort_size.pivot(index='reg_time', columns = 'time_diff', values='retention')\n",
    "    \n",
    "    return retention"
   ]
  },
  {
   "cell_type": "code",
   "execution_count": 23,
   "id": "a4ab238f",
   "metadata": {},
   "outputs": [],
   "source": [
    "# Вводим параметры для расчета retention\n",
    "\n",
    "reg_data = 'problem1-reg_data.csv'\n",
    "\n",
    "auth_data = 'problem1-auth_data.csv'\n",
    "\n",
    "cohort_min_size = 1000"
   ]
  },
  {
   "cell_type": "code",
   "execution_count": 25,
   "id": "ac97737d",
   "metadata": {},
   "outputs": [
    {
     "name": "stderr",
     "output_type": "stream",
     "text": [
      "C:\\Users\\repin\\AppData\\Local\\Temp\\ipykernel_13864\\3083980809.py:33: SettingWithCopyWarning: \n",
      "A value is trying to be set on a copy of a slice from a DataFrame.\n",
      "Try using .loc[row_indexer,col_indexer] = value instead\n",
      "\n",
      "See the caveats in the documentation: https://pandas.pydata.org/pandas-docs/stable/user_guide/indexing.html#returning-a-view-versus-a-copy\n",
      "  all_data_shaped['time_diff'] = ((all_data_shaped['auth_start_of_week'] - all_data_shaped['reg_start_of_week'])/7).dt.days\n"
     ]
    }
   ],
   "source": [
    "# Находим retention используя ранее составленную функцию\n",
    "\n",
    "retention_1000 = retention(reg_data, auth_data, cohort_min_size)"
   ]
  },
  {
   "cell_type": "code",
   "execution_count": 27,
   "id": "552fa5ee",
   "metadata": {},
   "outputs": [
    {
     "data": {
      "text/html": [
       "<div>\n",
       "<style scoped>\n",
       "    .dataframe tbody tr th:only-of-type {\n",
       "        vertical-align: middle;\n",
       "    }\n",
       "\n",
       "    .dataframe tbody tr th {\n",
       "        vertical-align: top;\n",
       "    }\n",
       "\n",
       "    .dataframe thead th {\n",
       "        text-align: right;\n",
       "    }\n",
       "</style>\n",
       "<table border=\"1\" class=\"dataframe\">\n",
       "  <thead>\n",
       "    <tr style=\"text-align: right;\">\n",
       "      <th>time_diff</th>\n",
       "      <th>0</th>\n",
       "      <th>1</th>\n",
       "      <th>2</th>\n",
       "      <th>3</th>\n",
       "      <th>4</th>\n",
       "      <th>5</th>\n",
       "      <th>6</th>\n",
       "      <th>7</th>\n",
       "      <th>8</th>\n",
       "      <th>9</th>\n",
       "      <th>...</th>\n",
       "      <th>1095</th>\n",
       "      <th>1096</th>\n",
       "      <th>1097</th>\n",
       "      <th>1098</th>\n",
       "      <th>1099</th>\n",
       "      <th>1100</th>\n",
       "      <th>1101</th>\n",
       "      <th>1102</th>\n",
       "      <th>1103</th>\n",
       "      <th>1104</th>\n",
       "    </tr>\n",
       "    <tr>\n",
       "      <th>reg_time</th>\n",
       "      <th></th>\n",
       "      <th></th>\n",
       "      <th></th>\n",
       "      <th></th>\n",
       "      <th></th>\n",
       "      <th></th>\n",
       "      <th></th>\n",
       "      <th></th>\n",
       "      <th></th>\n",
       "      <th></th>\n",
       "      <th></th>\n",
       "      <th></th>\n",
       "      <th></th>\n",
       "      <th></th>\n",
       "      <th></th>\n",
       "      <th></th>\n",
       "      <th></th>\n",
       "      <th></th>\n",
       "      <th></th>\n",
       "      <th></th>\n",
       "      <th></th>\n",
       "    </tr>\n",
       "  </thead>\n",
       "  <tbody>\n",
       "    <tr>\n",
       "      <th>2020-07-12</th>\n",
       "      <td>100.0</td>\n",
       "      <td>11.80</td>\n",
       "      <td>12.89</td>\n",
       "      <td>9.85</td>\n",
       "      <td>8.06</td>\n",
       "      <td>6.26</td>\n",
       "      <td>4.72</td>\n",
       "      <td>3.43</td>\n",
       "      <td>3.46</td>\n",
       "      <td>3.30</td>\n",
       "      <td>...</td>\n",
       "      <td>NaN</td>\n",
       "      <td>NaN</td>\n",
       "      <td>NaN</td>\n",
       "      <td>NaN</td>\n",
       "      <td>NaN</td>\n",
       "      <td>NaN</td>\n",
       "      <td>NaN</td>\n",
       "      <td>NaN</td>\n",
       "      <td>NaN</td>\n",
       "      <td>NaN</td>\n",
       "    </tr>\n",
       "    <tr>\n",
       "      <th>2020-06-29</th>\n",
       "      <td>100.0</td>\n",
       "      <td>11.72</td>\n",
       "      <td>10.10</td>\n",
       "      <td>8.16</td>\n",
       "      <td>6.50</td>\n",
       "      <td>4.43</td>\n",
       "      <td>3.52</td>\n",
       "      <td>3.15</td>\n",
       "      <td>3.23</td>\n",
       "      <td>2.90</td>\n",
       "      <td>...</td>\n",
       "      <td>NaN</td>\n",
       "      <td>NaN</td>\n",
       "      <td>NaN</td>\n",
       "      <td>NaN</td>\n",
       "      <td>NaN</td>\n",
       "      <td>NaN</td>\n",
       "      <td>NaN</td>\n",
       "      <td>NaN</td>\n",
       "      <td>NaN</td>\n",
       "      <td>NaN</td>\n",
       "    </tr>\n",
       "    <tr>\n",
       "      <th>2020-07-09</th>\n",
       "      <td>100.0</td>\n",
       "      <td>12.65</td>\n",
       "      <td>11.51</td>\n",
       "      <td>8.97</td>\n",
       "      <td>7.25</td>\n",
       "      <td>5.35</td>\n",
       "      <td>3.52</td>\n",
       "      <td>3.44</td>\n",
       "      <td>3.06</td>\n",
       "      <td>3.35</td>\n",
       "      <td>...</td>\n",
       "      <td>NaN</td>\n",
       "      <td>NaN</td>\n",
       "      <td>NaN</td>\n",
       "      <td>NaN</td>\n",
       "      <td>NaN</td>\n",
       "      <td>NaN</td>\n",
       "      <td>NaN</td>\n",
       "      <td>NaN</td>\n",
       "      <td>NaN</td>\n",
       "      <td>NaN</td>\n",
       "    </tr>\n",
       "    <tr>\n",
       "      <th>2020-06-27</th>\n",
       "      <td>100.0</td>\n",
       "      <td>10.92</td>\n",
       "      <td>10.55</td>\n",
       "      <td>9.32</td>\n",
       "      <td>7.33</td>\n",
       "      <td>5.61</td>\n",
       "      <td>3.78</td>\n",
       "      <td>3.25</td>\n",
       "      <td>2.93</td>\n",
       "      <td>3.04</td>\n",
       "      <td>...</td>\n",
       "      <td>NaN</td>\n",
       "      <td>NaN</td>\n",
       "      <td>NaN</td>\n",
       "      <td>NaN</td>\n",
       "      <td>NaN</td>\n",
       "      <td>NaN</td>\n",
       "      <td>NaN</td>\n",
       "      <td>NaN</td>\n",
       "      <td>NaN</td>\n",
       "      <td>NaN</td>\n",
       "    </tr>\n",
       "    <tr>\n",
       "      <th>2020-07-01</th>\n",
       "      <td>100.0</td>\n",
       "      <td>12.73</td>\n",
       "      <td>11.18</td>\n",
       "      <td>8.26</td>\n",
       "      <td>6.93</td>\n",
       "      <td>5.11</td>\n",
       "      <td>3.36</td>\n",
       "      <td>2.74</td>\n",
       "      <td>2.94</td>\n",
       "      <td>2.97</td>\n",
       "      <td>...</td>\n",
       "      <td>NaN</td>\n",
       "      <td>NaN</td>\n",
       "      <td>NaN</td>\n",
       "      <td>NaN</td>\n",
       "      <td>NaN</td>\n",
       "      <td>NaN</td>\n",
       "      <td>NaN</td>\n",
       "      <td>NaN</td>\n",
       "      <td>NaN</td>\n",
       "      <td>NaN</td>\n",
       "    </tr>\n",
       "    <tr>\n",
       "      <th>...</th>\n",
       "      <td>...</td>\n",
       "      <td>...</td>\n",
       "      <td>...</td>\n",
       "      <td>...</td>\n",
       "      <td>...</td>\n",
       "      <td>...</td>\n",
       "      <td>...</td>\n",
       "      <td>...</td>\n",
       "      <td>...</td>\n",
       "      <td>...</td>\n",
       "      <td>...</td>\n",
       "      <td>...</td>\n",
       "      <td>...</td>\n",
       "      <td>...</td>\n",
       "      <td>...</td>\n",
       "      <td>...</td>\n",
       "      <td>...</td>\n",
       "      <td>...</td>\n",
       "      <td>...</td>\n",
       "      <td>...</td>\n",
       "      <td>...</td>\n",
       "    </tr>\n",
       "    <tr>\n",
       "      <th>2020-09-19</th>\n",
       "      <td>100.0</td>\n",
       "      <td>10.88</td>\n",
       "      <td>NaN</td>\n",
       "      <td>NaN</td>\n",
       "      <td>NaN</td>\n",
       "      <td>NaN</td>\n",
       "      <td>NaN</td>\n",
       "      <td>NaN</td>\n",
       "      <td>NaN</td>\n",
       "      <td>NaN</td>\n",
       "      <td>...</td>\n",
       "      <td>NaN</td>\n",
       "      <td>NaN</td>\n",
       "      <td>NaN</td>\n",
       "      <td>NaN</td>\n",
       "      <td>NaN</td>\n",
       "      <td>NaN</td>\n",
       "      <td>NaN</td>\n",
       "      <td>NaN</td>\n",
       "      <td>NaN</td>\n",
       "      <td>NaN</td>\n",
       "    </tr>\n",
       "    <tr>\n",
       "      <th>2020-09-20</th>\n",
       "      <td>100.0</td>\n",
       "      <td>9.21</td>\n",
       "      <td>NaN</td>\n",
       "      <td>NaN</td>\n",
       "      <td>NaN</td>\n",
       "      <td>NaN</td>\n",
       "      <td>NaN</td>\n",
       "      <td>NaN</td>\n",
       "      <td>NaN</td>\n",
       "      <td>NaN</td>\n",
       "      <td>...</td>\n",
       "      <td>NaN</td>\n",
       "      <td>NaN</td>\n",
       "      <td>NaN</td>\n",
       "      <td>NaN</td>\n",
       "      <td>NaN</td>\n",
       "      <td>NaN</td>\n",
       "      <td>NaN</td>\n",
       "      <td>NaN</td>\n",
       "      <td>NaN</td>\n",
       "      <td>NaN</td>\n",
       "    </tr>\n",
       "    <tr>\n",
       "      <th>2020-09-21</th>\n",
       "      <td>100.0</td>\n",
       "      <td>NaN</td>\n",
       "      <td>NaN</td>\n",
       "      <td>NaN</td>\n",
       "      <td>NaN</td>\n",
       "      <td>NaN</td>\n",
       "      <td>NaN</td>\n",
       "      <td>NaN</td>\n",
       "      <td>NaN</td>\n",
       "      <td>NaN</td>\n",
       "      <td>...</td>\n",
       "      <td>NaN</td>\n",
       "      <td>NaN</td>\n",
       "      <td>NaN</td>\n",
       "      <td>NaN</td>\n",
       "      <td>NaN</td>\n",
       "      <td>NaN</td>\n",
       "      <td>NaN</td>\n",
       "      <td>NaN</td>\n",
       "      <td>NaN</td>\n",
       "      <td>NaN</td>\n",
       "    </tr>\n",
       "    <tr>\n",
       "      <th>2020-09-22</th>\n",
       "      <td>100.0</td>\n",
       "      <td>NaN</td>\n",
       "      <td>NaN</td>\n",
       "      <td>NaN</td>\n",
       "      <td>NaN</td>\n",
       "      <td>NaN</td>\n",
       "      <td>NaN</td>\n",
       "      <td>NaN</td>\n",
       "      <td>NaN</td>\n",
       "      <td>NaN</td>\n",
       "      <td>...</td>\n",
       "      <td>NaN</td>\n",
       "      <td>NaN</td>\n",
       "      <td>NaN</td>\n",
       "      <td>NaN</td>\n",
       "      <td>NaN</td>\n",
       "      <td>NaN</td>\n",
       "      <td>NaN</td>\n",
       "      <td>NaN</td>\n",
       "      <td>NaN</td>\n",
       "      <td>NaN</td>\n",
       "    </tr>\n",
       "    <tr>\n",
       "      <th>2020-09-23</th>\n",
       "      <td>100.0</td>\n",
       "      <td>NaN</td>\n",
       "      <td>NaN</td>\n",
       "      <td>NaN</td>\n",
       "      <td>NaN</td>\n",
       "      <td>NaN</td>\n",
       "      <td>NaN</td>\n",
       "      <td>NaN</td>\n",
       "      <td>NaN</td>\n",
       "      <td>NaN</td>\n",
       "      <td>...</td>\n",
       "      <td>NaN</td>\n",
       "      <td>NaN</td>\n",
       "      <td>NaN</td>\n",
       "      <td>NaN</td>\n",
       "      <td>NaN</td>\n",
       "      <td>NaN</td>\n",
       "      <td>NaN</td>\n",
       "      <td>NaN</td>\n",
       "      <td>NaN</td>\n",
       "      <td>NaN</td>\n",
       "    </tr>\n",
       "  </tbody>\n",
       "</table>\n",
       "<p>2479 rows × 1105 columns</p>\n",
       "</div>"
      ],
      "text/plain": [
       "time_diff    0      1      2     3     4     5     6     7     8     9     \\\n",
       "reg_time                                                                    \n",
       "2020-07-12  100.0  11.80  12.89  9.85  8.06  6.26  4.72  3.43  3.46  3.30   \n",
       "2020-06-29  100.0  11.72  10.10  8.16  6.50  4.43  3.52  3.15  3.23  2.90   \n",
       "2020-07-09  100.0  12.65  11.51  8.97  7.25  5.35  3.52  3.44  3.06  3.35   \n",
       "2020-06-27  100.0  10.92  10.55  9.32  7.33  5.61  3.78  3.25  2.93  3.04   \n",
       "2020-07-01  100.0  12.73  11.18  8.26  6.93  5.11  3.36  2.74  2.94  2.97   \n",
       "...           ...    ...    ...   ...   ...   ...   ...   ...   ...   ...   \n",
       "2020-09-19  100.0  10.88    NaN   NaN   NaN   NaN   NaN   NaN   NaN   NaN   \n",
       "2020-09-20  100.0   9.21    NaN   NaN   NaN   NaN   NaN   NaN   NaN   NaN   \n",
       "2020-09-21  100.0    NaN    NaN   NaN   NaN   NaN   NaN   NaN   NaN   NaN   \n",
       "2020-09-22  100.0    NaN    NaN   NaN   NaN   NaN   NaN   NaN   NaN   NaN   \n",
       "2020-09-23  100.0    NaN    NaN   NaN   NaN   NaN   NaN   NaN   NaN   NaN   \n",
       "\n",
       "time_diff   ...  1095  1096  1097  1098  1099  1100  1101  1102  1103  1104  \n",
       "reg_time    ...                                                              \n",
       "2020-07-12  ...   NaN   NaN   NaN   NaN   NaN   NaN   NaN   NaN   NaN   NaN  \n",
       "2020-06-29  ...   NaN   NaN   NaN   NaN   NaN   NaN   NaN   NaN   NaN   NaN  \n",
       "2020-07-09  ...   NaN   NaN   NaN   NaN   NaN   NaN   NaN   NaN   NaN   NaN  \n",
       "2020-06-27  ...   NaN   NaN   NaN   NaN   NaN   NaN   NaN   NaN   NaN   NaN  \n",
       "2020-07-01  ...   NaN   NaN   NaN   NaN   NaN   NaN   NaN   NaN   NaN   NaN  \n",
       "...         ...   ...   ...   ...   ...   ...   ...   ...   ...   ...   ...  \n",
       "2020-09-19  ...   NaN   NaN   NaN   NaN   NaN   NaN   NaN   NaN   NaN   NaN  \n",
       "2020-09-20  ...   NaN   NaN   NaN   NaN   NaN   NaN   NaN   NaN   NaN   NaN  \n",
       "2020-09-21  ...   NaN   NaN   NaN   NaN   NaN   NaN   NaN   NaN   NaN   NaN  \n",
       "2020-09-22  ...   NaN   NaN   NaN   NaN   NaN   NaN   NaN   NaN   NaN   NaN  \n",
       "2020-09-23  ...   NaN   NaN   NaN   NaN   NaN   NaN   NaN   NaN   NaN   NaN  \n",
       "\n",
       "[2479 rows x 1105 columns]"
      ]
     },
     "execution_count": 27,
     "metadata": {},
     "output_type": "execute_result"
    }
   ],
   "source": [
    "# Сортировка по показетелю retention для конкретной недели\n",
    "retention_1000.sort_values(10, ascending=False)"
   ]
  },
  {
   "cell_type": "markdown",
   "id": "a4066cc9",
   "metadata": {},
   "source": [
    "### Задание №2"
   ]
  },
  {
   "cell_type": "markdown",
   "id": "cd463b12",
   "metadata": {},
   "source": [
    "Имеются результаты A/B теста, в котором двум группам пользователей предлагались различные наборы акционных предложений. Известно, что ARPU в тестовой группе выше на 5%, чем в контрольной. При этом в контрольной группе 1928 игроков из 202103 оказались платящими, а в тестовой – 1805 из 202667.\n",
    "\n",
    "Какой набор предложений можно считать лучшим? Какие метрики стоит проанализировать для принятия правильного решения и как?"
   ]
  },
  {
   "cell_type": "markdown",
   "id": "1e435b0b",
   "metadata": {},
   "source": [
    "**Выберем следующие метрики для потенциального анализа:** ARPU, ARPPU, CR в оплату"
   ]
  },
  {
   "cell_type": "code",
   "execution_count": 3,
   "id": "26e0a66f",
   "metadata": {},
   "outputs": [
    {
     "data": {
      "text/html": [
       "<div>\n",
       "<style scoped>\n",
       "    .dataframe tbody tr th:only-of-type {\n",
       "        vertical-align: middle;\n",
       "    }\n",
       "\n",
       "    .dataframe tbody tr th {\n",
       "        vertical-align: top;\n",
       "    }\n",
       "\n",
       "    .dataframe thead th {\n",
       "        text-align: right;\n",
       "    }\n",
       "</style>\n",
       "<table border=\"1\" class=\"dataframe\">\n",
       "  <thead>\n",
       "    <tr style=\"text-align: right;\">\n",
       "      <th></th>\n",
       "      <th>user_id</th>\n",
       "      <th>revenue</th>\n",
       "      <th>testgroup</th>\n",
       "    </tr>\n",
       "  </thead>\n",
       "  <tbody>\n",
       "    <tr>\n",
       "      <th>0</th>\n",
       "      <td>1</td>\n",
       "      <td>0</td>\n",
       "      <td>b</td>\n",
       "    </tr>\n",
       "    <tr>\n",
       "      <th>1</th>\n",
       "      <td>2</td>\n",
       "      <td>0</td>\n",
       "      <td>a</td>\n",
       "    </tr>\n",
       "    <tr>\n",
       "      <th>2</th>\n",
       "      <td>3</td>\n",
       "      <td>0</td>\n",
       "      <td>a</td>\n",
       "    </tr>\n",
       "    <tr>\n",
       "      <th>3</th>\n",
       "      <td>4</td>\n",
       "      <td>0</td>\n",
       "      <td>b</td>\n",
       "    </tr>\n",
       "    <tr>\n",
       "      <th>4</th>\n",
       "      <td>5</td>\n",
       "      <td>0</td>\n",
       "      <td>b</td>\n",
       "    </tr>\n",
       "    <tr>\n",
       "      <th>...</th>\n",
       "      <td>...</td>\n",
       "      <td>...</td>\n",
       "      <td>...</td>\n",
       "    </tr>\n",
       "    <tr>\n",
       "      <th>404765</th>\n",
       "      <td>404766</td>\n",
       "      <td>0</td>\n",
       "      <td>a</td>\n",
       "    </tr>\n",
       "    <tr>\n",
       "      <th>404766</th>\n",
       "      <td>404767</td>\n",
       "      <td>0</td>\n",
       "      <td>b</td>\n",
       "    </tr>\n",
       "    <tr>\n",
       "      <th>404767</th>\n",
       "      <td>404768</td>\n",
       "      <td>231</td>\n",
       "      <td>a</td>\n",
       "    </tr>\n",
       "    <tr>\n",
       "      <th>404768</th>\n",
       "      <td>404769</td>\n",
       "      <td>0</td>\n",
       "      <td>a</td>\n",
       "    </tr>\n",
       "    <tr>\n",
       "      <th>404769</th>\n",
       "      <td>404770</td>\n",
       "      <td>0</td>\n",
       "      <td>b</td>\n",
       "    </tr>\n",
       "  </tbody>\n",
       "</table>\n",
       "<p>404770 rows × 3 columns</p>\n",
       "</div>"
      ],
      "text/plain": [
       "        user_id  revenue testgroup\n",
       "0             1        0         b\n",
       "1             2        0         a\n",
       "2             3        0         a\n",
       "3             4        0         b\n",
       "4             5        0         b\n",
       "...         ...      ...       ...\n",
       "404765   404766        0         a\n",
       "404766   404767        0         b\n",
       "404767   404768      231         a\n",
       "404768   404769        0         a\n",
       "404769   404770        0         b\n",
       "\n",
       "[404770 rows x 3 columns]"
      ]
     },
     "execution_count": 3,
     "metadata": {},
     "output_type": "execute_result"
    }
   ],
   "source": [
    "df=pd.read_csv('Проект_1_Задание_2.csv', sep=';')\n",
    "df"
   ]
  },
  {
   "cell_type": "code",
   "execution_count": 4,
   "id": "5e530674",
   "metadata": {},
   "outputs": [
    {
     "data": {
      "text/html": [
       "<div>\n",
       "<style scoped>\n",
       "    .dataframe tbody tr th:only-of-type {\n",
       "        vertical-align: middle;\n",
       "    }\n",
       "\n",
       "    .dataframe tbody tr th {\n",
       "        vertical-align: top;\n",
       "    }\n",
       "\n",
       "    .dataframe thead th {\n",
       "        text-align: right;\n",
       "    }\n",
       "</style>\n",
       "<table border=\"1\" class=\"dataframe\">\n",
       "  <thead>\n",
       "    <tr style=\"text-align: right;\">\n",
       "      <th></th>\n",
       "      <th>user_id</th>\n",
       "      <th>revenue</th>\n",
       "      <th>testgroup</th>\n",
       "    </tr>\n",
       "  </thead>\n",
       "  <tbody>\n",
       "    <tr>\n",
       "      <th>0</th>\n",
       "      <td>1</td>\n",
       "      <td>0</td>\n",
       "      <td>b</td>\n",
       "    </tr>\n",
       "    <tr>\n",
       "      <th>1</th>\n",
       "      <td>2</td>\n",
       "      <td>0</td>\n",
       "      <td>a</td>\n",
       "    </tr>\n",
       "    <tr>\n",
       "      <th>2</th>\n",
       "      <td>3</td>\n",
       "      <td>0</td>\n",
       "      <td>a</td>\n",
       "    </tr>\n",
       "    <tr>\n",
       "      <th>3</th>\n",
       "      <td>4</td>\n",
       "      <td>0</td>\n",
       "      <td>b</td>\n",
       "    </tr>\n",
       "    <tr>\n",
       "      <th>4</th>\n",
       "      <td>5</td>\n",
       "      <td>0</td>\n",
       "      <td>b</td>\n",
       "    </tr>\n",
       "    <tr>\n",
       "      <th>...</th>\n",
       "      <td>...</td>\n",
       "      <td>...</td>\n",
       "      <td>...</td>\n",
       "    </tr>\n",
       "    <tr>\n",
       "      <th>404765</th>\n",
       "      <td>404766</td>\n",
       "      <td>0</td>\n",
       "      <td>a</td>\n",
       "    </tr>\n",
       "    <tr>\n",
       "      <th>404766</th>\n",
       "      <td>404767</td>\n",
       "      <td>0</td>\n",
       "      <td>b</td>\n",
       "    </tr>\n",
       "    <tr>\n",
       "      <th>404767</th>\n",
       "      <td>404768</td>\n",
       "      <td>231</td>\n",
       "      <td>a</td>\n",
       "    </tr>\n",
       "    <tr>\n",
       "      <th>404768</th>\n",
       "      <td>404769</td>\n",
       "      <td>0</td>\n",
       "      <td>a</td>\n",
       "    </tr>\n",
       "    <tr>\n",
       "      <th>404769</th>\n",
       "      <td>404770</td>\n",
       "      <td>0</td>\n",
       "      <td>b</td>\n",
       "    </tr>\n",
       "  </tbody>\n",
       "</table>\n",
       "<p>404770 rows × 3 columns</p>\n",
       "</div>"
      ],
      "text/plain": [
       "        user_id  revenue testgroup\n",
       "0             1        0         b\n",
       "1             2        0         a\n",
       "2             3        0         a\n",
       "3             4        0         b\n",
       "4             5        0         b\n",
       "...         ...      ...       ...\n",
       "404765   404766        0         a\n",
       "404766   404767        0         b\n",
       "404767   404768      231         a\n",
       "404768   404769        0         a\n",
       "404769   404770        0         b\n",
       "\n",
       "[404770 rows x 3 columns]"
      ]
     },
     "execution_count": 4,
     "metadata": {},
     "output_type": "execute_result"
    }
   ],
   "source": [
    "# Убираем дуюликаты при их наличии\n",
    "\n",
    "df.drop_duplicates()"
   ]
  },
  {
   "cell_type": "code",
   "execution_count": 5,
   "id": "8b77c363",
   "metadata": {},
   "outputs": [
    {
     "data": {
      "text/html": [
       "<div>\n",
       "<style scoped>\n",
       "    .dataframe tbody tr th:only-of-type {\n",
       "        vertical-align: middle;\n",
       "    }\n",
       "\n",
       "    .dataframe tbody tr th {\n",
       "        vertical-align: top;\n",
       "    }\n",
       "\n",
       "    .dataframe thead th {\n",
       "        text-align: right;\n",
       "    }\n",
       "</style>\n",
       "<table border=\"1\" class=\"dataframe\">\n",
       "  <thead>\n",
       "    <tr style=\"text-align: right;\">\n",
       "      <th></th>\n",
       "      <th>user_id</th>\n",
       "      <th>revenue</th>\n",
       "      <th>testgroup</th>\n",
       "      <th>CR</th>\n",
       "    </tr>\n",
       "  </thead>\n",
       "  <tbody>\n",
       "    <tr>\n",
       "      <th>0</th>\n",
       "      <td>1</td>\n",
       "      <td>0</td>\n",
       "      <td>b</td>\n",
       "      <td>0</td>\n",
       "    </tr>\n",
       "    <tr>\n",
       "      <th>1</th>\n",
       "      <td>2</td>\n",
       "      <td>0</td>\n",
       "      <td>a</td>\n",
       "      <td>0</td>\n",
       "    </tr>\n",
       "    <tr>\n",
       "      <th>2</th>\n",
       "      <td>3</td>\n",
       "      <td>0</td>\n",
       "      <td>a</td>\n",
       "      <td>0</td>\n",
       "    </tr>\n",
       "    <tr>\n",
       "      <th>3</th>\n",
       "      <td>4</td>\n",
       "      <td>0</td>\n",
       "      <td>b</td>\n",
       "      <td>0</td>\n",
       "    </tr>\n",
       "    <tr>\n",
       "      <th>4</th>\n",
       "      <td>5</td>\n",
       "      <td>0</td>\n",
       "      <td>b</td>\n",
       "      <td>0</td>\n",
       "    </tr>\n",
       "    <tr>\n",
       "      <th>...</th>\n",
       "      <td>...</td>\n",
       "      <td>...</td>\n",
       "      <td>...</td>\n",
       "      <td>...</td>\n",
       "    </tr>\n",
       "    <tr>\n",
       "      <th>404765</th>\n",
       "      <td>404766</td>\n",
       "      <td>0</td>\n",
       "      <td>a</td>\n",
       "      <td>0</td>\n",
       "    </tr>\n",
       "    <tr>\n",
       "      <th>404766</th>\n",
       "      <td>404767</td>\n",
       "      <td>0</td>\n",
       "      <td>b</td>\n",
       "      <td>0</td>\n",
       "    </tr>\n",
       "    <tr>\n",
       "      <th>404767</th>\n",
       "      <td>404768</td>\n",
       "      <td>231</td>\n",
       "      <td>a</td>\n",
       "      <td>1</td>\n",
       "    </tr>\n",
       "    <tr>\n",
       "      <th>404768</th>\n",
       "      <td>404769</td>\n",
       "      <td>0</td>\n",
       "      <td>a</td>\n",
       "      <td>0</td>\n",
       "    </tr>\n",
       "    <tr>\n",
       "      <th>404769</th>\n",
       "      <td>404770</td>\n",
       "      <td>0</td>\n",
       "      <td>b</td>\n",
       "      <td>0</td>\n",
       "    </tr>\n",
       "  </tbody>\n",
       "</table>\n",
       "<p>404770 rows × 4 columns</p>\n",
       "</div>"
      ],
      "text/plain": [
       "        user_id  revenue testgroup  CR\n",
       "0             1        0         b   0\n",
       "1             2        0         a   0\n",
       "2             3        0         a   0\n",
       "3             4        0         b   0\n",
       "4             5        0         b   0\n",
       "...         ...      ...       ...  ..\n",
       "404765   404766        0         a   0\n",
       "404766   404767        0         b   0\n",
       "404767   404768      231         a   1\n",
       "404768   404769        0         a   0\n",
       "404769   404770        0         b   0\n",
       "\n",
       "[404770 rows x 4 columns]"
      ]
     },
     "execution_count": 5,
     "metadata": {},
     "output_type": "execute_result"
    }
   ],
   "source": [
    "# Введем дополнительный параметр CR в покупку: если revenue > 0 , CR=1 ,иначе CR=0\n",
    "\n",
    "df['CR']=np.where(df['revenue'] > 0 , 1, 0)\n",
    "df"
   ]
  },
  {
   "cell_type": "code",
   "execution_count": 26,
   "id": "db3bb95e",
   "metadata": {},
   "outputs": [],
   "source": [
    "# Настройка графиков по умолчанию\n",
    "sns.set(\n",
    "    font_scale =1.5,\n",
    "    style      =\"whitegrid\",\n",
    "    rc         ={'figure.figsize':(10,10)}\n",
    ")"
   ]
  },
  {
   "cell_type": "code",
   "execution_count": 27,
   "id": "8d525c81",
   "metadata": {},
   "outputs": [
    {
     "data": {
      "image/png": "[encoded data removed]",
      "text/plain": [
       "<Figure size 720x720 with 1 Axes>"
      ]
     },
     "metadata": {},
     "output_type": "display_data"
    }
   ],
   "source": [
    "# Построим боксплот по имеющимся данным с разделением на группы\n",
    "\n",
    "ax = sns.boxplot(x = 'testgroup', y = 'revenue', data = df)"
   ]
  },
  {
   "cell_type": "code",
   "execution_count": 28,
   "id": "d0a56831",
   "metadata": {},
   "outputs": [
    {
     "data": {
      "image/png": "[encoded data removed]",
      "text/plain": [
       "<Figure size 720x720 with 1 Axes>"
      ]
     },
     "metadata": {},
     "output_type": "display_data"
    }
   ],
   "source": [
    "# Построим боксплот по имеющимся данным с разделением на группы и оставив ненулевые \n",
    "\n",
    "ax = sns.boxplot(x = 'testgroup', y = 'revenue', data = df.query('revenue>0'))"
   ]
  },
  {
   "cell_type": "markdown",
   "id": "88744f76",
   "metadata": {},
   "source": [
    "**Промежуточный вывод:** наблюдаем некоторое количество выбросов в группе \"а\" со значениями revenue больше 35 000, в группе \"b\" выбросов нет"
   ]
  },
  {
   "cell_type": "markdown",
   "id": "0990af29",
   "metadata": {},
   "source": [
    "Рассмотрим детальнее распределение значений в группе \"а\""
   ]
  },
  {
   "cell_type": "code",
   "execution_count": 32,
   "id": "640e1a66",
   "metadata": {},
   "outputs": [
    {
     "data": {
      "text/plain": [
       "(1928, 4)"
      ]
     },
     "execution_count": 32,
     "metadata": {},
     "output_type": "execute_result"
    }
   ],
   "source": [
    "# Количество ненулевых значений revenue в группе a\n",
    "\n",
    "df.query('revenue>0 and testgroup==\"a\"').shape"
   ]
  },
  {
   "cell_type": "code",
   "execution_count": 33,
   "id": "b79235db",
   "metadata": {},
   "outputs": [
    {
     "data": {
      "text/plain": [
       "(123, 4)"
      ]
     },
     "execution_count": 33,
     "metadata": {},
     "output_type": "execute_result"
    }
   ],
   "source": [
    "# Количество значений revenue в группе a, которые больше 35000\n",
    "\n",
    "df.query('revenue>35000 and testgroup==\"a\"').shape"
   ]
  },
  {
   "cell_type": "code",
   "execution_count": 35,
   "id": "102010cb",
   "metadata": {},
   "outputs": [
    {
     "data": {
      "text/plain": [
       "(0, 4)"
      ]
     },
     "execution_count": 35,
     "metadata": {},
     "output_type": "execute_result"
    }
   ],
   "source": [
    "# Количество значений revenue в группе a, которые больше 5000 и меньше 35000\n",
    "\n",
    "df.query('revenue<35000 and revenue>5000 and testgroup==\"a\"').shape"
   ]
  },
  {
   "cell_type": "code",
   "execution_count": 30,
   "id": "f30e4f85",
   "metadata": {},
   "outputs": [
    {
     "data": {
      "text/plain": [
       "0.90      393.30\n",
       "0.91      396.00\n",
       "0.92      397.00\n",
       "0.93      399.00\n",
       "0.94    37295.00\n",
       "0.95    37299.65\n",
       "Name: revenue, dtype: float64"
      ]
     },
     "execution_count": 30,
     "metadata": {},
     "output_type": "execute_result"
    }
   ],
   "source": [
    "# Найдем 90-95 перцентили, чтобы оценить  \n",
    "\n",
    "df.query('revenue>0 and testgroup==\"a\"').revenue.quantile(q=[0.90,0.91, 0.92, 0.93, 0.94, 0.95])"
   ]
  },
  {
   "cell_type": "markdown",
   "id": "27037172",
   "metadata": {},
   "source": [
    "**Промежуточные выводы по значениям группы \"a\":**\n",
    "\n",
    "- в группе \"а\" всего 1928 ненулевых значений revenue\n",
    "- из них 123 выброса со значением revenue более 35000\n",
    "- в промежутке между значениями revenue 5000 и 35000 нет ни одной точки\n",
    "- значениям revenue более 35000 соответствует 93 перцентиль "
   ]
  },
  {
   "cell_type": "markdown",
   "id": "38aed257",
   "metadata": {},
   "source": [
    "С учетом имеющихся данных невозможно однозначно объяснить природу найденных выбросов. Чтобы глубже проанализировать природу выбросыов необходимы детальные данные о сессиях пользователей с выбросами. В настощем задании с учетом того, что данных по сессиям пользователей нет, отбрасываем значения revenue более 35000. В противном случае они будут негативно влиять на оценку реального эффекта от тестируемых изменений.\n",
    "\n",
    "\n",
    "\n",
    "_________"
   ]
  },
  {
   "cell_type": "code",
   "execution_count": 46,
   "id": "3fb7b201",
   "metadata": {},
   "outputs": [],
   "source": [
    "df_cleared = df.query('(revenue <35000)')"
   ]
  },
  {
   "cell_type": "markdown",
   "id": "a4326b60",
   "metadata": {},
   "source": [
    "**ARPU**\n",
    "\n",
    "Оценим значение ARPU пользователей. \n",
    "\n",
    "ARPU = доход за период / количество пользователей за период\n",
    "\n",
    "**Нулевая гипотеза (H0):** Разницы между ARPU в тестовой и контрольной группе нет\n",
    "\n",
    "**Альтернативная гипотеза (H1):** Разница между ARPU в тестовой и контрольной группе есть\n",
    "\n",
    "____________________________________________"
   ]
  },
  {
   "cell_type": "markdown",
   "id": "da84c962",
   "metadata": {},
   "source": [
    "Строим боксплот по revenue для групп, чтобы оценить распределение значений без учета выбросов"
   ]
  },
  {
   "cell_type": "code",
   "execution_count": 47,
   "id": "aa439a2d",
   "metadata": {},
   "outputs": [
    {
     "data": {
      "image/png": "[encoded data removed]",
      "text/plain": [
       "<Figure size 720x720 with 1 Axes>"
      ]
     },
     "metadata": {},
     "output_type": "display_data"
    }
   ],
   "source": [
    "ax = sns.boxplot(x = 'testgroup', y = 'revenue', data = df_cleared)"
   ]
  },
  {
   "cell_type": "markdown",
   "id": "7a63e375",
   "metadata": {},
   "source": [
    "Строим распределение revenue для групп"
   ]
  },
  {
   "cell_type": "code",
   "execution_count": 48,
   "id": "e0c70556",
   "metadata": {},
   "outputs": [
    {
     "name": "stderr",
     "output_type": "stream",
     "text": [
      "C:\\Users\\repin\\AppData\\Local\\Programs\\Python\\Python310\\lib\\site-packages\\seaborn\\distributions.py:2619: FutureWarning: `distplot` is a deprecated function and will be removed in a future version. Please adapt your code to use either `displot` (a figure-level function with similar flexibility) or `histplot` (an axes-level function for histograms).\n",
      "  warnings.warn(msg, FutureWarning)\n"
     ]
    },
    {
     "data": {
      "text/plain": [
       "<AxesSubplot:xlabel='revenue'>"
      ]
     },
     "execution_count": 48,
     "metadata": {},
     "output_type": "execute_result"
    },
    {
     "data": {
      "image/png": "[encoded data removed]",
      "text/plain": [
       "<Figure size 720x720 with 1 Axes>"
      ]
     },
     "metadata": {},
     "output_type": "display_data"
    }
   ],
   "source": [
    "sns.distplot(df_cleared.query('testgroup == \"a\"').revenue, kde=False)\n",
    "sns.distplot(df_cleared.query('testgroup == \"b\"').revenue, kde=False)"
   ]
  },
  {
   "cell_type": "markdown",
   "id": "a8b34589",
   "metadata": {},
   "source": [
    "Очень много нулевых значений, попробуем отфильтровать их и построить распределение без них"
   ]
  },
  {
   "cell_type": "code",
   "execution_count": 49,
   "id": "f08f5eee",
   "metadata": {},
   "outputs": [
    {
     "data": {
      "text/plain": [
       "<AxesSubplot:xlabel='revenue'>"
      ]
     },
     "execution_count": 49,
     "metadata": {},
     "output_type": "execute_result"
    },
    {
     "data": {
      "image/png": "[encoded data removed]",
      "text/plain": [
       "<Figure size 720x720 with 1 Axes>"
      ]
     },
     "metadata": {},
     "output_type": "display_data"
    }
   ],
   "source": [
    "sns.distplot(df_cleared.query('revenue > 0 and testgroup == \"a\"').revenue, kde=False)\n",
    "sns.distplot(df_cleared.query('revenue > 0 and testgroup == \"b\"').revenue, kde=False)"
   ]
  },
  {
   "cell_type": "markdown",
   "id": "931119e4",
   "metadata": {},
   "source": [
    "Попробуем пролагорифмировать"
   ]
  },
  {
   "cell_type": "code",
   "execution_count": 58,
   "id": "913021e2",
   "metadata": {},
   "outputs": [
    {
     "data": {
      "text/plain": [
       "<AxesSubplot:xlabel='revenue'>"
      ]
     },
     "execution_count": 58,
     "metadata": {},
     "output_type": "execute_result"
    },
    {
     "data": {
      "image/png": "[encoded data removed]",
      "text/plain": [
       "<Figure size 720x720 with 1 Axes>"
      ]
     },
     "metadata": {},
     "output_type": "display_data"
    }
   ],
   "source": [
    "sns.distplot(np.log10(df_cleared.query('revenue > 0 and testgroup == \"a\"').revenue), kde=False)\n",
    "sns.distplot(np.log10(df_cleared.query('revenue > 0 and testgroup == \"b\"').revenue), kde=False)"
   ]
  },
  {
   "cell_type": "markdown",
   "id": "1837d2d1",
   "metadata": {},
   "source": [
    "**Промежуточные выводы:**\n",
    "\n",
    "1) Наблюдаются различия между группами, но для однозначности проверим одним из статистических методов\n",
    "\n",
    "2) Из графиков выше видим, что распределения ненулевой revenue в группах скорее всего не являются нормальными, дополнительно проверим это с помощью теста Шапиро-Уилка\n",
    "\n",
    "**Нулевая гипотеза (H0):** распределения значений revenue в группах \"a\" и \"b\" нормальные\n",
    "\n",
    "**Альтернативная гипотеза (H1):** распределения значений revenue в группах \"a\" и \"b\" не являются нормальными"
   ]
  },
  {
   "cell_type": "code",
   "execution_count": 86,
   "id": "55ca9950",
   "metadata": {},
   "outputs": [],
   "source": [
    "# Для большей точности теста возьмем только часть значений из групп\n",
    "\n",
    "a = df_cleared[df_cleared['testgroup'] == 'a']['revenue'].sample(1000, random_state=17)\n",
    "b = df_cleared[df_cleared['testgroup'] == 'b']['revenue'].sample(1000, random_state=17)"
   ]
  },
  {
   "cell_type": "code",
   "execution_count": 60,
   "id": "8989a710",
   "metadata": {},
   "outputs": [
    {
     "data": {
      "text/plain": [
       "ShapiroResult(statistic=0.09302335977554321, pvalue=0.0)"
      ]
     },
     "execution_count": 60,
     "metadata": {},
     "output_type": "execute_result"
    }
   ],
   "source": [
    "stats.shapiro(a)"
   ]
  },
  {
   "cell_type": "code",
   "execution_count": 61,
   "id": "f2111066",
   "metadata": {},
   "outputs": [
    {
     "data": {
      "text/plain": [
       "ShapiroResult(statistic=0.06715953350067139, pvalue=0.0)"
      ]
     },
     "execution_count": 61,
     "metadata": {},
     "output_type": "execute_result"
    }
   ],
   "source": [
    "stats.shapiro(b)"
   ]
  },
  {
   "cell_type": "markdown",
   "id": "b32adfe6",
   "metadata": {},
   "source": [
    "**Промежуточный вывод:** \n",
    "- распределения значений в группах \"a\" и \"b\" не являются нормальными, применить параметрические методы нельзя.\n",
    "- для оценки статистической значимости различий можно использовать непараметрический тест Манна-Уитни или бутстрэп\n",
    "\n",
    "В первую очередь попробуем бутстрэп"
   ]
  },
  {
   "cell_type": "code",
   "execution_count": 62,
   "id": "ef41ba2b",
   "metadata": {},
   "outputs": [
    {
     "name": "stderr",
     "output_type": "stream",
     "text": [
      "C:\\Users\\repin\\AppData\\Local\\Programs\\Python\\Python310\\lib\\site-packages\\tqdm\\auto.py:22: TqdmWarning: IProgress not found. Please update jupyter and ipywidgets. See https://ipywidgets.readthedocs.io/en/stable/user_install.html\n",
      "  from .autonotebook import tqdm as notebook_tqdm\n"
     ]
    }
   ],
   "source": [
    "from tqdm.auto import tqdm\n",
    "\n",
    "plt.style.use('ggplot')"
   ]
  },
  {
   "cell_type": "code",
   "execution_count": 63,
   "id": "1b2a3afb",
   "metadata": {},
   "outputs": [],
   "source": [
    "# Объявим функцию, которая позволит проверять гипотезы с помощью бутстрапа\n",
    "def get_bootstrap(\n",
    "    data_column_1, # числовые значения первой выборки\n",
    "    data_column_2, # числовые значения второй выборки\n",
    "    boot_it = 1000, # количество бутстрэп-подвыборок\n",
    "    statistic = np.mean, # интересующая нас статистика\n",
    "    bootstrap_conf_level = 0.95 # уровень значимости\n",
    "):\n",
    "    boot_len = max([len(data_column_1), len(data_column_2)])\n",
    "    boot_data = []\n",
    "    for i in tqdm(range(boot_it)): # извлекаем подвыборки\n",
    "        samples_1 = data_column_1.sample(\n",
    "            boot_len, \n",
    "            replace = True # параметр возвращения\n",
    "        ).values\n",
    "        \n",
    "        samples_2 = data_column_2.sample(\n",
    "            boot_len, \n",
    "            replace = True\n",
    "        ).values\n",
    "        \n",
    "        boot_data.append(statistic(samples_1-samples_2)) # mean() - применяем статистику\n",
    "        \n",
    "    pd_boot_data = pd.DataFrame(boot_data)\n",
    "        \n",
    "    left_quant = (1 - bootstrap_conf_level)/2\n",
    "    right_quant = 1 - (1 - bootstrap_conf_level) / 2\n",
    "    ci = pd_boot_data.quantile([left_quant, right_quant])\n",
    "        \n",
    "    p_1 = norm.cdf(\n",
    "        x = 0, \n",
    "        loc = np.mean(boot_data), \n",
    "        scale = np.std(boot_data)\n",
    "    )\n",
    "    p_2 = norm.cdf(\n",
    "        x = 0, \n",
    "        loc = -np.mean(boot_data), \n",
    "        scale = np.std(boot_data)\n",
    "    )\n",
    "    p_value = min(p_1, p_2) * 2\n",
    "        \n",
    "    # Визуализация\n",
    "    plt.hist(pd_boot_data[0], bins = 50)\n",
    "    \n",
    "    plt.style.use('ggplot')\n",
    "    plt.vlines(ci,ymin=0,ymax=50,linestyle='--')\n",
    "    plt.xlabel('boot_data')\n",
    "    plt.ylabel('frequency')\n",
    "    plt.title(\"Histogram of boot_data\")\n",
    "    plt.show()\n",
    "       \n",
    "    return {\"ci\": ci, \n",
    "            \"p_value\": p_value}"
   ]
  },
  {
   "cell_type": "code",
   "execution_count": 99,
   "id": "bb340ee8",
   "metadata": {},
   "outputs": [],
   "source": [
    "# Разобьем данные на группы\n",
    "\n",
    "a = df_cleared.query('testgroup==\"a\"').revenue\n",
    "b = df_cleared.query('testgroup==\"b\"').revenue"
   ]
  },
  {
   "cell_type": "code",
   "execution_count": 98,
   "id": "5cb968ce",
   "metadata": {},
   "outputs": [
    {
     "data": {
      "text/plain": [
       "Ttest_indResult(statistic=-37.42623596967759, pvalue=4.912187544972622e-306)"
      ]
     },
     "execution_count": 98,
     "metadata": {},
     "output_type": "execute_result"
    }
   ],
   "source": [
    "sp.stats.ttest_ind(a,b)"
   ]
  },
  {
   "cell_type": "code",
   "execution_count": 100,
   "id": "76ef2b62",
   "metadata": {},
   "outputs": [
    {
     "data": {
      "text/plain": [
       "MannwhitneyuResult(statistic=20466331335.0, pvalue=0.566215662784969)"
      ]
     },
     "execution_count": 100,
     "metadata": {},
     "output_type": "execute_result"
    }
   ],
   "source": [
    "sp.stats.mannwhitneyu(a,b,alternative='greater')"
   ]
  },
  {
   "cell_type": "code",
   "execution_count": 90,
   "id": "aa6d7a7d",
   "metadata": {},
   "outputs": [
    {
     "data": {
      "text/plain": [
       "8.897158218091864"
      ]
     },
     "execution_count": 90,
     "metadata": {},
     "output_type": "execute_result"
    }
   ],
   "source": [
    "# Предварительно оценим разницу ARPU в группах \n",
    "\n",
    "(b.mean() - a.mean())/a.mean()"
   ]
  },
  {
   "cell_type": "code",
   "execution_count": 93,
   "id": "a5ad5a9c",
   "metadata": {},
   "outputs": [
    {
     "name": "stderr",
     "output_type": "stream",
     "text": [
      "100%|██████████████████████████████████████████████████████████████████████████████| 1000/1000 [00:17<00:00, 57.27it/s]\n"
     ]
    },
    {
     "data": {
      "image/png": "[encoded data removed]",
      "text/plain": [
       "<Figure size 720x720 with 1 Axes>"
      ]
     },
     "metadata": {},
     "output_type": "display_data"
    },
    {
     "data": {
      "text/plain": [
       "{'ci':                0\n",
       " 0.025  22.932643\n",
       " 0.975  25.340013,\n",
       " 'p_value': 0.0}"
      ]
     },
     "execution_count": 93,
     "metadata": {},
     "output_type": "execute_result"
    }
   ],
   "source": [
    "get_bootstrap(\n",
    "    b, # числовые значения первой выборки\n",
    "    a, # числовые значения второй выборки\n",
    "    boot_it = 1000, # количество бутстрэп-подвыборок\n",
    "    statistic = np.mean, # интересующая нас статистика\n",
    "    bootstrap_conf_level = 0.95 # уровень значимости\n",
    ")"
   ]
  },
  {
   "cell_type": "code",
   "execution_count": 94,
   "id": "75207d9b",
   "metadata": {},
   "outputs": [],
   "source": [
    "a_df=df.query('testgroup==\"a\"').revenue\n",
    "b_df=df.query('testgroup==\"b\"').revenue"
   ]
  },
  {
   "cell_type": "code",
   "execution_count": 95,
   "id": "44f16437",
   "metadata": {},
   "outputs": [
    {
     "data": {
      "text/plain": [
       "MannwhitneyuResult(statistic=20491259376.0, pvalue=0.06269701316074398)"
      ]
     },
     "execution_count": 95,
     "metadata": {},
     "output_type": "execute_result"
    }
   ],
   "source": [
    "sp.stats.mannwhitneyu(a_df,b_df)"
   ]
  },
  {
   "cell_type": "code",
   "execution_count": null,
   "id": "8c015026",
   "metadata": {},
   "outputs": [],
   "source": []
  },
  {
   "cell_type": "code",
   "execution_count": null,
   "id": "d63c0037",
   "metadata": {},
   "outputs": [],
   "source": []
  },
  {
   "cell_type": "code",
   "execution_count": null,
   "id": "af4655f5",
   "metadata": {},
   "outputs": [],
   "source": []
  },
  {
   "cell_type": "markdown",
   "id": "1e0dff4a",
   "metadata": {},
   "source": [
    "**Промежуточный вывод:** p-value практически равно нулю, **отклоняем Н0**. С уверенностью в 95% можно сказать, что ARPU в группах статистически значимо отличается. В тестовой группе \"b\" ARPU значительно больше, чем в группе \"а\".\n",
    "________________________"
   ]
  },
  {
   "cell_type": "markdown",
   "id": "be115854",
   "metadata": {},
   "source": [
    "Рассмотрим полученный результат подробнее, оценив что оказывает влияние на рост ARPU: рост ARPPU или CR в покупку\n",
    "\n",
    "ARPPU = доход за период **/** количество платящих пользователей за период\n",
    "\n",
    "CR = количество платящих пользователей за период **/** количество пользователей за период\n",
    "_________________________________\n",
    "    \n",
    "**Первая группа гипотез:**\n",
    "\n",
    "\n",
    "**Нулевая гипотеза (H0):** Разницы между ARPPU в тестовой и контрольной группе нет\n",
    "\n",
    "**Альтернативная гипотеза (H1):** Разница между ARPPU в тестовой и контрольной группе есть\n",
    "\n",
    "_______________________________\n",
    "\n",
    "**Вторая группа гипотез:**\n",
    "\n",
    "**Нулевая гипотеза (H0):** Разницы между CR в тестовой и контрольной группе нет\n",
    "\n",
    "**Альтернативная гипотеза (H1):** Разница между CR в тестовой и контрольной группе есть\n"
   ]
  },
  {
   "cell_type": "markdown",
   "id": "437985f9",
   "metadata": {},
   "source": [
    "Оценим различия ARPPU групп с использование бутстрэпа"
   ]
  },
  {
   "cell_type": "code",
   "execution_count": 70,
   "id": "05c0bb33",
   "metadata": {},
   "outputs": [],
   "source": [
    "a_rev = df_cleared.query('testgroup==\"a\" and revenue>0').revenue\n",
    "b_rev = df_cleared.query('testgroup==\"b\" and revenue>0').revenue"
   ]
  },
  {
   "cell_type": "code",
   "execution_count": 71,
   "id": "e0123c90",
   "metadata": {},
   "outputs": [
    {
     "name": "stderr",
     "output_type": "stream",
     "text": [
      "100%|████████████████████████████████████████████████████████████████████████████| 1000/1000 [00:00<00:00, 2716.23it/s]\n"
     ]
    },
    {
     "data": {
      "image/png": "[encoded data removed]",
      "text/plain": [
       "<Figure size 720x720 with 1 Axes>"
      ]
     },
     "metadata": {},
     "output_type": "display_data"
    },
    {
     "data": {
      "text/plain": [
       "{'ci':                  0\n",
       " 0.025  2676.052008\n",
       " 0.975  2728.144709,\n",
       " 'p_value': 0.0}"
      ]
     },
     "execution_count": 71,
     "metadata": {},
     "output_type": "execute_result"
    }
   ],
   "source": [
    "get_bootstrap(\n",
    "    b_rev, # числовые значения первой выборки\n",
    "    a_rev, # числовые значения второй выборки\n",
    "    boot_it = 1000, # количество бутстрэп-подвыборок\n",
    "    statistic = np.mean, # интересующая нас статистика\n",
    "    bootstrap_conf_level = 0.95 # уровень значимости\n",
    ")"
   ]
  },
  {
   "cell_type": "code",
   "execution_count": 30,
   "id": "e76c7451",
   "metadata": {},
   "outputs": [
    {
     "name": "stderr",
     "output_type": "stream",
     "text": [
      "C:\\Users\\repin\\AppData\\Local\\Programs\\Python\\Python310\\lib\\site-packages\\tqdm\\auto.py:22: TqdmWarning: IProgress not found. Please update jupyter and ipywidgets. See https://ipywidgets.readthedocs.io/en/stable/user_install.html\n",
      "  from .autonotebook import tqdm as notebook_tqdm\n"
     ]
    }
   ],
   "source": []
  },
  {
   "cell_type": "code",
   "execution_count": 63,
   "id": "6b7f08aa",
   "metadata": {},
   "outputs": [
    {
     "name": "stderr",
     "output_type": "stream",
     "text": [
      "100%|████████████████████████████████████████████████████████████████████████████| 1000/1000 [00:00<00:00, 2594.14it/s]\n"
     ]
    },
    {
     "data": {
      "image/png": "[encoded data removed]",
      "text/plain": [
       "<Figure size 1440x1440 with 1 Axes>"
      ]
     },
     "metadata": {},
     "output_type": "display_data"
    },
    {
     "data": {
      "text/plain": [
       "{'ci':                  0\n",
       " 0.025 -2726.508837\n",
       " 0.975 -2675.289224,\n",
       " 'p_value': 0.0}"
      ]
     },
     "execution_count": 63,
     "metadata": {},
     "output_type": "execute_result"
    }
   ],
   "source": [
    "get_bootstrap(\n",
    "    a, # числовые значения первой выборки\n",
    "    b, # числовые значения второй выборки\n",
    "    boot_it = 1000, # количество бутстрэп-подвыборок\n",
    "    statistic = np.mean, # интересующая нас статистика\n",
    "    bootstrap_conf_level = 0.95 # уровень значимости\n",
    ")"
   ]
  },
  {
   "cell_type": "code",
   "execution_count": 48,
   "id": "2dfd4c54",
   "metadata": {},
   "outputs": [],
   "source": [
    "a_rev = df.query('testgroup==\"a\" and revenue > 0').revenue\n",
    "b_rev = df.query('testgroup==\"b\" and revenue > 0').revenue"
   ]
  },
  {
   "cell_type": "code",
   "execution_count": 49,
   "id": "6b5333c4",
   "metadata": {},
   "outputs": [
    {
     "name": "stderr",
     "output_type": "stream",
     "text": [
      "100%|████████████████████████████████████████████████████████████████████████████| 1000/1000 [00:00<00:00, 2516.30it/s]\n"
     ]
    },
    {
     "data": {
      "image/png": "[encoded data removed]",
      "text/plain": [
       "<Figure size 432x288 with 1 Axes>"
      ]
     },
     "metadata": {},
     "output_type": "display_data"
    },
    {
     "data": {
      "text/plain": [
       "{'ci':                 0\n",
       " 0.025 -736.125402\n",
       " 0.975   67.384634,\n",
       " 'p_value': 0.10151340611459132}"
      ]
     },
     "execution_count": 49,
     "metadata": {},
     "output_type": "execute_result"
    }
   ],
   "source": [
    "get_bootstrap(\n",
    "    a_rev, # числовые значения первой выборки\n",
    "    b_rev , # числовые значения второй выборки\n",
    "    boot_it = 1000, # количество бутстрэп-подвыборок\n",
    "    statistic = np.mean, # интересующая нас статистика\n",
    "    bootstrap_conf_level = 0.95 # уровень значимости\n",
    ")"
   ]
  },
  {
   "cell_type": "code",
   "execution_count": null,
   "id": "3e2e40dc",
   "metadata": {},
   "outputs": [],
   "source": []
  },
  {
   "cell_type": "code",
   "execution_count": null,
   "id": "43fc19c6",
   "metadata": {},
   "outputs": [],
   "source": [
    "import scipy.stats as stats\n",
    "\n",
    "#perform the Mann-Whitney U test\n",
    "stats. mannwhitneyu (group1, group2, alternative='two-sided')"
   ]
  },
  {
   "cell_type": "code",
   "execution_count": null,
   "id": "53273da1",
   "metadata": {},
   "outputs": [],
   "source": []
  }
 ],
 "metadata": {
  "kernelspec": {
   "display_name": "Python 3 (ipykernel)",
   "language": "python",
   "name": "python3"
  },
  "language_info": {
   "codemirror_mode": {
    "name": "ipython",
    "version": 3
   },
   "file_extension": ".py",
   "mimetype": "text/x-python",
   "name": "python",
   "nbconvert_exporter": "python",
   "pygments_lexer": "ipython3",
   "version": "3.10.0"
  }
 },
 "nbformat": 4,
 "nbformat_minor": 5
}
