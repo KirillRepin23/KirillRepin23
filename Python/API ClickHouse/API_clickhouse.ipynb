{
  "cells": [
    {
      "cell_type": "markdown",
      "source": [
        "### **Блок импорта библиотек, подключения к GDrive**"
      ],
      "metadata": {
        "id": "cwAo-olZevQN"
      },
      "id": "cwAo-olZevQN"
    },
    {
      "cell_type": "code",
      "execution_count": null,
      "id": "d3c07a91",
      "metadata": {
        "id": "d3c07a91",
        "pycharm": {
          "name": "#%%\n"
        }
      },
      "outputs": [],
      "source": [
        "import glob\n",
        "import requests\n",
        "import datetime\n",
        "import pandas as pd\n",
        "from io import StringIO \n",
        "from IPython.display import display  # Для удобного вывода df (вместо print)\n",
        "from google.oauth2 import service_account"
      ]
    },
    {
      "cell_type": "markdown",
      "source": [
        "В рамках конкретной задачи нужно создать на своем Google Drive папку с файлами для проекта, где вы разместите датасеты, сертификаты для доступа к БД клиента, readme, другие инструкции и т.д. (в настоящей инструкции это папка **Colab_Notebooks**)."
      ],
      "metadata": {
        "id": "hOJbcubSx1nm"
      },
      "id": "hOJbcubSx1nm"
    },
    {
      "cell_type": "code",
      "execution_count": null,
      "id": "k5ZYM8mVpCpF",
      "metadata": {
        "colab": {
          "base_uri": "https://localhost:8080/"
        },
        "id": "k5ZYM8mVpCpF",
        "outputId": "53754842-e569-4bfc-c0e5-b49d69d0daa6"
      },
      "outputs": [
        {
          "output_type": "stream",
          "name": "stdout",
          "text": [
            "Mounted at /content/drive\n"
          ]
        }
      ],
      "source": [
        "# Подключаем Google Drive к Google Сolab (при работе с файлами на собственном GDrive)\n",
        "# Можно иначе, подробнее здесь: https://colab.research.google.com/notebooks/io.ipynb\n",
        "\n",
        "from google.colab import drive\n",
        "drive.mount('/content/drive')"
      ]
    },
    {
      "cell_type": "markdown",
      "source": [
        "### **Блок формирования класса, где описываем набор функций для работы с CH**"
      ],
      "metadata": {
        "id": "L1gYscZTfDsY"
      },
      "id": "L1gYscZTfDsY"
    },
    {
      "cell_type": "code",
      "execution_count": null,
      "id": "561a1be6",
      "metadata": {
        "id": "561a1be6",
        "pycharm": {
          "name": "#%%\n"
        }
      },
      "outputs": [],
      "source": [
        "class simple_ch_client():\n",
        "    \n",
        "    # Инициализация\n",
        "\n",
        "    def __init__(self, CH_HOST, CH_USER, CH_PASS, cacert):\n",
        "        self.CH_HOST = CH_HOST\n",
        "        self.CH_USER = CH_USER\n",
        "        self.CH_PASS = CH_PASS\n",
        "        self.cacert = cacert\n",
        "\n",
        "    # Проверка подключения к CH (в случае успеха выводит в результате используемую версию CH, например, 22.5.4.19)\n",
        "\n",
        "    def get_version(self):\n",
        "        url = '{host}/?database={db}&query={query}'.format(\n",
        "                host=self.CH_HOST,\n",
        "                db='default',\n",
        "                query='SELECT version()')\n",
        "\n",
        "        auth = {\n",
        "                'X-ClickHouse-User': self.CH_USER,\n",
        "                'X-ClickHouse-Key': self.CH_PASS,\n",
        "            }\n",
        "\n",
        "        rs = requests.get(url, headers=auth, verify=self.cacert)\n",
        "        # \n",
        "        rs.raise_for_status()\n",
        "\n",
        "        print(rs.text)\n",
        "\n",
        "    # SQL-запрос в CH\n",
        "    \n",
        "    def get_clickhouse_data(self, query, connection_timeout = 1500):\n",
        "        r = requests.post(self.CH_HOST, params = {'query': query, 'user': self.CH_USER, 'password':self.CH_PASS}, timeout = connection_timeout, verify=self.cacert)\n",
        "        if r.status_code == 200:\n",
        "            return r.text\n",
        "        else:\n",
        "            raise ValueError(r.text)\n",
        "\n",
        "    # Выгрузка данных из CH в формате pandas dataframe\n",
        "\n",
        "    def get_clickhouse_df(self, query, columns_name, connection_timeout = 1500):\n",
        "        data = self.get_clickhouse_data(query, connection_timeout=connection_timeout) \n",
        "        df = pd.read_csv(StringIO(data), names = columns_name, index_col=False, sep = '\\t')\n",
        "        return df\n",
        "\n",
        "    # Загрузка данных в CH клиента\n",
        "    \n",
        "    def upload(self, table, content, data_format='TabSeparatedWithNames'): #CSVWithNames TabSeparatedWithNames JSONEachRow\n",
        "        content = content.encode('utf-8')\n",
        "        query_dict = {\n",
        "                'query': 'INSERT INTO {table} FORMAT {data_format} '.format(table=table, data_format=data_format),\n",
        "                'user': self.CH_USER, \n",
        "                'password':self.CH_PASS,\n",
        "                'input_format_import_nested_json': 1\n",
        "            \n",
        "            }\n",
        "        r = requests.post(self.CH_HOST, data=content, params=query_dict, verify=self.cacert)\n",
        "        result = r.text\n",
        "        if r.status_code == 200:\n",
        "            return result\n",
        "        else:\n",
        "            raise ValueError(r.text)"
      ]
    },
    {
      "cell_type": "markdown",
      "source": [
        "### **Блок ввода данных для доступа и проверки подключения к CH**\n",
        "\n",
        "Данные для доступа (CH_HOST_NAME, CH_USER, CH_PASS, CH_DB_NAME) необходимо запросить у своего руководителя или аккаунт-менеджера "
      ],
      "metadata": {
        "id": "0yfleNGDhu1X"
      },
      "id": "0yfleNGDhu1X"
    },
    {
      "cell_type": "code",
      "execution_count": null,
      "id": "e1a34d14",
      "metadata": {
        "colab": {
          "base_uri": "https://localhost:8080/"
        },
        "id": "e1a34d14",
        "outputId": "e89b5281-43ce-480e-9cb9-a75d2792305d",
        "pycharm": {
          "name": "#%%\n"
        }
      },
      "outputs": [
        {
          "output_type": "stream",
          "name": "stdout",
          "text": [
            "22.5.4.19\n",
            "\n"
          ]
        }
      ],
      "source": [
        "Shard1a = 'example1.mdb.yandexcloud.net' # Имя хоста в CH, к которому хотим подключиться (вариант №1)\n",
        "Shard1b = 'example2.mdb.yandexcloud.net' # Имя хоста в CH, к которому хотим подключиться (вариант №2)\n",
        "\n",
        "#----------Вводим данные доступов в переменные CH_USER, CH_PASS, CH_DB_NAME--------------\n",
        "CH_HOST_NAME =  Shard1b #выбираем имя хоста\n",
        "CH_USER      = 'example****' #вводим имя пользователя\n",
        "CH_PASS      = 'exa*******' #вводим пасс\n",
        "CH_DB_NAME   = 'example*****' #вводим имя датасета\n",
        "CH_HOST      = f'https://{CH_HOST_NAME}:8443'\n",
        "CH_CASERT    = r'/content/drive/MyDrive/Colab_Notebooks/CA.pem' #пропишите путь к сертификату CA.pem (сам сертификат можно скачать на сайте ClickHouse либо запросить инфо у аккаунт-менеджера или руководителя )\n",
        "\n",
        "my_client = simple_ch_client(CH_HOST, CH_USER, CH_PASS, CH_CASERT)\n",
        "my_client.get_version()"
      ]
    },
    {
      "cell_type": "markdown",
      "id": "cff3f356",
      "metadata": {
        "id": "cff3f356"
      },
      "source": [
        "### **Блок удаления/создания таблиц в CH**"
      ]
    },
    {
      "cell_type": "code",
      "execution_count": null,
      "id": "77521dfa",
      "metadata": {
        "id": "77521dfa",
        "pycharm": {
          "name": "#%%\n"
        },
        "colab": {
          "base_uri": "https://localhost:8080/",
          "height": 35
        },
        "outputId": "dd4be1fe-7a34-4901-aeb2-8c44303554bb"
      },
      "outputs": [
        {
          "output_type": "execute_result",
          "data": {
            "text/plain": [
              "''"
            ],
            "application/vnd.google.colaboratory.intrinsic+json": {
              "type": "string"
            }
          },
          "metadata": {},
          "execution_count": 7
        }
      ],
      "source": [
        "# Удаление таблицы из CH\n",
        "sql = f'drop table if exists example_costs.costs_YD_tmp_test_kr'\n",
        "my_client.get_clickhouse_data(sql)\n",
        "\n",
        "\n",
        "# Создание пустой таблицы в CH (формирование нейминга столбцов необходимо осуществить исходя из требований вашей задачи)\n",
        "sql = '''\n",
        "CREATE TABLE example_costs.costs_YD_tmp_test_kr\n",
        "(\n",
        "    `date` Date,\n",
        "    `source` Nullable(String),\n",
        "    `medium` Nullable(String),\n",
        "    `campaign` Nullable(String),\n",
        "    `CampaignType` Nullable(String),\n",
        "    `CampaignId` Nullable(String),\n",
        "    `AdGroupName` Nullable(String),\n",
        "    `AdGroupId` Nullable(String),\n",
        "    `AdId` Nullable(String),\n",
        "    `CriterionType` Nullable(String),\n",
        "    `Criterion` Nullable(String),\n",
        "    `CriterionId` Nullable(String), \n",
        "    `views` Nullable(UInt32),\n",
        "    `clicks` Nullable(UInt32),\n",
        "    `cost` Nullable(Int32),\n",
        "    `cost_nds` Nullable(Int32),\n",
        "    `cost_with_nds_AK` Nullable(Int32),\n",
        "    `product` Nullable(String)\n",
        "\n",
        ")\n",
        "ENGINE = MergeTree\n",
        "PARTITION BY toYYYYMM(toDate(date))\n",
        "ORDER BY toDate(date)\n",
        "'''\n",
        "my_client.get_clickhouse_data(sql)"
      ]
    },
    {
      "cell_type": "markdown",
      "source": [
        "### **Блок выгрузки таблиц из CH в формате pandas dataframe** "
      ],
      "metadata": {
        "id": "RulHSrfy3HFp"
      },
      "id": "RulHSrfy3HFp"
    },
    {
      "cell_type": "code",
      "source": [
        "# Формируем переменную с набором имен столбцов для датафрейма, который планируем выгружать из CH\n",
        "\n",
        "cols_df = ['date','source', 'medium','campaign', 'CampaignType', 'CampaignId', 'AdGroupName', 'AdGroupId', 'AdId', 'CriterionType', 'Criterion', 'CriterionId', 'views', 'clicks', 'cost', 'cost_nds', 'cost_with_nds_AK', 'product']\n",
        "\n",
        "# Пишем запрос, получаем данные из CH в формате pandas dataframe\n",
        "query = \"\"\"\n",
        "SELECT*    \n",
        "FROM example_costs.costs_YD_tmp_test_kr\n",
        "\"\"\"\n",
        "df_ch = my_client.get_clickhouse_df(query, columns_name=cols_df)"
      ],
      "metadata": {
        "id": "sos_vcnc3ZSY"
      },
      "id": "sos_vcnc3ZSY",
      "execution_count": null,
      "outputs": []
    },
    {
      "cell_type": "markdown",
      "source": [
        "### **Блок выгрузки таблиц из BigQuery в формате pandas dataframe**"
      ],
      "metadata": {
        "id": "eG6ZYaaHyuKe"
      },
      "id": "eG6ZYaaHyuKe"
    },
    {
      "cell_type": "code",
      "source": [
        "# Прописываем адрес к файлу с данными по сервисному аккаунту и получаем credentials для доступа к данным\n",
        "credentials = service_account.Credentials.from_service_account_file(\n",
        "    'example.json')\n",
        "\n",
        "# Указываем project_id в BQ\n",
        "\n",
        "project_id = 'example-152714'"
      ],
      "metadata": {
        "id": "-P3kzMH5y6aC"
      },
      "id": "-P3kzMH5y6aC",
      "execution_count": null,
      "outputs": []
    },
    {
      "cell_type": "code",
      "source": [
        "# Пишем запрос, получаем данные из BQ в формате pandas dataframe\n",
        "query = '''\n",
        "SELECT *\n",
        "FROM\n",
        "    `example-152714`.`example_project`.`af_purchase_events`\n",
        "'''\n",
        "\n",
        "df_bq = pd.read_gbq(query, project_id=project_id, credentials=credentials)"
      ],
      "metadata": {
        "id": "9yNAPZ3Zz07L"
      },
      "id": "9yNAPZ3Zz07L",
      "execution_count": null,
      "outputs": []
    },
    {
      "cell_type": "markdown",
      "id": "b0d2d3fa",
      "metadata": {
        "id": "b0d2d3fa",
        "pycharm": {
          "name": "#%% md\n"
        }
      },
      "source": [
        "### **Блок выгрузки таблиц (форматы .xls, .xlsx, .csv) из GDrive или локального диска с последующим преобразованием данных**  \n",
        "\n",
        "*в настоящей инструкции:*\n",
        "\n",
        "*- таблицы предварительно были загружены на GDrive*\n",
        "\n",
        "*- в качестве примера приведены данные по расходам на Яндекс-Директ, банковский продукт РКО*\n"
      ]
    },
    {
      "cell_type": "code",
      "execution_count": null,
      "id": "7e34e942",
      "metadata": {
        "id": "7e34e942",
        "pycharm": {
          "name": "#%%\n"
        }
      },
      "outputs": [],
      "source": [
        "# Создаем переменную, которая содержит названия столбцов подгружаемой таблицы костов (xls, xlsx, csv)\n",
        "\n",
        "cols = ['date',\n",
        "        'source',\n",
        "        'medium',\n",
        "        'campaign',\n",
        "        'CampaignType',\n",
        "        'CampaignId',\n",
        "        'AdGroupName',\n",
        "        'AdGroupId',\n",
        "        'AdId',\n",
        "        'CriterionType',\n",
        "        'Criterion',\n",
        "        'CriterionId', \n",
        "        'views',\n",
        "        'clicks',\n",
        "        'cost',\n",
        "        'cost_nds',\n",
        "        'cost_with_nds_AK']\n",
        "\n",
        "# Функция для открытия таблицы костов (.xls, .xlsx, .csv) в формате pandas dataframe \n",
        "\n",
        "def read_files_YD(file_path, product, cols) -> pd.DataFrame:\n",
        "    tmp = pd.read_excel(file_path, thousands=' ') # при считывании таблиц в формате .csv используем функцию pd.read_csv()   \n",
        "    tmp = tmp.iloc[:, :17]\n",
        "    tmp.columns = cols\n",
        "    \n",
        "    tmp['date'] = tmp['date'].astype('datetime64[ns]')\n",
        "    tmp['views'] = tmp['views'].fillna(0).astype('int')\n",
        "    tmp['clicks'] = tmp['clicks'].fillna(0).astype('int')    \n",
        "    tmp[['source', 'medium', 'campaign', 'CampaignType', 'CampaignId', 'AdGroupName', 'AdGroupId', 'AdId', 'CriterionType', 'Criterion', 'CriterionId']] = tmp[['source', 'medium', 'campaign', 'CampaignType', 'CampaignId', 'AdGroupName', 'AdGroupId', 'AdId', 'CriterionType', 'Criterion', 'CriterionId']].fillna('')\n",
        "    tmp['product'] = product\n",
        "    \n",
        "    return tmp"
      ]
    },
    {
      "cell_type": "code",
      "execution_count": null,
      "id": "09bac871",
      "metadata": {
        "id": "09bac871",
        "pycharm": {
          "name": "#%%\n"
        }
      },
      "outputs": [],
      "source": [
        "# Формируем перечень таблиц костов (файлов), которые предварительно были размещены в папке на GDrive (в настоящей инструкции это папка Colab_Notebooks) или локальном диске\n",
        "\n",
        "file = glob.glob(r'/content/drive/MyDrive/Colab_Notebooks/*.xlsx') #прописать путь к папке с таблицами костов, указав нужный формат файлов\n",
        "files = pd.DataFrame({'file': file})\n",
        "files['product'] = None\n",
        "\n",
        "# Указываем правило, по которому будем определять к какому банковскому продукту относится та или иная найденная таблица костов (файлы)\n",
        "\n",
        "for i in range(len(files)):\n",
        "    if 'Debit_Cards' in files['file'][i]:\n",
        "        files['product'][i] = 'Debit_Cards'\n",
        "        \n",
        "    elif 'Invest' in files['file'][i]:\n",
        "        files['product'][i] = 'Invest'\n",
        "        \n",
        "    elif 'Ipoteka' in files['file'][i]:\n",
        "        files['product'][i] = 'Ipoteka'\n",
        "        \n",
        "    elif 'Credit_Cards' in files['file'][i]:\n",
        "        files['product'][i] = 'Credit_Cards'\n",
        "\n",
        "    elif 'Startup' in files['file'][i]:\n",
        "        files['product'][i] = 'Startup'\n",
        "\n",
        "    elif 'RegBiz' in files['file'][i]:\n",
        "        files['product'][i] = 'RegBiz'\n",
        "\n",
        "    elif 'PIL_knpz' in files['file'][i]:\n",
        "        files['product'][i] = 'PIL_knpz' \n",
        "        \n",
        "    elif 'PIL' in files['file'][i]:\n",
        "        files['product'][i] = 'PIL'\n",
        "        \n",
        "    elif 'RKO_sbp' in files['file'][i]:\n",
        "        files['product'][i] = 'RKO_sbp'\n",
        "    \n",
        "    elif 'RKO_acq' in files['file'][i]:\n",
        "        files['product'][i] = 'RKO_acq'\n",
        "        \n",
        "    elif 'RKO_ved' in files['file'][i]:\n",
        "        files['product'][i] = 'RKO_ved'        \n",
        "        \n",
        "    elif 'RKO_garant' in files['file'][i]:\n",
        "        files['product'][i] = 'RKO_garant'     \n",
        "\n",
        "    elif 'RKO_kdb' in files['file'][i]:\n",
        "        files['product'][i] = 'RKO_kdb'  \n",
        "\n",
        "    elif 'RKO' in files['file'][i]:\n",
        "        files['product'][i] = 'RKO'                    "
      ]
    },
    {
      "cell_type": "code",
      "execution_count": null,
      "id": "20649cab",
      "metadata": {
        "id": "20649cab",
        "pycharm": {
          "name": "#%%\n"
        }
      },
      "outputs": [],
      "source": [
        "# Проверяем чтобы каждой таблице костов (файлу) соответствовал банковский продукт\n",
        "files"
      ]
    },
    {
      "cell_type": "code",
      "execution_count": null,
      "id": "0bbd671e",
      "metadata": {
        "colab": {
          "base_uri": "https://localhost:8080/"
        },
        "id": "0bbd671e",
        "outputId": "d86cdfec-71ef-4a29-a908-68b6c01d904f",
        "pycharm": {
          "name": "#%%\n"
        }
      },
      "outputs": [
        {
          "output_type": "stream",
          "name": "stdout",
          "text": [
            "RKO\n"
          ]
        }
      ],
      "source": [
        "# Обработка найденых таблиц костов (файлов) - пишем все данные в единый датафрейм\n",
        "df = pd.DataFrame()\n",
        "\n",
        "for i in range(len(files)):\n",
        "    print(files['product'][i])\n",
        "    tmp = read_files_YD(files['file'][i], files['product'][i], cols)\n",
        "    \n",
        "    \n",
        "    df = df.append(tmp)\n",
        "    #df = df.concat(tmp)"
      ]
    },
    {
      "cell_type": "code",
      "execution_count": null,
      "id": "797fdfa5",
      "metadata": {
        "id": "797fdfa5",
        "pycharm": {
          "name": "#%%\n"
        },
        "scrolled": true
      },
      "outputs": [],
      "source": [
        "# Уточняем типы данных, содержащихся в датафрейме\n",
        "\n",
        "df['cost'] = df['cost'].astype('float').round().astype('int64')\n",
        "df['cost_nds'] = df['cost_nds'].astype('float').round().astype('int64')\n",
        "df['cost_with_nds_AK'] = df['cost_with_nds_AK'].astype('float').round().astype('int64')"
      ]
    },
    {
      "cell_type": "code",
      "execution_count": null,
      "id": "f855700a",
      "metadata": {
        "id": "f855700a",
        "pycharm": {
          "name": "#%%\n"
        }
      },
      "outputs": [],
      "source": [
        "# Проверяем итоговый датафрейм\n",
        "\n",
        "df.info()"
      ]
    },
    {
      "cell_type": "markdown",
      "id": "b1789b43",
      "metadata": {
        "id": "b1789b43",
        "pycharm": {
          "name": "#%% md\n"
        }
      },
      "source": [
        "### **Загрузка итогового датафрейма в CH клиента**"
      ]
    },
    {
      "cell_type": "code",
      "execution_count": null,
      "id": "a66de9c8",
      "metadata": {
        "colab": {
          "base_uri": "https://localhost:8080/",
          "height": 35
        },
        "id": "a66de9c8",
        "outputId": "e5b2112f-fb29-4623-c15f-4e2a3fb20ee7",
        "pycharm": {
          "name": "#%%\n"
        }
      },
      "outputs": [
        {
          "output_type": "execute_result",
          "data": {
            "text/plain": [
              "''"
            ],
            "application/vnd.google.colaboratory.intrinsic+json": {
              "type": "string"
            }
          },
          "metadata": {},
          "execution_count": 15
        }
      ],
      "source": [
        "my_client.upload(\n",
        "    f'example_costs.costs_YD_tmp_test_kr',\n",
        "    df.to_csv(index = False, sep = '\\t', line_terminator = '\\n'))    "
      ]
    }
  ],
  "metadata": {
    "colab": {
      "provenance": []
    },
    "kernelspec": {
      "display_name": "Python 3 (ipykernel)",
      "language": "python",
      "name": "python3"
    },
    "language_info": {
      "codemirror_mode": {
        "name": "ipython",
        "version": 3
      },
      "file_extension": ".py",
      "mimetype": "text/x-python",
      "name": "python",
      "nbconvert_exporter": "python",
      "pygments_lexer": "ipython3",
      "version": "3.9.12"
    }
  },
  "nbformat": 4,
  "nbformat_minor": 5
}