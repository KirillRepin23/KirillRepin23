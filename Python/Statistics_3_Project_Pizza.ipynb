{
 "cells": [
  {
   "cell_type": "markdown",
   "id": "0809e418",
   "metadata": {},
   "source": [
    "**Задание\n",
    "Представьте, что вы работаете аналитиком в очень крупной компании по доставке пиццы над приложением для курьеров (да, обычно в таких компаниях есть приложение для курьеров и отдельно приложение для потребителей).**\n",
    "\n",
    "**У вас есть несколько ресторанов в разных частях города и целый штат курьеров. Но есть одна проблема — к вечеру скорость доставки падает из-за того, что курьеры уходят домой после рабочего дня, а количество заказов лишь растет. Это приводит к тому, что в момент пересмены наша доставка очень сильно проседает в эффективности.** \n",
    "\n",
    "**Наши data scientist-ы придумали новый алгоритм, который позволяет курьерам запланировать свои последние заказы перед окончанием рабочего дня так, чтобы их маршрут доставки совпадал с маршрутом до дома. То есть, чтобы курьеры доставляли последние свои заказы за день как бы \"по пути\" домой.** \n",
    "\n",
    "**Вы вместе с командой решили раскатить A/B тест на две равные группы курьеров. Часть курьеров использует старый алгоритм без опции \"по пути\", другие видят в своем приложении эту опцию и могут ее выбрать. Ваша задача – проанализировать данные эксперимента и помочь бизнесу принять решение о раскатке новой фичи на всех курьеров.**\n",
    "\n",
    "Описание данных\n",
    "\n",
    " - order_id - id заказа\n",
    " - delivery_time - время доставки в минутах\n",
    " - district - район доставки\n",
    " - experiment_group - экспериментальная группа"
   ]
  },
  {
   "cell_type": "code",
   "execution_count": 33,
   "id": "5aa189a8",
   "metadata": {},
   "outputs": [],
   "source": [
    "#Загружаем необходимые библиотеки\n",
    "\n",
    "import pandas as pd\n",
    "import numpy as np\n",
    "%matplotlib inline\n",
    "import matplotlib.pyplot as plt\n",
    "import seaborn as sns\n",
    "import scipy as sp\n",
    "from scipy import stats"
   ]
  },
  {
   "cell_type": "code",
   "execution_count": 3,
   "id": "ad3e6c5f",
   "metadata": {},
   "outputs": [],
   "source": [
    "# Считываем данные из .csv файла\n",
    "\n",
    "df = pd.read_csv('experiment_lesson_4.csv')"
   ]
  },
  {
   "cell_type": "code",
   "execution_count": 7,
   "id": "097484e5",
   "metadata": {},
   "outputs": [
    {
     "data": {
      "text/html": [
       "<div>\n",
       "<style scoped>\n",
       "    .dataframe tbody tr th:only-of-type {\n",
       "        vertical-align: middle;\n",
       "    }\n",
       "\n",
       "    .dataframe tbody tr th {\n",
       "        vertical-align: top;\n",
       "    }\n",
       "\n",
       "    .dataframe thead th {\n",
       "        text-align: right;\n",
       "    }\n",
       "</style>\n",
       "<table border=\"1\" class=\"dataframe\">\n",
       "  <thead>\n",
       "    <tr style=\"text-align: right;\">\n",
       "      <th></th>\n",
       "      <th>order_id</th>\n",
       "      <th>delivery_time</th>\n",
       "      <th>district</th>\n",
       "      <th>experiment_group</th>\n",
       "    </tr>\n",
       "  </thead>\n",
       "  <tbody>\n",
       "    <tr>\n",
       "      <th>0</th>\n",
       "      <td>3159</td>\n",
       "      <td>44.0</td>\n",
       "      <td>Purlieus</td>\n",
       "      <td>control</td>\n",
       "    </tr>\n",
       "    <tr>\n",
       "      <th>1</th>\n",
       "      <td>10426</td>\n",
       "      <td>51.0</td>\n",
       "      <td>Purlieus</td>\n",
       "      <td>control</td>\n",
       "    </tr>\n",
       "    <tr>\n",
       "      <th>2</th>\n",
       "      <td>9155</td>\n",
       "      <td>46.0</td>\n",
       "      <td>Purlieus</td>\n",
       "      <td>control</td>\n",
       "    </tr>\n",
       "    <tr>\n",
       "      <th>3</th>\n",
       "      <td>10699</td>\n",
       "      <td>34.0</td>\n",
       "      <td>Purlieus</td>\n",
       "      <td>control</td>\n",
       "    </tr>\n",
       "    <tr>\n",
       "      <th>4</th>\n",
       "      <td>10061</td>\n",
       "      <td>43.0</td>\n",
       "      <td>Purlieus</td>\n",
       "      <td>control</td>\n",
       "    </tr>\n",
       "    <tr>\n",
       "      <th>...</th>\n",
       "      <td>...</td>\n",
       "      <td>...</td>\n",
       "      <td>...</td>\n",
       "      <td>...</td>\n",
       "    </tr>\n",
       "    <tr>\n",
       "      <th>20191</th>\n",
       "      <td>14561</td>\n",
       "      <td>42.0</td>\n",
       "      <td>Suburb</td>\n",
       "      <td>test</td>\n",
       "    </tr>\n",
       "    <tr>\n",
       "      <th>20192</th>\n",
       "      <td>12015</td>\n",
       "      <td>32.0</td>\n",
       "      <td>Suburb</td>\n",
       "      <td>test</td>\n",
       "    </tr>\n",
       "    <tr>\n",
       "      <th>20193</th>\n",
       "      <td>20077</td>\n",
       "      <td>23.0</td>\n",
       "      <td>Purlieus</td>\n",
       "      <td>test</td>\n",
       "    </tr>\n",
       "    <tr>\n",
       "      <th>20194</th>\n",
       "      <td>14861</td>\n",
       "      <td>41.0</td>\n",
       "      <td>Central</td>\n",
       "      <td>test</td>\n",
       "    </tr>\n",
       "    <tr>\n",
       "      <th>20195</th>\n",
       "      <td>13501</td>\n",
       "      <td>41.0</td>\n",
       "      <td>Central</td>\n",
       "      <td>test</td>\n",
       "    </tr>\n",
       "  </tbody>\n",
       "</table>\n",
       "<p>20196 rows × 4 columns</p>\n",
       "</div>"
      ],
      "text/plain": [
       "       order_id  delivery_time  district experiment_group\n",
       "0          3159           44.0  Purlieus          control\n",
       "1         10426           51.0  Purlieus          control\n",
       "2          9155           46.0  Purlieus          control\n",
       "3         10699           34.0  Purlieus          control\n",
       "4         10061           43.0  Purlieus          control\n",
       "...         ...            ...       ...              ...\n",
       "20191     14561           42.0    Suburb             test\n",
       "20192     12015           32.0    Suburb             test\n",
       "20193     20077           23.0  Purlieus             test\n",
       "20194     14861           41.0   Central             test\n",
       "20195     13501           41.0   Central             test\n",
       "\n",
       "[20196 rows x 4 columns]"
      ]
     },
     "execution_count": 7,
     "metadata": {},
     "output_type": "execute_result"
    }
   ],
   "source": [
    "# Проверяем информацию о ДФ\n",
    "\n",
    "df"
   ]
  },
  {
   "cell_type": "code",
   "execution_count": 5,
   "id": "530fc08a",
   "metadata": {},
   "outputs": [
    {
     "name": "stdout",
     "output_type": "stream",
     "text": [
      "<class 'pandas.core.frame.DataFrame'>\n",
      "RangeIndex: 20196 entries, 0 to 20195\n",
      "Data columns (total 4 columns):\n",
      " #   Column            Non-Null Count  Dtype  \n",
      "---  ------            --------------  -----  \n",
      " 0   order_id          20196 non-null  int64  \n",
      " 1   delivery_time     20196 non-null  float64\n",
      " 2   district          20196 non-null  object \n",
      " 3   experiment_group  20196 non-null  object \n",
      "dtypes: float64(1), int64(1), object(2)\n",
      "memory usage: 631.2+ KB\n"
     ]
    }
   ],
   "source": [
    "df.info()"
   ]
  },
  {
   "cell_type": "code",
   "execution_count": 9,
   "id": "b5bc0d42",
   "metadata": {},
   "outputs": [
    {
     "data": {
      "text/plain": [
       "array(['control', 'test'], dtype=object)"
      ]
     },
     "execution_count": 9,
     "metadata": {},
     "output_type": "execute_result"
    }
   ],
   "source": [
    "# Проверяем уникальные значения в колонке experiment_group\n",
    "\n",
    "df.experiment_group.unique()"
   ]
  },
  {
   "cell_type": "code",
   "execution_count": 23,
   "id": "b3f2e88e",
   "metadata": {},
   "outputs": [
    {
     "data": {
      "text/plain": [
       "array(['Purlieus', 'Central', 'Suburb'], dtype=object)"
      ]
     },
     "execution_count": 23,
     "metadata": {},
     "output_type": "execute_result"
    }
   ],
   "source": [
    "# Проверяем уникальные значения в колонке district\n",
    "\n",
    "df.district.unique()"
   ]
  },
  {
   "cell_type": "markdown",
   "id": "416c6015",
   "metadata": {},
   "source": [
    "**Для начала давайте сформулируем гипотезы для проверки. Выберите статистические гипотезы, которые мы сможем проверить в этом эксперименте:**\n",
    "\n",
    " - ~~Альтернативная гипотеза (H1): Разницы между средним временем доставки в тестовой и контрольной нет~~\n",
    " - Нулевая гипотеза (H0): Разницы между средним временем доставки в тестовой и контрольной группе нет **(+)**\n",
    " - ~~Нулевая гипотеза (H0): Изменение алгоритма не влияет на скорость доставки~~\n",
    " - Альтернативная гипотеза (H1): Разница между средним временем доставки в тестовой и контрольной группе есть **(+)**\n",
    " - ~~Нулевая гипотеза (H0): Разница между средним временем доставки в тестовой и контрольной группе есть~~\n",
    " - ~~Альтернативная гипотеза (H1): Изменение алгоритма влияет на скорость доставки~~"
   ]
  },
  {
   "cell_type": "markdown",
   "id": "6ee7f43b",
   "metadata": {},
   "source": [
    "**Сопоставьте графики распределения и  экспериментальные группы**"
   ]
  },
  {
   "cell_type": "code",
   "execution_count": 10,
   "id": "08bcb94f",
   "metadata": {},
   "outputs": [],
   "source": [
    "# Настройка графиков по умолчанию\n",
    "sns.set(\n",
    "    font_scale =1.5,\n",
    "    style      =\"whitegrid\",\n",
    "    rc         ={'figure.figsize':(20,20)}\n",
    ")"
   ]
  },
  {
   "cell_type": "code",
   "execution_count": 24,
   "id": "a2858844",
   "metadata": {},
   "outputs": [
    {
     "data": {
      "text/plain": [
       "district\n",
       "Central     AxesSubplot(0.125,0.125;0.775x0.755)\n",
       "Purlieus    AxesSubplot(0.125,0.125;0.775x0.755)\n",
       "Suburb      AxesSubplot(0.125,0.125;0.775x0.755)\n",
       "Name: delivery_time, dtype: object"
      ]
     },
     "execution_count": 24,
     "metadata": {},
     "output_type": "execute_result"
    },
    {
     "data": {
      "image/png": "[encoded data removed]",
      "text/plain": [
       "<Figure size 1440x1440 with 1 Axes>"
      ]
     },
     "metadata": {},
     "output_type": "display_data"
    }
   ],
   "source": [
    "# Строим графики распределения с разделением на експериментальные группы и группировкой по district\n",
    "\n",
    "df.query(\"experiment_group == 'test'\").groupby('district').delivery_time.hist()"
   ]
  },
  {
   "cell_type": "code",
   "execution_count": 25,
   "id": "2260d28e",
   "metadata": {},
   "outputs": [
    {
     "data": {
      "text/plain": [
       "district\n",
       "Central     AxesSubplot(0.125,0.125;0.775x0.755)\n",
       "Purlieus    AxesSubplot(0.125,0.125;0.775x0.755)\n",
       "Suburb      AxesSubplot(0.125,0.125;0.775x0.755)\n",
       "Name: delivery_time, dtype: object"
      ]
     },
     "execution_count": 25,
     "metadata": {},
     "output_type": "execute_result"
    },
    {
     "data": {
      "image/png": "[encoded data removed]",
      "text/plain": [
       "<Figure size 1440x1440 with 1 Axes>"
      ]
     },
     "metadata": {},
     "output_type": "display_data"
    }
   ],
   "source": [
    "df.query(\"experiment_group == 'control'\").groupby('district').delivery_time.hist()"
   ]
  },
  {
   "cell_type": "markdown",
   "id": "c088a02f",
   "metadata": {},
   "source": [
    "**Посчитайте количество наблюдений в тестовой и контрольной группе. На сколько по модулю отличается количество наблюдений в тесте и контроле?**"
   ]
  },
  {
   "cell_type": "code",
   "execution_count": 27,
   "id": "a949b8d2",
   "metadata": {},
   "outputs": [
    {
     "data": {
      "text/plain": [
       "12"
      ]
     },
     "execution_count": 27,
     "metadata": {},
     "output_type": "execute_result"
    }
   ],
   "source": [
    "df.experiment_group.value_counts().max()-df.experiment_group.value_counts().min()"
   ]
  },
  {
   "cell_type": "markdown",
   "id": "f41098b2",
   "metadata": {},
   "source": [
    "**Теперь давайте изучим наши распределения. Проверим выполнение условий на нормальность и посчитаем стандартное отклонение в тесте и в контроле.**\n",
    "\n",
    "**Обязательно сделайте семплирование перед применением критерия при проверке на нормальность (и для теста, и для контроля), так как на больших выборках вы можете получать неверные результаты.**\n",
    "\n",
    "**Чувствительность любого теста зависит от размера выборки. Это касается и теста Шапиро-Уилка - на больших выборках он детектирует даже самые незначительные отклонения от нормальности. Поэтому мы берём случайные 1000 значений из выборки, чтобы обойти этот недостаток.**\n",
    "\n",
    "**Есть шанс, что случайные 1000 значений всё же сформируют ненормальное распределение, поэтому рекомендуем использовать аргумент `random_state=17` для стабильности и воспроизводимости результатов.**"
   ]
  },
  {
   "cell_type": "code",
   "execution_count": 44,
   "id": "7be71c3c",
   "metadata": {},
   "outputs": [],
   "source": [
    "# Создаем рандомные выборки для групп\n",
    "\n",
    "test = df[df['experiment_group'] == 'test']['delivery_time'].sample(1000, random_state=17)\n",
    "control = df[df['experiment_group'] == 'control']['delivery_time'].sample(1000, random_state=17)"
   ]
  },
  {
   "cell_type": "code",
   "execution_count": 34,
   "id": "5ebfea0a",
   "metadata": {},
   "outputs": [
    {
     "data": {
      "text/plain": [
       "ShapiroResult(statistic=0.9975479245185852, pvalue=0.14013493061065674)"
      ]
     },
     "execution_count": 34,
     "metadata": {},
     "output_type": "execute_result"
    }
   ],
   "source": [
    "# Проверяем нормальность распределения в сформированных группах с использованием теста Шапиро-Уилка\n",
    "\n",
    "stats.shapiro(test)"
   ]
  },
  {
   "cell_type": "code",
   "execution_count": 35,
   "id": "99145591",
   "metadata": {},
   "outputs": [
    {
     "data": {
      "text/plain": [
       "ShapiroResult(statistic=0.9974725842475891, pvalue=0.12411931157112122)"
      ]
     },
     "execution_count": 35,
     "metadata": {},
     "output_type": "execute_result"
    }
   ],
   "source": [
    "stats.shapiro(control)"
   ]
  },
  {
   "cell_type": "code",
   "execution_count": 40,
   "id": "2547ddfc",
   "metadata": {},
   "outputs": [
    {
     "data": {
      "text/plain": [
       "9.88"
      ]
     },
     "execution_count": 40,
     "metadata": {},
     "output_type": "execute_result"
    }
   ],
   "source": [
    "# Считаем значения стандартного отклонения для групп test и control\n",
    "\n",
    "np.std(df[df['experiment_group'] == 'test']['delivery_time']).round(2)"
   ]
  },
  {
   "cell_type": "code",
   "execution_count": 41,
   "id": "0ce0b2a6",
   "metadata": {},
   "outputs": [
    {
     "data": {
      "text/plain": [
       "9.99"
      ]
     },
     "execution_count": 41,
     "metadata": {},
     "output_type": "execute_result"
    }
   ],
   "source": [
    "np.std(df[df['experiment_group'] == 'control']['delivery_time']).round(2)"
   ]
  },
  {
   "cell_type": "markdown",
   "id": "9a457f45",
   "metadata": {},
   "source": [
    "**Пришло время сравнить средние в тесте и контроле. Внимание: здесь уже не нужно пользоваться методом .sample() — он нам нужен был только для теста Шапиро-Уилка, остальные тесты надо проводить на полных данных.**"
   ]
  },
  {
   "cell_type": "code",
   "execution_count": 46,
   "id": "1f477a9a",
   "metadata": {},
   "outputs": [
    {
     "data": {
      "text/plain": [
       "Ttest_indResult(statistic=-43.03582663183714, pvalue=0.0)"
      ]
     },
     "execution_count": 46,
     "metadata": {},
     "output_type": "execute_result"
    }
   ],
   "source": [
    "# Считаем значение статистики и p-значимости\n",
    "\n",
    "stats.ttest_ind(df[df['experiment_group'] == 'test']['delivery_time'],\n",
    "                df[df['experiment_group'] == 'control']['delivery_time'])"
   ]
  },
  {
   "cell_type": "markdown",
   "id": "d69fb409",
   "metadata": {},
   "source": [
    "**На сколько процентов изменилось среднее время доставки в тестовой группе по сравнению с контрольной (округлите до сотых)?**"
   ]
  },
  {
   "cell_type": "code",
   "execution_count": 51,
   "id": "0ea6de83",
   "metadata": {},
   "outputs": [
    {
     "data": {
      "text/plain": [
       "-13.35"
      ]
     },
     "execution_count": 51,
     "metadata": {},
     "output_type": "execute_result"
    }
   ],
   "source": [
    "((df[df['experiment_group'] == 'test']['delivery_time'].mean() - df[df['experiment_group'] == 'control']['delivery_time'].mean()) / df[df['experiment_group'] == 'control']['delivery_time'].mean() * 100).round(2) "
   ]
  },
  {
   "cell_type": "markdown",
   "id": "fe5d9f39",
   "metadata": {},
   "source": [
    "**Что в итоге? Катим?**\n",
    "\n",
    " - Да, раскатываем новый алгоритм на всех, так как среднее время доставки статистически значимо изменилось. Среднее время доставки в тесте меньше, чем в контроле. **(+)**\n",
    " - ~~Да, раскатываем новый алгоритм на всех, так как среднее время доставки статистически значимо изменилось. Среднее время доставки в тесте больше, чем в контроле.~~\n",
    " - ~~Не катим, так как среднее время доставки статистически значимо не изменилось.~~\n",
    " - ~~Да, раскатываем на всех, новый алгоритм напрямую влияет на скорость доставки.~~"
   ]
  }
 ],
 "metadata": {
  "kernelspec": {
   "display_name": "Python 3 (ipykernel)",
   "language": "python",
   "name": "python3"
  },
  "language_info": {
   "codemirror_mode": {
    "name": "ipython",
    "version": 3
   },
   "file_extension": ".py",
   "mimetype": "text/x-python",
   "name": "python",
   "nbconvert_exporter": "python",
   "pygments_lexer": "ipython3",
   "version": "3.10.0"
  }
 },
 "nbformat": 4,
 "nbformat_minor": 5
}
